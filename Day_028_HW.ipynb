{
  "nbformat": 4,
  "nbformat_minor": 0,
  "metadata": {
    "kernelspec": {
      "display_name": "Python 3",
      "language": "python",
      "name": "python3"
    },
    "language_info": {
      "codemirror_mode": {
        "name": "ipython",
        "version": 3
      },
      "file_extension": ".py",
      "mimetype": "text/x-python",
      "name": "python",
      "nbconvert_exporter": "python",
      "pygments_lexer": "ipython3",
      "version": "3.6.1"
    },
    "colab": {
      "name": "Day_028_HW.ipynb",
      "provenance": [],
      "include_colab_link": true
    }
  },
  "cells": [
    {
      "cell_type": "markdown",
      "metadata": {
        "id": "view-in-github",
        "colab_type": "text"
      },
      "source": [
        "<a href=\"https://colab.research.google.com/github/semishen/ML100Days/blob/master/Day_028_HW.ipynb\" target=\"_parent\"><img src=\"https://colab.research.google.com/assets/colab-badge.svg\" alt=\"Open In Colab\"/></a>"
      ]
    },
    {
      "cell_type": "markdown",
      "metadata": {
        "collapsed": true,
        "id": "vQcqkfXHuj2c",
        "colab_type": "text"
      },
      "source": [
        "# 範例 : 計程車費率預測\n",
        "https://www.kaggle.com/c/new-york-city-taxi-fare-prediction"
      ]
    },
    {
      "cell_type": "markdown",
      "metadata": {
        "id": "ldKEN-49uj2d",
        "colab_type": "text"
      },
      "source": [
        "# [作業目標]\n",
        "- 使用並觀察特徵組合, 在計程車費率預測競賽的影響"
      ]
    },
    {
      "cell_type": "markdown",
      "metadata": {
        "id": "twFNMpDUuj2e",
        "colab_type": "text"
      },
      "source": [
        "# [作業重點]\n",
        "- 仿造範例並參考今日課程內容, 使用經緯度一圈的長度比的概念造出新特徵, 觀察有什麼影響 (In[6], Out[6])\n",
        "- 只使用上面所造的這個新特徵, 觀察有什麼影響 (In[7], Out[7])"
      ]
    },
    {
      "cell_type": "code",
      "metadata": {
        "id": "DncHheMJuj2e",
        "colab_type": "code",
        "colab": {
          "base_uri": "https://localhost:8080/",
          "height": 204
        },
        "outputId": "16e4caa9-0cfb-4378-aebc-f3387038a184"
      },
      "source": [
        "# 做完特徵工程前的所有準備\n",
        "import pandas as pd\n",
        "import numpy as np\n",
        "import datetime\n",
        "from sklearn.preprocessing import MinMaxScaler\n",
        "from sklearn.model_selection import cross_val_score\n",
        "from sklearn.linear_model import LinearRegression\n",
        "from sklearn.ensemble import GradientBoostingRegressor\n",
        "\n",
        "df = pd.read_csv('taxi_data1.csv')\n",
        "\n",
        "train_Y = df['fare_amount']\n",
        "df = df.drop(['fare_amount'] , axis=1)\n",
        "df.head()"
      ],
      "execution_count": 1,
      "outputs": [
        {
          "output_type": "execute_result",
          "data": {
            "text/html": [
              "<div>\n",
              "<style scoped>\n",
              "    .dataframe tbody tr th:only-of-type {\n",
              "        vertical-align: middle;\n",
              "    }\n",
              "\n",
              "    .dataframe tbody tr th {\n",
              "        vertical-align: top;\n",
              "    }\n",
              "\n",
              "    .dataframe thead th {\n",
              "        text-align: right;\n",
              "    }\n",
              "</style>\n",
              "<table border=\"1\" class=\"dataframe\">\n",
              "  <thead>\n",
              "    <tr style=\"text-align: right;\">\n",
              "      <th></th>\n",
              "      <th>pickup_datetime</th>\n",
              "      <th>pickup_longitude</th>\n",
              "      <th>pickup_latitude</th>\n",
              "      <th>dropoff_longitude</th>\n",
              "      <th>dropoff_latitude</th>\n",
              "      <th>passenger_count</th>\n",
              "    </tr>\n",
              "  </thead>\n",
              "  <tbody>\n",
              "    <tr>\n",
              "      <th>0</th>\n",
              "      <td>2011-10-21 23:54:10 UTC</td>\n",
              "      <td>-73.990580</td>\n",
              "      <td>40.761071</td>\n",
              "      <td>-73.981128</td>\n",
              "      <td>40.758634</td>\n",
              "      <td>2</td>\n",
              "    </tr>\n",
              "    <tr>\n",
              "      <th>1</th>\n",
              "      <td>2015-02-03 10:42:03 UTC</td>\n",
              "      <td>-73.988403</td>\n",
              "      <td>40.723431</td>\n",
              "      <td>-73.989647</td>\n",
              "      <td>40.741695</td>\n",
              "      <td>1</td>\n",
              "    </tr>\n",
              "    <tr>\n",
              "      <th>2</th>\n",
              "      <td>2014-03-16 18:58:58 UTC</td>\n",
              "      <td>-74.015785</td>\n",
              "      <td>40.715110</td>\n",
              "      <td>-74.012029</td>\n",
              "      <td>40.707888</td>\n",
              "      <td>2</td>\n",
              "    </tr>\n",
              "    <tr>\n",
              "      <th>3</th>\n",
              "      <td>2009-06-13 16:10:54 UTC</td>\n",
              "      <td>-73.977322</td>\n",
              "      <td>40.787275</td>\n",
              "      <td>-73.958030</td>\n",
              "      <td>40.778838</td>\n",
              "      <td>3</td>\n",
              "    </tr>\n",
              "    <tr>\n",
              "      <th>4</th>\n",
              "      <td>2014-06-12 03:25:56 UTC</td>\n",
              "      <td>-73.989683</td>\n",
              "      <td>40.729717</td>\n",
              "      <td>-73.982490</td>\n",
              "      <td>40.761887</td>\n",
              "      <td>3</td>\n",
              "    </tr>\n",
              "  </tbody>\n",
              "</table>\n",
              "</div>"
            ],
            "text/plain": [
              "           pickup_datetime  pickup_longitude  ...  dropoff_latitude  passenger_count\n",
              "0  2011-10-21 23:54:10 UTC        -73.990580  ...         40.758634                2\n",
              "1  2015-02-03 10:42:03 UTC        -73.988403  ...         40.741695                1\n",
              "2  2014-03-16 18:58:58 UTC        -74.015785  ...         40.707888                2\n",
              "3  2009-06-13 16:10:54 UTC        -73.977322  ...         40.778838                3\n",
              "4  2014-06-12 03:25:56 UTC        -73.989683  ...         40.761887                3\n",
              "\n",
              "[5 rows x 6 columns]"
            ]
          },
          "metadata": {
            "tags": []
          },
          "execution_count": 1
        }
      ]
    },
    {
      "cell_type": "code",
      "metadata": {
        "id": "m-jrUvROuj2i",
        "colab_type": "code",
        "colab": {
          "base_uri": "https://localhost:8080/",
          "height": 309
        },
        "outputId": "3e4a9b73-eaca-4765-f81a-1a6f83333fdd"
      },
      "source": [
        "# 時間特徵分解方式:使用datetime\n",
        "df['pickup_datetime'] = df['pickup_datetime'].apply(lambda x: datetime.datetime.strptime(x, '%Y-%m-%d %H:%M:%S UTC'))\n",
        "df['pickup_year'] = df['pickup_datetime'].apply(lambda x: datetime.datetime.strftime(x, '%Y')).astype('int64')\n",
        "df['pickup_month'] = df['pickup_datetime'].apply(lambda x: datetime.datetime.strftime(x, '%m')).astype('int64')\n",
        "df['pickup_day'] = df['pickup_datetime'].apply(lambda x: datetime.datetime.strftime(x, '%d')).astype('int64')\n",
        "df['pickup_hour'] = df['pickup_datetime'].apply(lambda x: datetime.datetime.strftime(x, '%H')).astype('int64')\n",
        "df['pickup_minute'] = df['pickup_datetime'].apply(lambda x: datetime.datetime.strftime(x, '%M')).astype('int64')\n",
        "df['pickup_second'] = df['pickup_datetime'].apply(lambda x: datetime.datetime.strftime(x, '%S')).astype('int64')\n",
        "df.head()"
      ],
      "execution_count": 2,
      "outputs": [
        {
          "output_type": "execute_result",
          "data": {
            "text/html": [
              "<div>\n",
              "<style scoped>\n",
              "    .dataframe tbody tr th:only-of-type {\n",
              "        vertical-align: middle;\n",
              "    }\n",
              "\n",
              "    .dataframe tbody tr th {\n",
              "        vertical-align: top;\n",
              "    }\n",
              "\n",
              "    .dataframe thead th {\n",
              "        text-align: right;\n",
              "    }\n",
              "</style>\n",
              "<table border=\"1\" class=\"dataframe\">\n",
              "  <thead>\n",
              "    <tr style=\"text-align: right;\">\n",
              "      <th></th>\n",
              "      <th>pickup_datetime</th>\n",
              "      <th>pickup_longitude</th>\n",
              "      <th>pickup_latitude</th>\n",
              "      <th>dropoff_longitude</th>\n",
              "      <th>dropoff_latitude</th>\n",
              "      <th>passenger_count</th>\n",
              "      <th>pickup_year</th>\n",
              "      <th>pickup_month</th>\n",
              "      <th>pickup_day</th>\n",
              "      <th>pickup_hour</th>\n",
              "      <th>pickup_minute</th>\n",
              "      <th>pickup_second</th>\n",
              "    </tr>\n",
              "  </thead>\n",
              "  <tbody>\n",
              "    <tr>\n",
              "      <th>0</th>\n",
              "      <td>2011-10-21 23:54:10</td>\n",
              "      <td>-73.990580</td>\n",
              "      <td>40.761071</td>\n",
              "      <td>-73.981128</td>\n",
              "      <td>40.758634</td>\n",
              "      <td>2</td>\n",
              "      <td>2011</td>\n",
              "      <td>10</td>\n",
              "      <td>21</td>\n",
              "      <td>23</td>\n",
              "      <td>54</td>\n",
              "      <td>10</td>\n",
              "    </tr>\n",
              "    <tr>\n",
              "      <th>1</th>\n",
              "      <td>2015-02-03 10:42:03</td>\n",
              "      <td>-73.988403</td>\n",
              "      <td>40.723431</td>\n",
              "      <td>-73.989647</td>\n",
              "      <td>40.741695</td>\n",
              "      <td>1</td>\n",
              "      <td>2015</td>\n",
              "      <td>2</td>\n",
              "      <td>3</td>\n",
              "      <td>10</td>\n",
              "      <td>42</td>\n",
              "      <td>3</td>\n",
              "    </tr>\n",
              "    <tr>\n",
              "      <th>2</th>\n",
              "      <td>2014-03-16 18:58:58</td>\n",
              "      <td>-74.015785</td>\n",
              "      <td>40.715110</td>\n",
              "      <td>-74.012029</td>\n",
              "      <td>40.707888</td>\n",
              "      <td>2</td>\n",
              "      <td>2014</td>\n",
              "      <td>3</td>\n",
              "      <td>16</td>\n",
              "      <td>18</td>\n",
              "      <td>58</td>\n",
              "      <td>58</td>\n",
              "    </tr>\n",
              "    <tr>\n",
              "      <th>3</th>\n",
              "      <td>2009-06-13 16:10:54</td>\n",
              "      <td>-73.977322</td>\n",
              "      <td>40.787275</td>\n",
              "      <td>-73.958030</td>\n",
              "      <td>40.778838</td>\n",
              "      <td>3</td>\n",
              "      <td>2009</td>\n",
              "      <td>6</td>\n",
              "      <td>13</td>\n",
              "      <td>16</td>\n",
              "      <td>10</td>\n",
              "      <td>54</td>\n",
              "    </tr>\n",
              "    <tr>\n",
              "      <th>4</th>\n",
              "      <td>2014-06-12 03:25:56</td>\n",
              "      <td>-73.989683</td>\n",
              "      <td>40.729717</td>\n",
              "      <td>-73.982490</td>\n",
              "      <td>40.761887</td>\n",
              "      <td>3</td>\n",
              "      <td>2014</td>\n",
              "      <td>6</td>\n",
              "      <td>12</td>\n",
              "      <td>3</td>\n",
              "      <td>25</td>\n",
              "      <td>56</td>\n",
              "    </tr>\n",
              "  </tbody>\n",
              "</table>\n",
              "</div>"
            ],
            "text/plain": [
              "      pickup_datetime  pickup_longitude  ...  pickup_minute  pickup_second\n",
              "0 2011-10-21 23:54:10        -73.990580  ...             54             10\n",
              "1 2015-02-03 10:42:03        -73.988403  ...             42              3\n",
              "2 2014-03-16 18:58:58        -74.015785  ...             58             58\n",
              "3 2009-06-13 16:10:54        -73.977322  ...             10             54\n",
              "4 2014-06-12 03:25:56        -73.989683  ...             25             56\n",
              "\n",
              "[5 rows x 12 columns]"
            ]
          },
          "metadata": {
            "tags": []
          },
          "execution_count": 2
        }
      ]
    },
    {
      "cell_type": "code",
      "metadata": {
        "id": "II6j8rCUuj2l",
        "colab_type": "code",
        "colab": {
          "base_uri": "https://localhost:8080/",
          "height": 71
        },
        "outputId": "82d9742e-ba12-4f7b-808c-55d8d994b294"
      },
      "source": [
        "# 將結果使用線性迴歸 / 梯度提升樹分別看結果\n",
        "df1 = df.drop(['pickup_datetime'] , axis=1)\n",
        "scaler = MinMaxScaler()\n",
        "train_X = scaler.fit_transform(df1)\n",
        "Linear = LinearRegression()\n",
        "GDBT = GradientBoostingRegressor()\n",
        "\n",
        "linear_reg_score = cross_val_score(Linear, train_X, train_Y, cv=5).mean()\n",
        "GDBT_score = cross_val_score(GDBT, train_X, train_Y, cv=5).mean()\n",
        "\n",
        "print('=== baseline ===')\n",
        "print('Linear Reg Score: ', linear_reg_score)\n",
        "print('Gradient Boosting Reg Score: ', GDBT_score)"
      ],
      "execution_count": 3,
      "outputs": [
        {
          "output_type": "stream",
          "text": [
            "=== baseline ===\n",
            "Linear Reg Score:  0.026876871475639042\n",
            "Gradient Boosting Reg Score:  0.7099614156492018\n"
          ],
          "name": "stdout"
        }
      ]
    },
    {
      "cell_type": "code",
      "metadata": {
        "id": "sh7Rydb0uj2n",
        "colab_type": "code",
        "colab": {
          "base_uri": "https://localhost:8080/",
          "height": 204
        },
        "outputId": "60dcbf00-6ec2-4568-93b4-1b92f6ca1a85"
      },
      "source": [
        "# 增加緯度差, 經度差, 座標距離等三個特徵\n",
        "df['longitude_diff'] = df['dropoff_longitude'] - df['pickup_longitude']\n",
        "df['latitude_diff'] = df['dropoff_latitude'] - df['pickup_latitude']\n",
        "df['distance_2D'] = (df['longitude_diff']**2 + df['latitude_diff']**2)**0.5\n",
        "df[['distance_2D', 'longitude_diff', 'latitude_diff', 'pickup_longitude', 'pickup_latitude', 'dropoff_longitude', 'dropoff_latitude']].head()"
      ],
      "execution_count": 4,
      "outputs": [
        {
          "output_type": "execute_result",
          "data": {
            "text/html": [
              "<div>\n",
              "<style scoped>\n",
              "    .dataframe tbody tr th:only-of-type {\n",
              "        vertical-align: middle;\n",
              "    }\n",
              "\n",
              "    .dataframe tbody tr th {\n",
              "        vertical-align: top;\n",
              "    }\n",
              "\n",
              "    .dataframe thead th {\n",
              "        text-align: right;\n",
              "    }\n",
              "</style>\n",
              "<table border=\"1\" class=\"dataframe\">\n",
              "  <thead>\n",
              "    <tr style=\"text-align: right;\">\n",
              "      <th></th>\n",
              "      <th>distance_2D</th>\n",
              "      <th>longitude_diff</th>\n",
              "      <th>latitude_diff</th>\n",
              "      <th>pickup_longitude</th>\n",
              "      <th>pickup_latitude</th>\n",
              "      <th>dropoff_longitude</th>\n",
              "      <th>dropoff_latitude</th>\n",
              "    </tr>\n",
              "  </thead>\n",
              "  <tbody>\n",
              "    <tr>\n",
              "      <th>0</th>\n",
              "      <td>0.009761</td>\n",
              "      <td>0.009452</td>\n",
              "      <td>-0.002437</td>\n",
              "      <td>-73.990580</td>\n",
              "      <td>40.761071</td>\n",
              "      <td>-73.981128</td>\n",
              "      <td>40.758634</td>\n",
              "    </tr>\n",
              "    <tr>\n",
              "      <th>1</th>\n",
              "      <td>0.018307</td>\n",
              "      <td>-0.001244</td>\n",
              "      <td>0.018265</td>\n",
              "      <td>-73.988403</td>\n",
              "      <td>40.723431</td>\n",
              "      <td>-73.989647</td>\n",
              "      <td>40.741695</td>\n",
              "    </tr>\n",
              "    <tr>\n",
              "      <th>2</th>\n",
              "      <td>0.008140</td>\n",
              "      <td>0.003756</td>\n",
              "      <td>-0.007222</td>\n",
              "      <td>-74.015785</td>\n",
              "      <td>40.715110</td>\n",
              "      <td>-74.012029</td>\n",
              "      <td>40.707888</td>\n",
              "    </tr>\n",
              "    <tr>\n",
              "      <th>3</th>\n",
              "      <td>0.021056</td>\n",
              "      <td>0.019292</td>\n",
              "      <td>-0.008437</td>\n",
              "      <td>-73.977322</td>\n",
              "      <td>40.787275</td>\n",
              "      <td>-73.958030</td>\n",
              "      <td>40.778838</td>\n",
              "    </tr>\n",
              "    <tr>\n",
              "      <th>4</th>\n",
              "      <td>0.032964</td>\n",
              "      <td>0.007193</td>\n",
              "      <td>0.032170</td>\n",
              "      <td>-73.989683</td>\n",
              "      <td>40.729717</td>\n",
              "      <td>-73.982490</td>\n",
              "      <td>40.761887</td>\n",
              "    </tr>\n",
              "  </tbody>\n",
              "</table>\n",
              "</div>"
            ],
            "text/plain": [
              "   distance_2D  longitude_diff  ...  dropoff_longitude  dropoff_latitude\n",
              "0     0.009761        0.009452  ...         -73.981128         40.758634\n",
              "1     0.018307       -0.001244  ...         -73.989647         40.741695\n",
              "2     0.008140        0.003756  ...         -74.012029         40.707888\n",
              "3     0.021056        0.019292  ...         -73.958030         40.778838\n",
              "4     0.032964        0.007193  ...         -73.982490         40.761887\n",
              "\n",
              "[5 rows x 7 columns]"
            ]
          },
          "metadata": {
            "tags": []
          },
          "execution_count": 4
        }
      ]
    },
    {
      "cell_type": "code",
      "metadata": {
        "id": "FG_x0Ob1uj2p",
        "colab_type": "code",
        "colab": {
          "base_uri": "https://localhost:8080/",
          "height": 71
        },
        "outputId": "7904889c-03b8-4a34-8bed-63a0fb15443c"
      },
      "source": [
        "# 結果 : 準確度上升\n",
        "df2 = df.drop(['pickup_datetime'] , axis=1)\n",
        "train_X = scaler.fit_transform(df2)\n",
        "\n",
        "linear_reg_score = cross_val_score(Linear, train_X, train_Y, cv=5).mean()\n",
        "GDBT_score = cross_val_score(GDBT, train_X, train_Y, cv=5).mean()\n",
        "\n",
        "print('=== coordinate diff ===')\n",
        "print('Linear Reg Score: ', linear_reg_score)\n",
        "print('Gradient Boosting Reg Score: ', GDBT_score)"
      ],
      "execution_count": 7,
      "outputs": [
        {
          "output_type": "stream",
          "text": [
            "=== coordinate diff ===\n",
            "Linear Reg Score:  0.027388172930510456\n",
            "Gradient Boosting Reg Score:  0.8053065406310761\n"
          ],
          "name": "stdout"
        }
      ]
    },
    {
      "cell_type": "markdown",
      "metadata": {
        "collapsed": true,
        "id": "ShJKpkgzuj2r",
        "colab_type": "text"
      },
      "source": [
        "# 作業1\n",
        "### Q1: 參考今日教材，試著使用經緯度一圈的長度比這一概念，組合出一個新特徵，再觀察原特徵加上新特徵是否提升了正確率?\n",
        "### A1: 增加了 longitude_diff_modified 此特徵並沒有提升 model 的解釋力。"
      ]
    },
    {
      "cell_type": "code",
      "metadata": {
        "id": "3dbA8fOluj2s",
        "colab_type": "code",
        "colab": {
          "base_uri": "https://localhost:8080/",
          "height": 71
        },
        "outputId": "cf302032-58bb-43d9-fa3b-9efe95e0140a"
      },
      "source": [
        "import math\n",
        "# lon : lat = 0.75756 : 1\n",
        "df['longitude_diff_modified'] = df['longitude_diff'] * 0.75756\n",
        "# df['distance_2D_modified'] = (df['longitude_diff_modified']**2 + df['latitude_diff']**2)**0.5\n",
        "# df[['distance_2D_modified','distance_2D', 'longitude_diff_modified', 'longitude_diff', 'latitude_diff']].head()\n",
        "\n",
        "\n",
        "# 觀察結果\n",
        "df3 = df.drop(['pickup_datetime'] , axis=1)\n",
        "train_X = scaler.fit_transform(df3)\n",
        "\n",
        "linear_reg_score = cross_val_score(Linear, train_X, train_Y, cv=5).mean()\n",
        "GDBT_score = cross_val_score(GDBT, train_X, train_Y, cv=5).mean()\n",
        "\n",
        "print('=== longitude_diff_modified ===')\n",
        "print('Linear Reg Score: ', linear_reg_score)\n",
        "print('Gradient Boosting Reg Score: ', GDBT_score)"
      ],
      "execution_count": 8,
      "outputs": [
        {
          "output_type": "stream",
          "text": [
            "=== longitude_diff_modified ===\n",
            "Linear Reg Score:  0.027387362127909376\n",
            "Gradient Boosting Reg Score:  0.804827134427688\n"
          ],
          "name": "stdout"
        }
      ]
    },
    {
      "cell_type": "markdown",
      "metadata": {
        "id": "-AMaB6kSuj2u",
        "colab_type": "text"
      },
      "source": [
        "# 作業2\n",
        "### Q2: 試著只使用新特徵估計目標值(忽略原特徵)，效果跟作業1的結果比較起來效果如何?\n",
        "### A2: 雖然單以 real distnce 來建立 model 的效果比作業一差，不過此特徵有強大的解釋效果。"
      ]
    },
    {
      "cell_type": "code",
      "metadata": {
        "id": "9YZigtpguj2u",
        "colab_type": "code",
        "colab": {
          "base_uri": "https://localhost:8080/",
          "height": 71
        },
        "outputId": "24ec22c8-a81f-4a5f-ba67-2108a9522d87"
      },
      "source": [
        "df['distance_real'] = (df['longitude_diff_modified']**2 + df['latitude_diff']**2)**0.5\n",
        "df4 = df.drop(['pickup_datetime'] , axis=1)\n",
        "train_X = scaler.fit_transform(df4[['distance_real']])\n",
        "\n",
        "linear_reg_score = cross_val_score(Linear, train_X, train_Y, cv=5).mean()\n",
        "GDBT_score = cross_val_score(GDBT, train_X, train_Y, cv=5).mean()\n",
        "\n",
        "print('=== real distance ===')\n",
        "print('Linear Reg Score: ', linear_reg_score)\n",
        "print('Gradient Boosting Reg Score: ', GDBT_score)"
      ],
      "execution_count": 10,
      "outputs": [
        {
          "output_type": "stream",
          "text": [
            "=== real distance ===\n",
            "Linear Reg Score:  0.0014467562845988046\n",
            "Gradient Boosting Reg Score:  0.7221194640622727\n"
          ],
          "name": "stdout"
        }
      ]
    },
    {
      "cell_type": "code",
      "metadata": {
        "id": "WE-o09S6uj2x",
        "colab_type": "code",
        "colab": {
          "base_uri": "https://localhost:8080/",
          "height": 71
        },
        "outputId": "a0a69c99-c269-4926-f9bf-dd431a831464"
      },
      "source": [
        "df.head()\n",
        "drop_list = ['longitude_diff', 'distance_2D', 'pickup_datetime' ]\n",
        "df5 = df.drop(drop_list , axis=1)\n",
        "train_X = scaler.fit_transform(df5)\n",
        "\n",
        "linear_reg_score = cross_val_score(Linear, train_X, train_Y, cv=5).mean()\n",
        "GDBT_score = cross_val_score(GDBT, train_X, train_Y, cv=5).mean()\n",
        "\n",
        "print('=== real distance ===')\n",
        "print('Linear Reg Score: ', linear_reg_score)\n",
        "print('Gradient Boosting Reg Score: ', GDBT_score)"
      ],
      "execution_count": 16,
      "outputs": [
        {
          "output_type": "stream",
          "text": [
            "=== real distance ===\n",
            "Linear Reg Score:  0.027523613273612257\n",
            "Gradient Boosting Reg Score:  0.8052883662348984\n"
          ],
          "name": "stdout"
        }
      ]
    },
    {
      "cell_type": "code",
      "metadata": {
        "id": "o29WcAH66aC5",
        "colab_type": "code",
        "colab": {
          "base_uri": "https://localhost:8080/",
          "height": 224
        },
        "outputId": "c50f37d3-5bfa-4ac8-a034-063aa4b88c9f"
      },
      "source": [
        "df5.head()"
      ],
      "execution_count": 17,
      "outputs": [
        {
          "output_type": "execute_result",
          "data": {
            "text/html": [
              "<div>\n",
              "<style scoped>\n",
              "    .dataframe tbody tr th:only-of-type {\n",
              "        vertical-align: middle;\n",
              "    }\n",
              "\n",
              "    .dataframe tbody tr th {\n",
              "        vertical-align: top;\n",
              "    }\n",
              "\n",
              "    .dataframe thead th {\n",
              "        text-align: right;\n",
              "    }\n",
              "</style>\n",
              "<table border=\"1\" class=\"dataframe\">\n",
              "  <thead>\n",
              "    <tr style=\"text-align: right;\">\n",
              "      <th></th>\n",
              "      <th>pickup_longitude</th>\n",
              "      <th>pickup_latitude</th>\n",
              "      <th>dropoff_longitude</th>\n",
              "      <th>dropoff_latitude</th>\n",
              "      <th>passenger_count</th>\n",
              "      <th>pickup_year</th>\n",
              "      <th>pickup_month</th>\n",
              "      <th>pickup_day</th>\n",
              "      <th>pickup_hour</th>\n",
              "      <th>pickup_minute</th>\n",
              "      <th>pickup_second</th>\n",
              "      <th>latitude_diff</th>\n",
              "      <th>longitude_diff_modified</th>\n",
              "      <th>distance_real</th>\n",
              "    </tr>\n",
              "  </thead>\n",
              "  <tbody>\n",
              "    <tr>\n",
              "      <th>0</th>\n",
              "      <td>-73.990580</td>\n",
              "      <td>40.761071</td>\n",
              "      <td>-73.981128</td>\n",
              "      <td>40.758634</td>\n",
              "      <td>2</td>\n",
              "      <td>2011</td>\n",
              "      <td>10</td>\n",
              "      <td>21</td>\n",
              "      <td>23</td>\n",
              "      <td>54</td>\n",
              "      <td>10</td>\n",
              "      <td>-0.002437</td>\n",
              "      <td>0.007160</td>\n",
              "      <td>0.007564</td>\n",
              "    </tr>\n",
              "    <tr>\n",
              "      <th>1</th>\n",
              "      <td>-73.988403</td>\n",
              "      <td>40.723431</td>\n",
              "      <td>-73.989647</td>\n",
              "      <td>40.741695</td>\n",
              "      <td>1</td>\n",
              "      <td>2015</td>\n",
              "      <td>2</td>\n",
              "      <td>3</td>\n",
              "      <td>10</td>\n",
              "      <td>42</td>\n",
              "      <td>3</td>\n",
              "      <td>0.018265</td>\n",
              "      <td>-0.000942</td>\n",
              "      <td>0.018289</td>\n",
              "    </tr>\n",
              "    <tr>\n",
              "      <th>2</th>\n",
              "      <td>-74.015785</td>\n",
              "      <td>40.715110</td>\n",
              "      <td>-74.012029</td>\n",
              "      <td>40.707888</td>\n",
              "      <td>2</td>\n",
              "      <td>2014</td>\n",
              "      <td>3</td>\n",
              "      <td>16</td>\n",
              "      <td>18</td>\n",
              "      <td>58</td>\n",
              "      <td>58</td>\n",
              "      <td>-0.007222</td>\n",
              "      <td>0.002845</td>\n",
              "      <td>0.007762</td>\n",
              "    </tr>\n",
              "    <tr>\n",
              "      <th>3</th>\n",
              "      <td>-73.977322</td>\n",
              "      <td>40.787275</td>\n",
              "      <td>-73.958030</td>\n",
              "      <td>40.778838</td>\n",
              "      <td>3</td>\n",
              "      <td>2009</td>\n",
              "      <td>6</td>\n",
              "      <td>13</td>\n",
              "      <td>16</td>\n",
              "      <td>10</td>\n",
              "      <td>54</td>\n",
              "      <td>-0.008437</td>\n",
              "      <td>0.014615</td>\n",
              "      <td>0.016875</td>\n",
              "    </tr>\n",
              "    <tr>\n",
              "      <th>4</th>\n",
              "      <td>-73.989683</td>\n",
              "      <td>40.729717</td>\n",
              "      <td>-73.982490</td>\n",
              "      <td>40.761887</td>\n",
              "      <td>3</td>\n",
              "      <td>2014</td>\n",
              "      <td>6</td>\n",
              "      <td>12</td>\n",
              "      <td>3</td>\n",
              "      <td>25</td>\n",
              "      <td>56</td>\n",
              "      <td>0.032170</td>\n",
              "      <td>0.005449</td>\n",
              "      <td>0.032628</td>\n",
              "    </tr>\n",
              "  </tbody>\n",
              "</table>\n",
              "</div>"
            ],
            "text/plain": [
              "   pickup_longitude  pickup_latitude  ...  longitude_diff_modified  distance_real\n",
              "0        -73.990580        40.761071  ...                 0.007160       0.007564\n",
              "1        -73.988403        40.723431  ...                -0.000942       0.018289\n",
              "2        -74.015785        40.715110  ...                 0.002845       0.007762\n",
              "3        -73.977322        40.787275  ...                 0.014615       0.016875\n",
              "4        -73.989683        40.729717  ...                 0.005449       0.032628\n",
              "\n",
              "[5 rows x 14 columns]"
            ]
          },
          "metadata": {
            "tags": []
          },
          "execution_count": 17
        }
      ]
    }
  ]
}