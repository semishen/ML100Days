{
  "nbformat": 4,
  "nbformat_minor": 0,
  "metadata": {
    "kernelspec": {
      "display_name": "Python 3",
      "language": "python",
      "name": "python3"
    },
    "language_info": {
      "codemirror_mode": {
        "name": "ipython",
        "version": 3
      },
      "file_extension": ".py",
      "mimetype": "text/x-python",
      "name": "python",
      "nbconvert_exporter": "python",
      "pygments_lexer": "ipython3",
      "version": "3.6.2"
    },
    "colab": {
      "name": "Day_033_HW.ipynb",
      "provenance": [],
      "include_colab_link": true
    }
  },
  "cells": [
    {
      "cell_type": "markdown",
      "metadata": {
        "id": "view-in-github",
        "colab_type": "text"
      },
      "source": [
        "<a href=\"https://colab.research.google.com/github/semishen/ML100Days/blob/master/Day_033_HW.ipynb\" target=\"_parent\"><img src=\"https://colab.research.google.com/assets/colab-badge.svg\" alt=\"Open In Colab\"/></a>"
      ]
    },
    {
      "cell_type": "markdown",
      "metadata": {
        "id": "5zyEjnQ-KFvo",
        "colab_type": "text"
      },
      "source": [
        "## 練習時間"
      ]
    },
    {
      "cell_type": "markdown",
      "metadata": {
        "id": "JxhgEakUKFvp",
        "colab_type": "text"
      },
      "source": [
        "請觀看李宏毅教授以神奇寶貝進化 CP 值預測的範例，解說何謂機器學習與過擬合。並回答以下問題"
      ]
    },
    {
      "cell_type": "markdown",
      "metadata": {
        "id": "qfUkp8ObKFvq",
        "colab_type": "text"
      },
      "source": [
        "[youtube](https://www.youtube.com/watch?v=fegAeph9UaA)"
      ]
    },
    {
      "cell_type": "markdown",
      "metadata": {
        "id": "kFW-0OllKFvq",
        "colab_type": "text"
      },
      "source": [
        "### Q1: 模型的泛化能力 (generalization) 是指什麼？\n",
        "### A1: generalization 指的是模型預測訓練集以外資料的能力 \n",
        "\n",
        "<br/>\n",
        "\n",
        "### Q2: 分類問題與回歸問題分別可用的目標函數有哪些？\n",
        "### A2: 回歸問題的目標函數為 MAE, MSE，分類問題通常用 cross-entropy"
      ]
    }
  ]
}