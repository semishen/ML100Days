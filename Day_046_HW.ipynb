{
  "nbformat": 4,
  "nbformat_minor": 0,
  "metadata": {
    "kernelspec": {
      "display_name": "Python 3",
      "language": "python",
      "name": "python3"
    },
    "language_info": {
      "codemirror_mode": {
        "name": "ipython",
        "version": 3
      },
      "file_extension": ".py",
      "mimetype": "text/x-python",
      "name": "python",
      "nbconvert_exporter": "python",
      "pygments_lexer": "ipython3",
      "version": "3.6.3"
    },
    "colab": {
      "name": "Day_046_HW.ipynb",
      "provenance": [],
      "include_colab_link": true
    }
  },
  "cells": [
    {
      "cell_type": "markdown",
      "metadata": {
        "id": "view-in-github",
        "colab_type": "text"
      },
      "source": [
        "<a href=\"https://colab.research.google.com/github/semishen/ML100Days/blob/master/Day_046_HW.ipynb\" target=\"_parent\"><img src=\"https://colab.research.google.com/assets/colab-badge.svg\" alt=\"Open In Colab\"/></a>"
      ]
    },
    {
      "cell_type": "markdown",
      "metadata": {
        "id": "-FWohAGMr0dE",
        "colab_type": "text"
      },
      "source": [
        "### 作業\n",
        "目前已經學過許多的模型，相信大家對整體流程應該比較掌握了，這次作業請改用**手寫辨識資料集**，步驟流程都是一樣的，請試著自己撰寫程式碼來完成所有步驟"
      ]
    },
    {
      "cell_type": "code",
      "metadata": {
        "id": "YV4oQUWjr0dF",
        "colab_type": "code",
        "colab": {}
      },
      "source": [
        "from sklearn import datasets, metrics\n",
        "from sklearn.ensemble import GradientBoostingClassifier, RandomForestClassifier\n",
        "from sklearn.model_selection import train_test_split\n",
        "\n",
        "import numpy as np\n",
        "import matplotlib.pyplot as plt"
      ],
      "execution_count": 2,
      "outputs": []
    },
    {
      "cell_type": "code",
      "metadata": {
        "id": "_MaBRKj_r0dI",
        "colab_type": "code",
        "colab": {
          "base_uri": "https://localhost:8080/",
          "height": 53
        },
        "outputId": "35da0142-c07e-49ab-bf13-b120adbabe25"
      },
      "source": [
        "digits = datasets.load_digits()\n",
        "x = digits.data\n",
        "y = digits.target\n",
        "\n",
        "print('x shape: ', x.shape)\n",
        "print('y shape: ', y.shape)\n"
      ],
      "execution_count": 3,
      "outputs": [
        {
          "output_type": "stream",
          "text": [
            "x shape:  (1797, 64)\n",
            "y shape:  (1797,)\n"
          ],
          "name": "stdout"
        }
      ]
    },
    {
      "cell_type": "code",
      "metadata": {
        "id": "oXYEJ8dNsffi",
        "colab_type": "code",
        "colab": {}
      },
      "source": [
        "x_train, x_test, y_train, y_test = train_test_split(x, y, test_size=0.25, random_state=10)"
      ],
      "execution_count": 4,
      "outputs": []
    },
    {
      "cell_type": "code",
      "metadata": {
        "id": "KcCbIgzvsodF",
        "colab_type": "code",
        "colab": {
          "base_uri": "https://localhost:8080/",
          "height": 35
        },
        "outputId": "dca6d8bf-843f-43b0-b386-b3945f6a4587"
      },
      "source": [
        "# baseline: Random forest\n",
        "\n",
        "rf = RandomForestClassifier(max_depth=5, max_features='sqrt')\n",
        "rf.fit(x_train, y_train)\n",
        "y_rf = rf.predict(x_test)\n",
        "\n",
        "acc = metrics.accuracy_score(y_test, y_rf)\n",
        "print(\"Acuuracy: \", acc)"
      ],
      "execution_count": 20,
      "outputs": [
        {
          "output_type": "stream",
          "text": [
            "Acuuracy:  0.9377777777777778\n"
          ],
          "name": "stdout"
        }
      ]
    },
    {
      "cell_type": "code",
      "metadata": {
        "id": "Mq08bxAztSLA",
        "colab_type": "code",
        "colab": {
          "base_uri": "https://localhost:8080/",
          "height": 35
        },
        "outputId": "5d1b39c1-e362-4e58-bd32-b78f60cf1153"
      },
      "source": [
        "gbm = GradientBoostingClassifier(max_depth=5, max_features = 'sqrt')\n",
        "gbm.fit(x_train, y_train)\n",
        "y_gbm = gbm.predict(x_test)\n",
        "\n",
        "acc = metrics.accuracy_score(y_test, y_gbm)\n",
        "print(\"Acuuracy: \", acc)"
      ],
      "execution_count": 19,
      "outputs": [
        {
          "output_type": "stream",
          "text": [
            "Acuuracy:  0.98\n"
          ],
          "name": "stdout"
        }
      ]
    }
  ]
}