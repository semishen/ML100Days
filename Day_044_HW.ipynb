{
  "nbformat": 4,
  "nbformat_minor": 0,
  "metadata": {
    "kernelspec": {
      "display_name": "Python 3",
      "language": "python",
      "name": "python3"
    },
    "language_info": {
      "codemirror_mode": {
        "name": "ipython",
        "version": 3
      },
      "file_extension": ".py",
      "mimetype": "text/x-python",
      "name": "python",
      "nbconvert_exporter": "python",
      "pygments_lexer": "ipython3",
      "version": "3.6.2"
    },
    "colab": {
      "name": "Day_044_HW.ipynb",
      "provenance": [],
      "include_colab_link": true
    }
  },
  "cells": [
    {
      "cell_type": "markdown",
      "metadata": {
        "id": "view-in-github",
        "colab_type": "text"
      },
      "source": [
        "<a href=\"https://colab.research.google.com/github/semishen/ML100Days/blob/master/Day_044_HW.ipynb\" target=\"_parent\"><img src=\"https://colab.research.google.com/assets/colab-badge.svg\" alt=\"Open In Colab\"/></a>"
      ]
    },
    {
      "cell_type": "markdown",
      "metadata": {
        "id": "feDVW2Zf0rDe",
        "colab_type": "text"
      },
      "source": [
        "## [作業重點]\n",
        "確保你了解隨機森林模型中每個超參數的意義，並觀察調整超參數對結果的影響"
      ]
    },
    {
      "cell_type": "markdown",
      "metadata": {
        "id": "qsIQzbLy0rDf",
        "colab_type": "text"
      },
      "source": [
        "## 作業\n",
        "\n",
        "1. 試著調整 RandomForestClassifier(...) 中的參數，並觀察是否會改變結果？\n",
        "2. 改用其他資料集 (boston, wine)，並與回歸模型與決策樹的結果進行比較"
      ]
    },
    {
      "cell_type": "code",
      "metadata": {
        "id": "RhAvIPqy0rDg",
        "colab_type": "code",
        "colab": {}
      },
      "source": [
        "from sklearn import datasets, metrics\n",
        "from sklearn.linear_model import LogisticRegression, LinearRegression\n",
        "from sklearn.ensemble import RandomForestClassifier, RandomForestRegressor\n",
        "from sklearn.tree import DecisionTreeClassifier, DecisionTreeRegressor\n",
        "from sklearn.model_selection import train_test_split"
      ],
      "execution_count": 6,
      "outputs": []
    },
    {
      "cell_type": "code",
      "metadata": {
        "id": "yKy4r1_70_6J",
        "colab_type": "code",
        "colab": {
          "base_uri": "https://localhost:8080/",
          "height": 53
        },
        "outputId": "4ceb5a11-5846-410d-cefc-6e95fdf93e46"
      },
      "source": [
        "wine = datasets.load_wine()\n",
        "x = wine.data\n",
        "y = wine.target\n",
        "print('x sahpe: ', x.shape)\n",
        "print('y sample: ', y[: 6]) # classification"
      ],
      "execution_count": 2,
      "outputs": [
        {
          "output_type": "stream",
          "text": [
            "x sahpe:  (178, 13)\n",
            "y sample:  [0 0 0 0 0 0]\n"
          ],
          "name": "stdout"
        }
      ]
    },
    {
      "cell_type": "code",
      "metadata": {
        "id": "Y05VnXb91yH5",
        "colab_type": "code",
        "colab": {}
      },
      "source": [
        "from sklearn.model_selection import train_test_split\n",
        "x_train, x_test, y_train, y_test = train_test_split(x, y, test_size=0.2, random_state=4)\n"
      ],
      "execution_count": 12,
      "outputs": []
    },
    {
      "cell_type": "code",
      "metadata": {
        "id": "a469WkqS1-ll",
        "colab_type": "code",
        "colab": {
          "base_uri": "https://localhost:8080/",
          "height": 251
        },
        "outputId": "223668db-0a4d-4103-81f7-7a2dd333fc1f"
      },
      "source": [
        "# baseline logistic regression\n",
        "logreg = LogisticRegression(solver='newton-cg')\n",
        "logreg.fit(x_train, y_train)\n",
        "\n",
        "print('params: ', logreg.coef_)\n",
        "print('acc: ', logreg.score(x_test, y_test))\n"
      ],
      "execution_count": 13,
      "outputs": [
        {
          "output_type": "stream",
          "text": [
            "params:  [[ 5.19149194e-01  4.46818377e-01  7.01360494e-01 -2.41354158e-01\n",
            "  -3.37662593e-02  2.96003693e-01  8.17975088e-01  6.69511321e-02\n",
            "   1.23766351e-01  1.42628825e-01  1.22797606e-02  6.79007848e-01\n",
            "   9.42339666e-03]\n",
            " [-7.28557645e-01 -8.38669577e-01 -7.33993168e-01  1.03649061e-01\n",
            "  -2.22170531e-02  2.20399215e-01  2.00112252e-01  7.07250984e-02\n",
            "   4.61132350e-01 -9.43397660e-01  2.85903004e-01  4.37550463e-02\n",
            "  -8.47572631e-03]\n",
            " [ 2.09408451e-01  3.91851200e-01  3.26326740e-02  1.37705096e-01\n",
            "   5.59833124e-02 -5.16402908e-01 -1.01808734e+00 -1.37676230e-01\n",
            "  -5.84898701e-01  8.00768835e-01 -2.98182765e-01 -7.22762895e-01\n",
            "  -9.47670350e-04]]\n",
            "acc:  0.9722222222222222\n"
          ],
          "name": "stdout"
        }
      ]
    },
    {
      "cell_type": "code",
      "metadata": {
        "id": "2vYHKcAj3SKM",
        "colab_type": "code",
        "colab": {
          "base_uri": "https://localhost:8080/",
          "height": 73
        },
        "outputId": "9fde948b-d3da-4d12-d88e-cc9b347521d0"
      },
      "source": [
        "clf = RandomForestClassifier(n_estimators=10, max_depth=4)\n",
        "clf.fit(x_train, y_train)\n",
        "\n",
        "print('acc: ', clf.score(x_test, y_test))\n",
        "print('feature importances: ', {name:value for (name, value) in zip(wine.feature_names, clf.feature_importances_)})"
      ],
      "execution_count": 14,
      "outputs": [
        {
          "output_type": "stream",
          "text": [
            "acc:  1.0\n",
            "feature importances:  {'alcohol': 0.11961433728832875, 'malic_acid': 0.007154698728635592, 'ash': 0.014328870297433936, 'alcalinity_of_ash': 0.04554983355560036, 'magnesium': 0.024122619222171755, 'total_phenols': 0.0655113302701085, 'flavanoids': 0.1881473900345513, 'nonflavanoid_phenols': 0.0014371742320732756, 'proanthocyanins': 0.04097631065380022, 'color_intensity': 0.14935910758650114, 'hue': 0.0402354351907608, 'od280/od315_of_diluted_wines': 0.07551538995129863, 'proline': 0.22804750298873572}\n"
          ],
          "name": "stdout"
        }
      ]
    },
    {
      "cell_type": "code",
      "metadata": {
        "id": "NWf5jqRx4Q0K",
        "colab_type": "code",
        "colab": {
          "base_uri": "https://localhost:8080/",
          "height": 53
        },
        "outputId": "c18b87ad-a099-454f-bbb0-5380f4bda1d5"
      },
      "source": [
        "# boston\n",
        "boston = datasets.load_boston()\n",
        "x = boston.data\n",
        "y = boston.target\n",
        "print('x sahpe: ', x.shape)\n",
        "print('y sample: ', y[: 6]) # linear regression\n",
        "\n",
        "x_train, x_test, y_train, y_test = train_test_split(x, y, test_size=0.2, random_state=5)"
      ],
      "execution_count": 18,
      "outputs": [
        {
          "output_type": "stream",
          "text": [
            "x sahpe:  (506, 13)\n",
            "y sample:  [24.  21.6 34.7 33.4 36.2 28.7]\n"
          ],
          "name": "stdout"
        }
      ]
    },
    {
      "cell_type": "code",
      "metadata": {
        "id": "lV8VwbqE4c0G",
        "colab_type": "code",
        "colab": {
          "base_uri": "https://localhost:8080/",
          "height": 107
        },
        "outputId": "ce6c8300-8b92-48d8-a0d0-046d570dc9db"
      },
      "source": [
        "# baseline linear regression\n",
        "linear = LinearRegression()\n",
        "linear.fit(x_train, y_train)\n",
        "\n",
        "print('params: ', linear.coef_)\n",
        "print('R2: ', linear.score(x_test, y_test))"
      ],
      "execution_count": 20,
      "outputs": [
        {
          "output_type": "stream",
          "text": [
            "params:  [-1.30799852e-01  4.94030235e-02  1.09535045e-03  2.70536624e+00\n",
            " -1.59570504e+01  3.41397332e+00  1.11887670e-03 -1.49308124e+00\n",
            "  3.64422378e-01 -1.31718155e-02 -9.52369666e-01  1.17492092e-02\n",
            " -5.94076089e-01]\n",
            "R2:  0.7334492147453064\n"
          ],
          "name": "stdout"
        }
      ]
    },
    {
      "cell_type": "code",
      "metadata": {
        "id": "rUTBC2wj42Yc",
        "colab_type": "code",
        "colab": {
          "base_uri": "https://localhost:8080/",
          "height": 73
        },
        "outputId": "bab43476-aabd-4353-fd1d-cb90e7378a78"
      },
      "source": [
        "clf2 = RandomForestRegressor(n_estimators=10, max_depth=4)\n",
        "clf2.fit(x_train, y_train)\n",
        "\n",
        "print('R2: ', clf2.score(x_test, y_test))\n",
        "print('feature importances: ', {name:value for (name, value) in zip(boston.feature_names, clf2.feature_importances_)})"
      ],
      "execution_count": 23,
      "outputs": [
        {
          "output_type": "stream",
          "text": [
            "R2:  0.837963895356755\n",
            "feature importances:  {'CRIM': 0.03946751128402972, 'ZN': 0.0, 'INDUS': 0.002276176307010874, 'CHAS': 0.0, 'NOX': 0.009136104068026727, 'RM': 0.3577398862093797, 'AGE': 0.0029516843209303235, 'DIS': 0.08636260460188355, 'RAD': 0.002480758878488432, 'TAX': 0.00436853956189145, 'PTRATIO': 0.0034113614528555186, 'B': 0.0033432546939453226, 'LSTAT': 0.4884621186215584}\n"
          ],
          "name": "stdout"
        }
      ]
    }
  ]
}