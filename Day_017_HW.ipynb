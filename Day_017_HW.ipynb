{
  "nbformat": 4,
  "nbformat_minor": 0,
  "metadata": {
    "kernelspec": {
      "display_name": "Python 3",
      "language": "python",
      "name": "python3"
    },
    "language_info": {
      "codemirror_mode": {
        "name": "ipython",
        "version": 3
      },
      "file_extension": ".py",
      "mimetype": "text/x-python",
      "name": "python",
      "nbconvert_exporter": "python",
      "pygments_lexer": "ipython3",
      "version": "3.7.0"
    },
    "colab": {
      "name": "Day_017_HW.ipynb",
      "provenance": [],
      "collapsed_sections": [],
      "include_colab_link": true
    }
  },
  "cells": [
    {
      "cell_type": "markdown",
      "metadata": {
        "id": "view-in-github",
        "colab_type": "text"
      },
      "source": [
        "<a href=\"https://colab.research.google.com/github/semishen/ML100Days/blob/master/Day_017_HW.ipynb\" target=\"_parent\"><img src=\"https://colab.research.google.com/assets/colab-badge.svg\" alt=\"Open In Colab\"/></a>"
      ]
    },
    {
      "cell_type": "markdown",
      "metadata": {
        "id": "TyV6sv8gB_-C",
        "colab_type": "text"
      },
      "source": [
        "# 作業\n",
        "- 新增一個欄位 `customized_age_grp`，把 `age` 分為 (0, 10], (10, 20], (20, 30], (30, 50], (50, 100] 這五組，\n",
        "'(' 表示不包含, ']' 表示包含  \n",
        "- Hints: 執行 ??pd.cut()，了解提供其中 bins 這個參數的使用方式"
      ]
    },
    {
      "cell_type": "markdown",
      "metadata": {
        "id": "dto3glGoB_-D",
        "colab_type": "text"
      },
      "source": [
        "# [作業目標]\n",
        "- 請同學試著查詢 pandas.cut 這個函數還有哪些參數, 藉由改動參數以達成目標\n",
        "- 藉由查詢與改動參數的過程, 熟悉查詢函數的方法與理解參數性質, 並了解數值的離散化的調整工具"
      ]
    },
    {
      "cell_type": "markdown",
      "metadata": {
        "id": "cbc_OMieB_-E",
        "colab_type": "text"
      },
      "source": [
        "# [作業重點]\n",
        "- 仿照 In[3], In[4] 的語法, 並設定 pd.cut 的參數以指定間距"
      ]
    },
    {
      "cell_type": "code",
      "metadata": {
        "id": "G-oJslOhB_-E",
        "colab_type": "code",
        "colab": {}
      },
      "source": [
        "# 載入套件\n",
        "import numpy as np\n",
        "import pandas as pd\n",
        "\n",
        "import matplotlib.pyplot as plt"
      ],
      "execution_count": 0,
      "outputs": []
    },
    {
      "cell_type": "code",
      "metadata": {
        "id": "rlwSEkG9B_-I",
        "colab_type": "code",
        "colab": {}
      },
      "source": [
        "# 初始設定 Ages 的資料\n",
        "ages = pd.DataFrame({\"age\": [18,22,25,27,7,21,23,37,30,61,45,41,9,18,80,100]})"
      ],
      "execution_count": 0,
      "outputs": []
    },
    {
      "cell_type": "markdown",
      "metadata": {
        "id": "6fmm_shpB_-K",
        "colab_type": "text"
      },
      "source": [
        "#### 等寬劃分"
      ]
    },
    {
      "cell_type": "code",
      "metadata": {
        "id": "qXok1tbNB_-L",
        "colab_type": "code",
        "colab": {}
      },
      "source": [
        "# 新增欄位 \"equal_width_age\", 對年齡做等寬劃分\n",
        "ages[\"equal_width_age\"] = pd.cut(ages[\"age\"], 4)"
      ],
      "execution_count": 0,
      "outputs": []
    },
    {
      "cell_type": "code",
      "metadata": {
        "id": "zzbU0ozjB_-N",
        "colab_type": "code",
        "colab": {
          "base_uri": "https://localhost:8080/",
          "height": 107
        },
        "outputId": "9ea8edb0-9a4e-449f-f08b-25c7e6319cf6"
      },
      "source": [
        "# 觀察等寬劃分下, 每個種組距各出現幾次\n",
        "ages[\"equal_width_age\"].value_counts() # 每個 bin 的值的範圍大小都是一樣的"
      ],
      "execution_count": 4,
      "outputs": [
        {
          "output_type": "execute_result",
          "data": {
            "text/plain": [
              "(6.907, 30.25]    10\n",
              "(30.25, 53.5]      3\n",
              "(76.75, 100.0]     2\n",
              "(53.5, 76.75]      1\n",
              "Name: equal_width_age, dtype: int64"
            ]
          },
          "metadata": {
            "tags": []
          },
          "execution_count": 4
        }
      ]
    },
    {
      "cell_type": "markdown",
      "metadata": {
        "id": "87gDS5CxB_-Q",
        "colab_type": "text"
      },
      "source": [
        "#### 等頻劃分"
      ]
    },
    {
      "cell_type": "code",
      "metadata": {
        "id": "2QReg04PB_-R",
        "colab_type": "code",
        "colab": {}
      },
      "source": [
        "# 新增欄位 \"equal_freq_age\", 對年齡做等頻劃分\n",
        "ages[\"equal_freq_age\"] = pd.qcut(ages[\"age\"], 4)"
      ],
      "execution_count": 0,
      "outputs": []
    },
    {
      "cell_type": "code",
      "metadata": {
        "id": "cUaRcmQnB_-U",
        "colab_type": "code",
        "colab": {
          "base_uri": "https://localhost:8080/",
          "height": 107
        },
        "outputId": "2deaeadc-798a-4b02-898c-bf0487297139"
      },
      "source": [
        "# 觀察等頻劃分下, 每個種組距各出現幾次\n",
        "ages[\"equal_freq_age\"].value_counts() # 每個 bin 的資料筆數是一樣的"
      ],
      "execution_count": 6,
      "outputs": [
        {
          "output_type": "execute_result",
          "data": {
            "text/plain": [
              "(42.0, 100.0]     4\n",
              "(26.0, 42.0]      4\n",
              "(20.25, 26.0]     4\n",
              "(6.999, 20.25]    4\n",
              "Name: equal_freq_age, dtype: int64"
            ]
          },
          "metadata": {
            "tags": []
          },
          "execution_count": 6
        }
      ]
    },
    {
      "cell_type": "code",
      "metadata": {
        "id": "pHwHB_vZB_-W",
        "colab_type": "code",
        "colab": {
          "base_uri": "https://localhost:8080/",
          "height": 305
        },
        "outputId": "af1d716f-58be-4251-9ab4-a4db34b6cd3c"
      },
      "source": [
        "ages['age'].value_counts().sort_index()"
      ],
      "execution_count": 8,
      "outputs": [
        {
          "output_type": "execute_result",
          "data": {
            "text/plain": [
              "7      1\n",
              "9      1\n",
              "18     2\n",
              "21     1\n",
              "22     1\n",
              "23     1\n",
              "25     1\n",
              "27     1\n",
              "30     1\n",
              "37     1\n",
              "41     1\n",
              "45     1\n",
              "61     1\n",
              "80     1\n",
              "100    1\n",
              "Name: age, dtype: int64"
            ]
          },
          "metadata": {
            "tags": []
          },
          "execution_count": 8
        }
      ]
    },
    {
      "cell_type": "code",
      "metadata": {
        "id": "L-879LwYChJE",
        "colab_type": "code",
        "colab": {
          "base_uri": "https://localhost:8080/",
          "height": 125
        },
        "outputId": "8f712d9a-f3f2-427d-f064-dff2dea4cd73"
      },
      "source": [
        "bins = [0, 10, 20, 30, 50, 100]\n",
        "ages['customized_age_grp'] = pd.cut(ages[\"age\"], bins=bins)\n",
        "ages['customized_age_grp'].value_counts().sort_index()"
      ],
      "execution_count": 12,
      "outputs": [
        {
          "output_type": "execute_result",
          "data": {
            "text/plain": [
              "(0, 10]      2\n",
              "(10, 20]     2\n",
              "(20, 30]     6\n",
              "(30, 50]     3\n",
              "(50, 100]    3\n",
              "Name: customized_age_grp, dtype: int64"
            ]
          },
          "metadata": {
            "tags": []
          },
          "execution_count": 12
        }
      ]
    },
    {
      "cell_type": "code",
      "metadata": {
        "id": "suoEXbONF8Zk",
        "colab_type": "code",
        "colab": {
          "base_uri": "https://localhost:8080/",
          "height": 73
        },
        "outputId": "8f2cea70-6f7c-4977-fd55-2fcedf9246d5"
      },
      "source": [
        "import seaborn as sns"
      ],
      "execution_count": 18,
      "outputs": [
        {
          "output_type": "stream",
          "text": [
            "/usr/local/lib/python3.6/dist-packages/statsmodels/tools/_testing.py:19: FutureWarning: pandas.util.testing is deprecated. Use the functions in the public API at pandas.testing instead.\n",
            "  import pandas.util.testing as tm\n"
          ],
          "name": "stderr"
        }
      ]
    },
    {
      "cell_type": "code",
      "metadata": {
        "id": "tObO3q1tELm-",
        "colab_type": "code",
        "colab": {
          "base_uri": "https://localhost:8080/",
          "height": 225
        },
        "outputId": "99786b88-95b7-4717-c2dd-2137c42b56ca"
      },
      "source": [
        "customized_age_grp = ages['customized_age_grp'].value_counts().index.categories\n",
        "plt.figure(figsize=(8, 3))\n",
        "for i in range(len(customized_age_grp)):\n",
        "  tmp_df = ages[ages['customized_age_grp'] == customized_age_grp[i]]\n",
        "  sns.distplot(tmp_df['age'], kde=False, rug=True)"
      ],
      "execution_count": 32,
      "outputs": [
        {
          "output_type": "display_data",
          "data": {
            "image/png": "[encoded data removed]",
            "text/plain": [
              "<Figure size 576x216 with 1 Axes>"
            ]
          },
          "metadata": {
            "tags": [],
            "needs_background": "light"
          }
        }
      ]
    }
  ]
}