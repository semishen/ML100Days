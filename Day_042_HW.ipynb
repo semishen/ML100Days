{
  "nbformat": 4,
  "nbformat_minor": 0,
  "metadata": {
    "kernelspec": {
      "display_name": "Python 3",
      "language": "python",
      "name": "python3"
    },
    "language_info": {
      "codemirror_mode": {
        "name": "ipython",
        "version": 3
      },
      "file_extension": ".py",
      "mimetype": "text/x-python",
      "name": "python",
      "nbconvert_exporter": "python",
      "pygments_lexer": "ipython3",
      "version": "3.6.2"
    },
    "colab": {
      "name": "Day_042_HW.ipynb",
      "provenance": [],
      "include_colab_link": true
    }
  },
  "cells": [
    {
      "cell_type": "markdown",
      "metadata": {
        "id": "view-in-github",
        "colab_type": "text"
      },
      "source": [
        "<a href=\"https://colab.research.google.com/github/semishen/ML100Days/blob/master/Day_042_HW.ipynb\" target=\"_parent\"><img src=\"https://colab.research.google.com/assets/colab-badge.svg\" alt=\"Open In Colab\"/></a>"
      ]
    },
    {
      "cell_type": "markdown",
      "metadata": {
        "id": "BTftyABkHOKw",
        "colab_type": "text"
      },
      "source": [
        "## [作業重點]\n",
        "目前你應該已經要很清楚資料集中，資料的型態是什麼樣子囉！包含特徵 (features) 與標籤 (labels)。因此要記得未來不管什麼專案，必須要把資料清理成相同的格式，才能送進模型訓練。\n",
        "今天的作業開始踏入決策樹這個非常重要的模型，請務必確保你理解模型中每個超參數的意思，並試著調整看看，對最終預測結果的影響為何"
      ]
    },
    {
      "cell_type": "markdown",
      "metadata": {
        "id": "ZjKVHDkTHOKx",
        "colab_type": "text"
      },
      "source": [
        "## 作業\n",
        "\n",
        "### Q1: 試著調整 DecisionTreeClassifier(...) 中的參數，並觀察是否會改變結果？\n",
        "### A1: iris 資料集內部結構相對單純，更改 meta params (criterion='entropy', max_depth=3) 有改變模型的深度與葉數，但並沒有改變正確率。\n",
        "\n",
        "<br/>\n",
        "\n",
        "### Q2: 改用其他資料集 (boston, wine)，並與回歸模型的結果進行比較\n",
        "### A2: 以 Boston 資料集為例，Linear regression 為 baseline 與 DecisionTreeRegressor 比較，Linear regression F2 score: 0.708 較優於 DecisionTreeRegressor F2 score: 0.638。"
      ]
    },
    {
      "cell_type": "code",
      "metadata": {
        "id": "5kgjueUaHOKy",
        "colab_type": "code",
        "colab": {}
      },
      "source": [
        "from sklearn import datasets, metrics\n",
        "from sklearn.tree import DecisionTreeClassifier, DecisionTreeRegressor # tree\n",
        "from sklearn.linear_model import LinearRegression # linear regression\n",
        "from sklearn.model_selection import train_test_split"
      ],
      "execution_count": 1,
      "outputs": []
    },
    {
      "cell_type": "code",
      "metadata": {
        "id": "5NxksareH9Bi",
        "colab_type": "code",
        "colab": {}
      },
      "source": [
        "import pandas as pd\n",
        "import numpy as np\n",
        "import matplotlib.pyplot as plt"
      ],
      "execution_count": 2,
      "outputs": []
    },
    {
      "cell_type": "code",
      "metadata": {
        "id": "IHtTsrY1IH3I",
        "colab_type": "code",
        "colab": {
          "base_uri": "https://localhost:8080/",
          "height": 204
        },
        "outputId": "4a335ecb-a387-4ab7-8dd3-926265504d51"
      },
      "source": [
        "iris = datasets.load_iris()\n",
        "df = pd.DataFrame(iris.data, columns=iris.feature_names)\n",
        "df['target'] = iris.target\n",
        "df.head()"
      ],
      "execution_count": 7,
      "outputs": [
        {
          "output_type": "execute_result",
          "data": {
            "text/html": [
              "<div>\n",
              "<style scoped>\n",
              "    .dataframe tbody tr th:only-of-type {\n",
              "        vertical-align: middle;\n",
              "    }\n",
              "\n",
              "    .dataframe tbody tr th {\n",
              "        vertical-align: top;\n",
              "    }\n",
              "\n",
              "    .dataframe thead th {\n",
              "        text-align: right;\n",
              "    }\n",
              "</style>\n",
              "<table border=\"1\" class=\"dataframe\">\n",
              "  <thead>\n",
              "    <tr style=\"text-align: right;\">\n",
              "      <th></th>\n",
              "      <th>sepal length (cm)</th>\n",
              "      <th>sepal width (cm)</th>\n",
              "      <th>petal length (cm)</th>\n",
              "      <th>petal width (cm)</th>\n",
              "      <th>target</th>\n",
              "    </tr>\n",
              "  </thead>\n",
              "  <tbody>\n",
              "    <tr>\n",
              "      <th>0</th>\n",
              "      <td>5.1</td>\n",
              "      <td>3.5</td>\n",
              "      <td>1.4</td>\n",
              "      <td>0.2</td>\n",
              "      <td>0</td>\n",
              "    </tr>\n",
              "    <tr>\n",
              "      <th>1</th>\n",
              "      <td>4.9</td>\n",
              "      <td>3.0</td>\n",
              "      <td>1.4</td>\n",
              "      <td>0.2</td>\n",
              "      <td>0</td>\n",
              "    </tr>\n",
              "    <tr>\n",
              "      <th>2</th>\n",
              "      <td>4.7</td>\n",
              "      <td>3.2</td>\n",
              "      <td>1.3</td>\n",
              "      <td>0.2</td>\n",
              "      <td>0</td>\n",
              "    </tr>\n",
              "    <tr>\n",
              "      <th>3</th>\n",
              "      <td>4.6</td>\n",
              "      <td>3.1</td>\n",
              "      <td>1.5</td>\n",
              "      <td>0.2</td>\n",
              "      <td>0</td>\n",
              "    </tr>\n",
              "    <tr>\n",
              "      <th>4</th>\n",
              "      <td>5.0</td>\n",
              "      <td>3.6</td>\n",
              "      <td>1.4</td>\n",
              "      <td>0.2</td>\n",
              "      <td>0</td>\n",
              "    </tr>\n",
              "  </tbody>\n",
              "</table>\n",
              "</div>"
            ],
            "text/plain": [
              "   sepal length (cm)  sepal width (cm)  ...  petal width (cm)  target\n",
              "0                5.1               3.5  ...               0.2       0\n",
              "1                4.9               3.0  ...               0.2       0\n",
              "2                4.7               3.2  ...               0.2       0\n",
              "3                4.6               3.1  ...               0.2       0\n",
              "4                5.0               3.6  ...               0.2       0\n",
              "\n",
              "[5 rows x 5 columns]"
            ]
          },
          "metadata": {
            "tags": []
          },
          "execution_count": 7
        }
      ]
    },
    {
      "cell_type": "code",
      "metadata": {
        "id": "zSemeasMI1Di",
        "colab_type": "code",
        "colab": {}
      },
      "source": [
        "x_train, x_test, y_train, y_test = train_test_split(iris.data, iris.target, test_size=0.25, random_state=4)\n",
        "clf = DecisionTreeClassifier(criterion='entropy')\n",
        "clf.fit(x_train, y_train)\n",
        "y_pred = clf.predict(x_test)"
      ],
      "execution_count": 23,
      "outputs": []
    },
    {
      "cell_type": "code",
      "metadata": {
        "id": "uI9gAk-LKPdc",
        "colab_type": "code",
        "colab": {
          "base_uri": "https://localhost:8080/",
          "height": 35
        },
        "outputId": "2daa65d6-5cb1-44ed-9fc1-578740a5e928"
      },
      "source": [
        "clf.score(x_test, y_test) # baseline: 0.9736842105263158"
      ],
      "execution_count": 10,
      "outputs": [
        {
          "output_type": "execute_result",
          "data": {
            "text/plain": [
              "0.9736842105263158"
            ]
          },
          "metadata": {
            "tags": []
          },
          "execution_count": 10
        }
      ]
    },
    {
      "cell_type": "code",
      "metadata": {
        "id": "DISG2zjKMBWD",
        "colab_type": "code",
        "colab": {
          "base_uri": "https://localhost:8080/",
          "height": 55
        },
        "outputId": "39abd541-6b06-413d-a074-c424ef8a50fe"
      },
      "source": [
        "print('feature importances: ', {name:value for (name, value) in zip(iris.feature_names, clf.feature_importances_)})"
      ],
      "execution_count": 14,
      "outputs": [
        {
          "output_type": "stream",
          "text": [
            "feature importances:  {'sepal length (cm)': 0.015606201878709982, 'sepal width (cm)': 0.0, 'petal length (cm)': 0.6226416262865381, 'petal width (cm)': 0.361752171834752}\n"
          ],
          "name": "stdout"
        }
      ]
    },
    {
      "cell_type": "code",
      "metadata": {
        "id": "xCFxwuPjKmaw",
        "colab_type": "code",
        "colab": {
          "base_uri": "https://localhost:8080/",
          "height": 91
        },
        "outputId": "85e828c3-f344-478b-e2e3-97f535c9bd2f"
      },
      "source": [
        "print('depth: ', clf.get_depth())\n",
        "print('n_leaves: ', clf.get_n_leaves())\n",
        "print('params: ', clf.get_params())"
      ],
      "execution_count": 11,
      "outputs": [
        {
          "output_type": "stream",
          "text": [
            "depth:  4\n",
            "n_leaves:  8\n",
            "params:  {'ccp_alpha': 0.0, 'class_weight': None, 'criterion': 'entropy', 'max_depth': None, 'max_features': None, 'max_leaf_nodes': None, 'min_impurity_decrease': 0.0, 'min_impurity_split': None, 'min_samples_leaf': 1, 'min_samples_split': 2, 'min_weight_fraction_leaf': 0.0, 'presort': 'deprecated', 'random_state': None, 'splitter': 'best'}\n"
          ],
          "name": "stdout"
        }
      ]
    },
    {
      "cell_type": "code",
      "metadata": {
        "id": "9wpWZzIgJi06",
        "colab_type": "code",
        "colab": {
          "base_uri": "https://localhost:8080/",
          "height": 109
        },
        "outputId": "624c3a7f-dc3f-4166-eb51-eb2345cb1543"
      },
      "source": [
        "# modify meta params\n",
        "clf2 = DecisionTreeClassifier(criterion='entropy', max_depth=3)\n",
        "clf2.fit(x_train, y_train)\n",
        "#y_pred = clf2.predict(x_test)\n",
        "\n",
        "print('score: ', clf2.score(x_test, y_test))\n",
        "print('depth: ', clf2.get_depth())\n",
        "print('n_leaves: ', clf2.get_n_leaves())\n",
        "print('feature importances: ', {name:value for (name, value) in zip(iris.feature_names, clf2.feature_importances_)})\n"
      ],
      "execution_count": 24,
      "outputs": [
        {
          "output_type": "stream",
          "text": [
            "score:  0.9736842105263158\n",
            "depth:  3\n",
            "n_leaves:  5\n",
            "feature importances:  {'sepal length (cm)': 0.0, 'sepal width (cm)': 0.0, 'petal length (cm)': 0.6712479060534087, 'petal width (cm)': 0.32875209394659133}\n"
          ],
          "name": "stdout"
        }
      ]
    },
    {
      "cell_type": "code",
      "metadata": {
        "id": "YyQKGAA8N10d",
        "colab_type": "code",
        "colab": {
          "base_uri": "https://localhost:8080/",
          "height": 204
        },
        "outputId": "c79b8be6-0eb0-4ed7-8ce1-34666fd44f9c"
      },
      "source": [
        "### boston\n",
        "\n",
        "boston = datasets.load_boston()\n",
        "df_boston = pd.DataFrame(boston.data, columns=boston.feature_names)\n",
        "df_boston['target'] = boston.target\n",
        "df_boston.head()"
      ],
      "execution_count": 16,
      "outputs": [
        {
          "output_type": "execute_result",
          "data": {
            "text/html": [
              "<div>\n",
              "<style scoped>\n",
              "    .dataframe tbody tr th:only-of-type {\n",
              "        vertical-align: middle;\n",
              "    }\n",
              "\n",
              "    .dataframe tbody tr th {\n",
              "        vertical-align: top;\n",
              "    }\n",
              "\n",
              "    .dataframe thead th {\n",
              "        text-align: right;\n",
              "    }\n",
              "</style>\n",
              "<table border=\"1\" class=\"dataframe\">\n",
              "  <thead>\n",
              "    <tr style=\"text-align: right;\">\n",
              "      <th></th>\n",
              "      <th>CRIM</th>\n",
              "      <th>ZN</th>\n",
              "      <th>INDUS</th>\n",
              "      <th>CHAS</th>\n",
              "      <th>NOX</th>\n",
              "      <th>RM</th>\n",
              "      <th>AGE</th>\n",
              "      <th>DIS</th>\n",
              "      <th>RAD</th>\n",
              "      <th>TAX</th>\n",
              "      <th>PTRATIO</th>\n",
              "      <th>B</th>\n",
              "      <th>LSTAT</th>\n",
              "      <th>target</th>\n",
              "    </tr>\n",
              "  </thead>\n",
              "  <tbody>\n",
              "    <tr>\n",
              "      <th>0</th>\n",
              "      <td>0.00632</td>\n",
              "      <td>18.0</td>\n",
              "      <td>2.31</td>\n",
              "      <td>0.0</td>\n",
              "      <td>0.538</td>\n",
              "      <td>6.575</td>\n",
              "      <td>65.2</td>\n",
              "      <td>4.0900</td>\n",
              "      <td>1.0</td>\n",
              "      <td>296.0</td>\n",
              "      <td>15.3</td>\n",
              "      <td>396.90</td>\n",
              "      <td>4.98</td>\n",
              "      <td>24.0</td>\n",
              "    </tr>\n",
              "    <tr>\n",
              "      <th>1</th>\n",
              "      <td>0.02731</td>\n",
              "      <td>0.0</td>\n",
              "      <td>7.07</td>\n",
              "      <td>0.0</td>\n",
              "      <td>0.469</td>\n",
              "      <td>6.421</td>\n",
              "      <td>78.9</td>\n",
              "      <td>4.9671</td>\n",
              "      <td>2.0</td>\n",
              "      <td>242.0</td>\n",
              "      <td>17.8</td>\n",
              "      <td>396.90</td>\n",
              "      <td>9.14</td>\n",
              "      <td>21.6</td>\n",
              "    </tr>\n",
              "    <tr>\n",
              "      <th>2</th>\n",
              "      <td>0.02729</td>\n",
              "      <td>0.0</td>\n",
              "      <td>7.07</td>\n",
              "      <td>0.0</td>\n",
              "      <td>0.469</td>\n",
              "      <td>7.185</td>\n",
              "      <td>61.1</td>\n",
              "      <td>4.9671</td>\n",
              "      <td>2.0</td>\n",
              "      <td>242.0</td>\n",
              "      <td>17.8</td>\n",
              "      <td>392.83</td>\n",
              "      <td>4.03</td>\n",
              "      <td>34.7</td>\n",
              "    </tr>\n",
              "    <tr>\n",
              "      <th>3</th>\n",
              "      <td>0.03237</td>\n",
              "      <td>0.0</td>\n",
              "      <td>2.18</td>\n",
              "      <td>0.0</td>\n",
              "      <td>0.458</td>\n",
              "      <td>6.998</td>\n",
              "      <td>45.8</td>\n",
              "      <td>6.0622</td>\n",
              "      <td>3.0</td>\n",
              "      <td>222.0</td>\n",
              "      <td>18.7</td>\n",
              "      <td>394.63</td>\n",
              "      <td>2.94</td>\n",
              "      <td>33.4</td>\n",
              "    </tr>\n",
              "    <tr>\n",
              "      <th>4</th>\n",
              "      <td>0.06905</td>\n",
              "      <td>0.0</td>\n",
              "      <td>2.18</td>\n",
              "      <td>0.0</td>\n",
              "      <td>0.458</td>\n",
              "      <td>7.147</td>\n",
              "      <td>54.2</td>\n",
              "      <td>6.0622</td>\n",
              "      <td>3.0</td>\n",
              "      <td>222.0</td>\n",
              "      <td>18.7</td>\n",
              "      <td>396.90</td>\n",
              "      <td>5.33</td>\n",
              "      <td>36.2</td>\n",
              "    </tr>\n",
              "  </tbody>\n",
              "</table>\n",
              "</div>"
            ],
            "text/plain": [
              "      CRIM    ZN  INDUS  CHAS    NOX  ...    TAX  PTRATIO       B  LSTAT  target\n",
              "0  0.00632  18.0   2.31   0.0  0.538  ...  296.0     15.3  396.90   4.98    24.0\n",
              "1  0.02731   0.0   7.07   0.0  0.469  ...  242.0     17.8  396.90   9.14    21.6\n",
              "2  0.02729   0.0   7.07   0.0  0.469  ...  242.0     17.8  392.83   4.03    34.7\n",
              "3  0.03237   0.0   2.18   0.0  0.458  ...  222.0     18.7  394.63   2.94    33.4\n",
              "4  0.06905   0.0   2.18   0.0  0.458  ...  222.0     18.7  396.90   5.33    36.2\n",
              "\n",
              "[5 rows x 14 columns]"
            ]
          },
          "metadata": {
            "tags": []
          },
          "execution_count": 16
        }
      ]
    },
    {
      "cell_type": "code",
      "metadata": {
        "id": "rQ698uJiOHMQ",
        "colab_type": "code",
        "colab": {
          "base_uri": "https://localhost:8080/",
          "height": 125
        },
        "outputId": "3d5e4dec-a49b-4087-cf91-149a754f3d54"
      },
      "source": [
        "print(df_boston.shape)\n",
        "x_train, x_test, y_train, y_test = train_test_split(boston.data, boston.target, test_size=0.2, random_state=8)\n",
        "\n",
        "### baseline: linear regression\n",
        "linear = LinearRegression()\n",
        "linear.fit(x_train, y_train)\n",
        "print('params: ', linear.coef_)\n",
        "print('F2 score: ', linear.score(x_test, y_test))"
      ],
      "execution_count": 25,
      "outputs": [
        {
          "output_type": "stream",
          "text": [
            "(506, 14)\n",
            "params:  [-1.11254928e-01  5.18680433e-02  1.43321667e-02  2.51154050e+00\n",
            " -1.49265180e+01  3.93483238e+00 -4.64570429e-03 -1.51844278e+00\n",
            "  2.87110592e-01 -1.12144664e-02 -9.34072213e-01  8.32690858e-03\n",
            " -5.59947918e-01]\n",
            "F2 score:  0.7079627967134545\n"
          ],
          "name": "stdout"
        }
      ]
    },
    {
      "cell_type": "code",
      "metadata": {
        "id": "pjDU8I9DOMeI",
        "colab_type": "code",
        "colab": {
          "base_uri": "https://localhost:8080/",
          "height": 109
        },
        "outputId": "208f77df-7040-4498-b566-b3a534fd8937"
      },
      "source": [
        "### target is float -> use DecisionTreeRegressor\n",
        "clf3 = DecisionTreeRegressor()\n",
        "clf3.fit(x_train, y_train)\n",
        "\n",
        "print('F2 score: ', clf3.score(x_test, y_test))\n",
        "print('depth: ', clf3.get_depth())\n",
        "print('n_leaves: ', clf3.get_n_leaves())\n",
        "print('feature importances: ', {name:value for (name, value) in zip(boston.feature_names, clf3.feature_importances_)})"
      ],
      "execution_count": 26,
      "outputs": [
        {
          "output_type": "stream",
          "text": [
            "F2 score:  0.6381615105867223\n",
            "depth:  20\n",
            "n_leaves:  385\n",
            "feature importances:  {'CRIM': 0.05035273199888729, 'ZN': 0.000302651010642542, 'INDUS': 0.0022961163485930264, 'CHAS': 5.5566687592157774e-05, 'NOX': 0.02870238577875016, 'RM': 0.5933816503809305, 'AGE': 0.01351685514528803, 'DIS': 0.08054996642529592, 'RAD': 0.0014901103877441118, 'TAX': 0.007605263150478112, 'PTRATIO': 0.012691106040023865, 'B': 0.011179983132907207, 'LSTAT': 0.19787561351286695}\n"
          ],
          "name": "stdout"
        }
      ]
    },
    {
      "cell_type": "code",
      "metadata": {
        "id": "gqrbJnL-RwGV",
        "colab_type": "code",
        "colab": {
          "base_uri": "https://localhost:8080/",
          "height": 109
        },
        "outputId": "af811396-9f43-4a15-ab66-63b25e1b7284"
      },
      "source": [
        "clf4 = DecisionTreeRegressor(max_depth=4, min_samples_split=5)\n",
        "clf4.fit(x_train, y_train)\n",
        "\n",
        "print('F2 score: ', clf4.score(x_test, y_test))\n",
        "print('depth: ', clf4.get_depth())\n",
        "print('n_leaves: ', clf4.get_n_leaves())\n",
        "print('feature importances: ', {name:value for (name, value) in zip(boston.feature_names, clf4.feature_importances_)})"
      ],
      "execution_count": 40,
      "outputs": [
        {
          "output_type": "stream",
          "text": [
            "F2 score:  0.6818204747520006\n",
            "depth:  4\n",
            "n_leaves:  15\n",
            "feature importances:  {'CRIM': 0.042398166347101564, 'ZN': 0.0, 'INDUS': 0.0, 'CHAS': 0.0, 'NOX': 0.028017752588531186, 'RM': 0.6435335884774532, 'AGE': 0.0, 'DIS': 0.0788426307146012, 'RAD': 0.0, 'TAX': 0.0, 'PTRATIO': 0.007935009271750696, 'B': 0.002317026508720124, 'LSTAT': 0.19695582609184195}\n"
          ],
          "name": "stdout"
        }
      ]
    }
  ]
}