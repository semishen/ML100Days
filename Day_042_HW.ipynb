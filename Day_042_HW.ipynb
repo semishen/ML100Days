{
  "nbformat": 4,
  "nbformat_minor": 0,
  "metadata": {
    "kernelspec": {
      "display_name": "Python 3",
      "language": "python",
      "name": "python3"
    },
    "language_info": {
      "codemirror_mode": {
        "name": "ipython",
        "version": 3
      },
      "file_extension": ".py",
      "mimetype": "text/x-python",
      "name": "python",
      "nbconvert_exporter": "python",
      "pygments_lexer": "ipython3",
      "version": "3.6.2"
    },
    "colab": {
      "name": "Day_042_HW.ipynb",
      "provenance": [],
      "collapsed_sections": [],
      "include_colab_link": true
    }
  },
  "cells": [
    {
      "cell_type": "markdown",
      "metadata": {
        "id": "view-in-github",
        "colab_type": "text"
      },
      "source": [
        "<a href=\"https://colab.research.google.com/github/semishen/ML100Days/blob/master/Day_042_HW.ipynb\" target=\"_parent\"><img src=\"https://colab.research.google.com/assets/colab-badge.svg\" alt=\"Open In Colab\"/></a>"
      ]
    },
    {
      "cell_type": "markdown",
      "metadata": {
        "id": "BTftyABkHOKw",
        "colab_type": "text"
      },
      "source": [
        "## [作業重點]\n",
        "目前你應該已經要很清楚資料集中，資料的型態是什麼樣子囉！包含特徵 (features) 與標籤 (labels)。因此要記得未來不管什麼專案，必須要把資料清理成相同的格式，才能送進模型訓練。\n",
        "今天的作業開始踏入決策樹這個非常重要的模型，請務必確保你理解模型中每個超參數的意思，並試著調整看看，對最終預測結果的影響為何"
      ]
    },
    {
      "cell_type": "markdown",
      "metadata": {
        "id": "ZjKVHDkTHOKx",
        "colab_type": "text"
      },
      "source": [
        "## 作業\n",
        "\n",
        "### Q1: 試著調整 DecisionTreeClassifier(...) 中的參數，並觀察是否會改變結果？\n",
        "### A1: iris 資料集內部結構相對單純，更改 meta params (criterion='entropy', max_depth=3) 有改變模型的深度與葉數，但並沒有改變正確率。\n",
        "\n",
        "<br/>\n",
        "\n",
        "### Q2: 改用其他資料集 (boston, wine)，並與回歸模型的結果進行比較\n",
        "### A2: 以 Boston 資料集為例，Linear regression 為 baseline 與 DecisionTreeRegressor 比較，Linear regression F2 score: 0.708 較優於 DecisionTreeRegressor F2 score: 0.638。"
      ]
    },
    {
      "cell_type": "code",
      "metadata": {
        "id": "5kgjueUaHOKy",
        "colab_type": "code",
        "colab": {}
      },
      "source": [
        "from sklearn import datasets, metrics\n",
        "from sklearn.tree import DecisionTreeClassifier, DecisionTreeRegressor # tree\n",
        "from sklearn.linear_model import LinearRegression # linear regression\n",
        "from sklearn.model_selection import train_test_split"
      ],
      "execution_count": null,
      "outputs": []
    },
    {
      "cell_type": "code",
      "metadata": {
        "id": "5NxksareH9Bi",
        "colab_type": "code",
        "colab": {}
      },
      "source": [
        "import pandas as pd\n",
        "import numpy as np\n",
        "import matplotlib.pyplot as plt"
      ],
      "execution_count": null,
      "outputs": []
    },
    {
      "cell_type": "code",
      "metadata": {
        "id": "IHtTsrY1IH3I",
        "colab_type": "code",
        "colab": {
          "base_uri": "https://localhost:8080/",
          "height": 204
        },
        "outputId": "4a335ecb-a387-4ab7-8dd3-926265504d51"
      },
      "source": [
        "iris = datasets.load_iris()\n",
        "df = pd.DataFrame(iris.data, columns=iris.feature_names)\n",
        "df['target'] = iris.target\n",
        "df.head()"
      ],
      "execution_count": null,
      "outputs": [
        {
          "output_type": "execute_result",
          "data": {
            "text/html": [
              "<div>\n",
              "<style scoped>\n",
              "    .dataframe tbody tr th:only-of-type {\n",
              "        vertical-align: middle;\n",
              "    }\n",
              "\n",
              "    .dataframe tbody tr th {\n",
              "        vertical-align: top;\n",
              "    }\n",
              "\n",
              "    .dataframe thead th {\n",
              "        text-align: right;\n",
              "    }\n",
              "</style>\n",
              "<table border=\"1\" class=\"dataframe\">\n",
              "  <thead>\n",
              "    <tr style=\"text-align: right;\">\n",
              "      <th></th>\n",
              "      <th>sepal length (cm)</th>\n",
              "      <th>sepal width (cm)</th>\n",
              "      <th>petal length (cm)</th>\n",
              "      <th>petal width (cm)</th>\n",
              "      <th>target</th>\n",
              "    </tr>\n",
              "  </thead>\n",
              "  <tbody>\n",
              "    <tr>\n",
              "      <th>0</th>\n",
              "      <td>5.1</td>\n",
              "      <td>3.5</td>\n",
              "      <td>1.4</td>\n",
              "      <td>0.2</td>\n",
              "      <td>0</td>\n",
              "    </tr>\n",
              "    <tr>\n",
              "      <th>1</th>\n",
              "      <td>4.9</td>\n",
              "      <td>3.0</td>\n",
              "      <td>1.4</td>\n",
              "      <td>0.2</td>\n",
              "      <td>0</td>\n",
              "    </tr>\n",
              "    <tr>\n",
              "      <th>2</th>\n",
              "      <td>4.7</td>\n",
              "      <td>3.2</td>\n",
              "      <td>1.3</td>\n",
              "      <td>0.2</td>\n",
              "      <td>0</td>\n",
              "    </tr>\n",
              "    <tr>\n",
              "      <th>3</th>\n",
              "      <td>4.6</td>\n",
              "      <td>3.1</td>\n",
              "      <td>1.5</td>\n",
              "      <td>0.2</td>\n",
              "      <td>0</td>\n",
              "    </tr>\n",
              "    <tr>\n",
              "      <th>4</th>\n",
              "      <td>5.0</td>\n",
              "      <td>3.6</td>\n",
              "      <td>1.4</td>\n",
              "      <td>0.2</td>\n",
              "      <td>0</td>\n",
              "    </tr>\n",
              "  </tbody>\n",
              "</table>\n",
              "</div>"
            ],
            "text/plain": [
              "   sepal length (cm)  sepal width (cm)  ...  petal width (cm)  target\n",
              "0                5.1               3.5  ...               0.2       0\n",
              "1                4.9               3.0  ...               0.2       0\n",
              "2                4.7               3.2  ...               0.2       0\n",
              "3                4.6               3.1  ...               0.2       0\n",
              "4                5.0               3.6  ...               0.2       0\n",
              "\n",
              "[5 rows x 5 columns]"
            ]
          },
          "metadata": {
            "tags": []
          },
          "execution_count": 7
        }
      ]
    },
    {
      "cell_type": "code",
      "metadata": {
        "id": "zSemeasMI1Di",
        "colab_type": "code",
        "colab": {}
      },
      "source": [
        "x_train, x_test, y_train, y_test = train_test_split(iris.data, iris.target, test_size=0.25, random_state=4)\n",
        "clf = DecisionTreeClassifier(criterion='entropy')\n",
        "clf.fit(x_train, y_train)\n",
        "y_pred = clf.predict(x_test)"
      ],
      "execution_count": null,
      "outputs": []
    },
    {
      "cell_type": "code",
      "metadata": {
        "id": "uI9gAk-LKPdc",
        "colab_type": "code",
        "colab": {
          "base_uri": "https://localhost:8080/",
          "height": 35
        },
        "outputId": "2daa65d6-5cb1-44ed-9fc1-578740a5e928"
      },
      "source": [
        "clf.score(x_test, y_test) # baseline: 0.9736842105263158"
      ],
      "execution_count": null,
      "outputs": [
        {
          "output_type": "execute_result",
          "data": {
            "text/plain": [
              "0.9736842105263158"
            ]
          },
          "metadata": {
            "tags": []
          },
          "execution_count": 10
        }
      ]
    },
    {
      "cell_type": "code",
      "metadata": {
        "id": "DISG2zjKMBWD",
        "colab_type": "code",
        "colab": {
          "base_uri": "https://localhost:8080/",
          "height": 55
        },
        "outputId": "39abd541-6b06-413d-a074-c424ef8a50fe"
      },
      "source": [
        "print('feature importances: ', {name:value for (name, value) in zip(iris.feature_names, clf.feature_importances_)})"
      ],
      "execution_count": null,
      "outputs": [
        {
          "output_type": "stream",
          "text": [
            "feature importances:  {'sepal length (cm)': 0.015606201878709982, 'sepal width (cm)': 0.0, 'petal length (cm)': 0.6226416262865381, 'petal width (cm)': 0.361752171834752}\n"
          ],
          "name": "stdout"
        }
      ]
    },
    {
      "cell_type": "code",
      "metadata": {
        "id": "xCFxwuPjKmaw",
        "colab_type": "code",
        "colab": {
          "base_uri": "https://localhost:8080/",
          "height": 91
        },
        "outputId": "85e828c3-f344-478b-e2e3-97f535c9bd2f"
      },
      "source": [
        "print('depth: ', clf.get_depth())\n",
        "print('n_leaves: ', clf.get_n_leaves())\n",
        "print('params: ', clf.get_params())"
      ],
      "execution_count": null,
      "outputs": [
        {
          "output_type": "stream",
          "text": [
            "depth:  4\n",
            "n_leaves:  8\n",
            "params:  {'ccp_alpha': 0.0, 'class_weight': None, 'criterion': 'entropy', 'max_depth': None, 'max_features': None, 'max_leaf_nodes': None, 'min_impurity_decrease': 0.0, 'min_impurity_split': None, 'min_samples_leaf': 1, 'min_samples_split': 2, 'min_weight_fraction_leaf': 0.0, 'presort': 'deprecated', 'random_state': None, 'splitter': 'best'}\n"
          ],
          "name": "stdout"
        }
      ]
    },
    {
      "cell_type": "code",
      "metadata": {
        "id": "9wpWZzIgJi06",
        "colab_type": "code",
        "colab": {
          "base_uri": "https://localhost:8080/",
          "height": 109
        },
        "outputId": "624c3a7f-dc3f-4166-eb51-eb2345cb1543"
      },
      "source": [
        "# modify meta params\n",
        "clf2 = DecisionTreeClassifier(criterion='entropy', max_depth=3)\n",
        "clf2.fit(x_train, y_train)\n",
        "#y_pred = clf2.predict(x_test)\n",
        "\n",
        "print('score: ', clf2.score(x_test, y_test))\n",
        "print('depth: ', clf2.get_depth())\n",
        "print('n_leaves: ', clf2.get_n_leaves())\n",
        "print('feature importances: ', {name:value for (name, value) in zip(iris.feature_names, clf2.feature_importances_)})\n"
      ],
      "execution_count": null,
      "outputs": [
        {
          "output_type": "stream",
          "text": [
            "score:  0.9736842105263158\n",
            "depth:  3\n",
            "n_leaves:  5\n",
            "feature importances:  {'sepal length (cm)': 0.0, 'sepal width (cm)': 0.0, 'petal length (cm)': 0.6712479060534087, 'petal width (cm)': 0.32875209394659133}\n"
          ],
          "name": "stdout"
        }
      ]
    },
    {
      "cell_type": "code",
      "metadata": {
        "id": "YyQKGAA8N10d",
        "colab_type": "code",
        "colab": {
          "base_uri": "https://localhost:8080/",
          "height": 204
        },
        "outputId": "c79b8be6-0eb0-4ed7-8ce1-34666fd44f9c"
      },
      "source": [
        "### boston\n",
        "\n",
        "boston = datasets.load_boston()\n",
        "df_boston = pd.DataFrame(boston.data, columns=boston.feature_names)\n",
        "df_boston['target'] = boston.target\n",
        "df_boston.head()"
      ],
      "execution_count": null,
      "outputs": [
        {
          "output_type": "execute_result",
          "data": {
            "text/html": [
              "<div>\n",
              "<style scoped>\n",
              "    .dataframe tbody tr th:only-of-type {\n",
              "        vertical-align: middle;\n",
              "    }\n",
              "\n",
              "    .dataframe tbody tr th {\n",
              "        vertical-align: top;\n",
              "    }\n",
              "\n",
              "    .dataframe thead th {\n",
              "        text-align: right;\n",
              "    }\n",
              "</style>\n",
              "<table border=\"1\" class=\"dataframe\">\n",
              "  <thead>\n",
              "    <tr style=\"text-align: right;\">\n",
              "      <th></th>\n",
              "      <th>CRIM</th>\n",
              "      <th>ZN</th>\n",
              "      <th>INDUS</th>\n",
              "      <th>CHAS</th>\n",
              "      <th>NOX</th>\n",
              "      <th>RM</th>\n",
              "      <th>AGE</th>\n",
              "      <th>DIS</th>\n",
              "      <th>RAD</th>\n",
              "      <th>TAX</th>\n",
              "      <th>PTRATIO</th>\n",
              "      <th>B</th>\n",
              "      <th>LSTAT</th>\n",
              "      <th>target</th>\n",
              "    </tr>\n",
              "  </thead>\n",
              "  <tbody>\n",
              "    <tr>\n",
              "      <th>0</th>\n",
              "      <td>0.00632</td>\n",
              "      <td>18.0</td>\n",
              "      <td>2.31</td>\n",
              "      <td>0.0</td>\n",
              "      <td>0.538</td>\n",
              "      <td>6.575</td>\n",
              "      <td>65.2</td>\n",
              "      <td>4.0900</td>\n",
              "      <td>1.0</td>\n",
              "      <td>296.0</td>\n",
              "      <td>15.3</td>\n",
              "      <td>396.90</td>\n",
              "      <td>4.98</td>\n",
              "      <td>24.0</td>\n",
              "    </tr>\n",
              "    <tr>\n",
              "      <th>1</th>\n",
              "      <td>0.02731</td>\n",
              "      <td>0.0</td>\n",
              "      <td>7.07</td>\n",
              "      <td>0.0</td>\n",
              "      <td>0.469</td>\n",
              "      <td>6.421</td>\n",
              "      <td>78.9</td>\n",
              "      <td>4.9671</td>\n",
              "      <td>2.0</td>\n",
              "      <td>242.0</td>\n",
              "      <td>17.8</td>\n",
              "      <td>396.90</td>\n",
              "      <td>9.14</td>\n",
              "      <td>21.6</td>\n",
              "    </tr>\n",
              "    <tr>\n",
              "      <th>2</th>\n",
              "      <td>0.02729</td>\n",
              "      <td>0.0</td>\n",
              "      <td>7.07</td>\n",
              "      <td>0.0</td>\n",
              "      <td>0.469</td>\n",
              "      <td>7.185</td>\n",
              "      <td>61.1</td>\n",
              "      <td>4.9671</td>\n",
              "      <td>2.0</td>\n",
              "      <td>242.0</td>\n",
              "      <td>17.8</td>\n",
              "      <td>392.83</td>\n",
              "      <td>4.03</td>\n",
              "      <td>34.7</td>\n",
              "    </tr>\n",
              "    <tr>\n",
              "      <th>3</th>\n",
              "      <td>0.03237</td>\n",
              "      <td>0.0</td>\n",
              "      <td>2.18</td>\n",
              "      <td>0.0</td>\n",
              "      <td>0.458</td>\n",
              "      <td>6.998</td>\n",
              "      <td>45.8</td>\n",
              "      <td>6.0622</td>\n",
              "      <td>3.0</td>\n",
              "      <td>222.0</td>\n",
              "      <td>18.7</td>\n",
              "      <td>394.63</td>\n",
              "      <td>2.94</td>\n",
              "      <td>33.4</td>\n",
              "    </tr>\n",
              "    <tr>\n",
              "      <th>4</th>\n",
              "      <td>0.06905</td>\n",
              "      <td>0.0</td>\n",
              "      <td>2.18</td>\n",
              "      <td>0.0</td>\n",
              "      <td>0.458</td>\n",
              "      <td>7.147</td>\n",
              "      <td>54.2</td>\n",
              "      <td>6.0622</td>\n",
              "      <td>3.0</td>\n",
              "      <td>222.0</td>\n",
              "      <td>18.7</td>\n",
              "      <td>396.90</td>\n",
              "      <td>5.33</td>\n",
              "      <td>36.2</td>\n",
              "    </tr>\n",
              "  </tbody>\n",
              "</table>\n",
              "</div>"
            ],
            "text/plain": [
              "      CRIM    ZN  INDUS  CHAS    NOX  ...    TAX  PTRATIO       B  LSTAT  target\n",
              "0  0.00632  18.0   2.31   0.0  0.538  ...  296.0     15.3  396.90   4.98    24.0\n",
              "1  0.02731   0.0   7.07   0.0  0.469  ...  242.0     17.8  396.90   9.14    21.6\n",
              "2  0.02729   0.0   7.07   0.0  0.469  ...  242.0     17.8  392.83   4.03    34.7\n",
              "3  0.03237   0.0   2.18   0.0  0.458  ...  222.0     18.7  394.63   2.94    33.4\n",
              "4  0.06905   0.0   2.18   0.0  0.458  ...  222.0     18.7  396.90   5.33    36.2\n",
              "\n",
              "[5 rows x 14 columns]"
            ]
          },
          "metadata": {
            "tags": []
          },
          "execution_count": 16
        }
      ]
    },
    {
      "cell_type": "code",
      "metadata": {
        "id": "rQ698uJiOHMQ",
        "colab_type": "code",
        "colab": {
          "base_uri": "https://localhost:8080/",
          "height": 125
        },
        "outputId": "3d5e4dec-a49b-4087-cf91-149a754f3d54"
      },
      "source": [
        "print(df_boston.shape)\n",
        "x_train, x_test, y_train, y_test = train_test_split(boston.data, boston.target, test_size=0.2, random_state=8)\n",
        "\n",
        "### baseline: linear regression\n",
        "linear = LinearRegression()\n",
        "linear.fit(x_train, y_train)\n",
        "print('params: ', linear.coef_)\n",
        "print('R2: ', linear.score(x_test, y_test))"
      ],
      "execution_count": null,
      "outputs": [
        {
          "output_type": "stream",
          "text": [
            "(506, 14)\n",
            "params:  [-1.11254928e-01  5.18680433e-02  1.43321667e-02  2.51154050e+00\n",
            " -1.49265180e+01  3.93483238e+00 -4.64570429e-03 -1.51844278e+00\n",
            "  2.87110592e-01 -1.12144664e-02 -9.34072213e-01  8.32690858e-03\n",
            " -5.59947918e-01]\n",
            "F2 score:  0.7079627967134545\n"
          ],
          "name": "stdout"
        }
      ]
    },
    {
      "cell_type": "code",
      "metadata": {
        "id": "pjDU8I9DOMeI",
        "colab_type": "code",
        "colab": {
          "base_uri": "https://localhost:8080/",
          "height": 109
        },
        "outputId": "208f77df-7040-4498-b566-b3a534fd8937"
      },
      "source": [
        "### target is float -> use DecisionTreeRegressor\n",
        "clf3 = DecisionTreeRegressor()\n",
        "clf3.fit(x_train, y_train)\n",
        "\n",
        "print('R2: ', clf3.score(x_test, y_test))\n",
        "print('depth: ', clf3.get_depth())\n",
        "print('n_leaves: ', clf3.get_n_leaves())\n",
        "print('feature importances: ', {name:value for (name, value) in zip(boston.feature_names, clf3.feature_importances_)})"
      ],
      "execution_count": null,
      "outputs": [
        {
          "output_type": "stream",
          "text": [
            "F2 score:  0.6381615105867223\n",
            "depth:  20\n",
            "n_leaves:  385\n",
            "feature importances:  {'CRIM': 0.05035273199888729, 'ZN': 0.000302651010642542, 'INDUS': 0.0022961163485930264, 'CHAS': 5.5566687592157774e-05, 'NOX': 0.02870238577875016, 'RM': 0.5933816503809305, 'AGE': 0.01351685514528803, 'DIS': 0.08054996642529592, 'RAD': 0.0014901103877441118, 'TAX': 0.007605263150478112, 'PTRATIO': 0.012691106040023865, 'B': 0.011179983132907207, 'LSTAT': 0.19787561351286695}\n"
          ],
          "name": "stdout"
        }
      ]
    },
    {
      "cell_type": "code",
      "metadata": {
        "id": "gqrbJnL-RwGV",
        "colab_type": "code",
        "colab": {
          "base_uri": "https://localhost:8080/",
          "height": 109
        },
        "outputId": "af811396-9f43-4a15-ab66-63b25e1b7284"
      },
      "source": [
        "clf4 = DecisionTreeRegressor(max_depth=4, min_samples_split=5)\n",
        "clf4.fit(x_train, y_train)\n",
        "\n",
        "print('R2: ', clf4.score(x_test, y_test))\n",
        "print('depth: ', clf4.get_depth())\n",
        "print('n_leaves: ', clf4.get_n_leaves())\n",
        "print('feature importances: ', {name:value for (name, value) in zip(boston.feature_names, clf4.feature_importances_)})"
      ],
      "execution_count": null,
      "outputs": [
        {
          "output_type": "stream",
          "text": [
            "F2 score:  0.6818204747520006\n",
            "depth:  4\n",
            "n_leaves:  15\n",
            "feature importances:  {'CRIM': 0.042398166347101564, 'ZN': 0.0, 'INDUS': 0.0, 'CHAS': 0.0, 'NOX': 0.028017752588531186, 'RM': 0.6435335884774532, 'AGE': 0.0, 'DIS': 0.0788426307146012, 'RAD': 0.0, 'TAX': 0.0, 'PTRATIO': 0.007935009271750696, 'B': 0.002317026508720124, 'LSTAT': 0.19695582609184195}\n"
          ],
          "name": "stdout"
        }
      ]
    },
    {
      "cell_type": "code",
      "metadata": {
        "id": "5HMcSloqSny-",
        "colab_type": "code",
        "colab": {
          "base_uri": "https://localhost:8080/",
          "height": 756
        },
        "outputId": "2ba091d3-31c5-43e8-9f0a-a3ff01aeb14f"
      },
      "source": [
        "import graphviz \n",
        "dot_data = tree.export_graphviz(clf, out_file=None, \n",
        "                     feature_names=iris.feature_names,  \n",
        "                     class_names=iris.target_names,  \n",
        "                      filled=True, rounded=True,  \n",
        "                      special_characters=True)  \n",
        "graph = graphviz.Source(dot_data)  \n",
        "graph "
      ],
      "execution_count": null,
      "outputs": [
        {
          "output_type": "execute_result",
          "data": {
            "text/plain": [
              "<graphviz.files.Source at 0x7f78f6fee748>"
            ],
            "image/svg+xml": "<?xml version=\"1.0\" encoding=\"UTF-8\" standalone=\"no\"?>\n<!DOCTYPE svg PUBLIC \"-//W3C//DTD SVG 1.1//EN\"\n \"http://www.w3.org/Graphics/SVG/1.1/DTD/svg11.dtd\">\n<!-- Generated by graphviz version 2.40.1 (20161225.0304)\n -->\n<!-- Title: Tree Pages: 1 -->\n<svg width=\"866pt\" height=\"552pt\"\n viewBox=\"0.00 0.00 865.50 552.00\" xmlns=\"http://www.w3.org/2000/svg\" xmlns:xlink=\"http://www.w3.org/1999/xlink\">\n<g id=\"graph0\" class=\"graph\" transform=\"scale(1 1) rotate(0) translate(4 548)\">\n<title>Tree</title>\n<polygon fill=\"#ffffff\" stroke=\"transparent\" points=\"-4,4 -4,-548 861.5,-548 861.5,4 -4,4\"/>\n<!-- 0 -->\n<g id=\"node1\" class=\"node\">\n<title>0</title>\n<path fill=\"#f4fef8\" stroke=\"#000000\" d=\"M507.5,-544C507.5,-544 378.5,-544 378.5,-544 372.5,-544 366.5,-538 366.5,-532 366.5,-532 366.5,-473 366.5,-473 366.5,-467 372.5,-461 378.5,-461 378.5,-461 507.5,-461 507.5,-461 513.5,-461 519.5,-467 519.5,-473 519.5,-473 519.5,-532 519.5,-532 519.5,-538 513.5,-544 507.5,-544\"/>\n<text text-anchor=\"start\" x=\"374.5\" y=\"-528.8\" font-family=\"Helvetica,sans-Serif\" font-size=\"14.00\" fill=\"#000000\">petal width (cm) ≤ 0.8</text>\n<text text-anchor=\"start\" x=\"392\" y=\"-513.8\" font-family=\"Helvetica,sans-Serif\" font-size=\"14.00\" fill=\"#000000\">entropy = 1.576</text>\n<text text-anchor=\"start\" x=\"395\" y=\"-498.8\" font-family=\"Helvetica,sans-Serif\" font-size=\"14.00\" fill=\"#000000\">samples = 112</text>\n<text text-anchor=\"start\" x=\"381\" y=\"-483.8\" font-family=\"Helvetica,sans-Serif\" font-size=\"14.00\" fill=\"#000000\">value = [32, 42, 38]</text>\n<text text-anchor=\"start\" x=\"387\" y=\"-468.8\" font-family=\"Helvetica,sans-Serif\" font-size=\"14.00\" fill=\"#000000\">class = versicolor</text>\n</g>\n<!-- 1 -->\n<g id=\"node2\" class=\"node\">\n<title>1</title>\n<path fill=\"#e58139\" stroke=\"#000000\" d=\"M412.5,-417.5C412.5,-417.5 313.5,-417.5 313.5,-417.5 307.5,-417.5 301.5,-411.5 301.5,-405.5 301.5,-405.5 301.5,-361.5 301.5,-361.5 301.5,-355.5 307.5,-349.5 313.5,-349.5 313.5,-349.5 412.5,-349.5 412.5,-349.5 418.5,-349.5 424.5,-355.5 424.5,-361.5 424.5,-361.5 424.5,-405.5 424.5,-405.5 424.5,-411.5 418.5,-417.5 412.5,-417.5\"/>\n<text text-anchor=\"start\" x=\"320.5\" y=\"-402.3\" font-family=\"Helvetica,sans-Serif\" font-size=\"14.00\" fill=\"#000000\">entropy = 0.0</text>\n<text text-anchor=\"start\" x=\"319\" y=\"-387.3\" font-family=\"Helvetica,sans-Serif\" font-size=\"14.00\" fill=\"#000000\">samples = 32</text>\n<text text-anchor=\"start\" x=\"309.5\" y=\"-372.3\" font-family=\"Helvetica,sans-Serif\" font-size=\"14.00\" fill=\"#000000\">value = [32, 0, 0]</text>\n<text text-anchor=\"start\" x=\"316\" y=\"-357.3\" font-family=\"Helvetica,sans-Serif\" font-size=\"14.00\" fill=\"#000000\">class = setosa</text>\n</g>\n<!-- 0&#45;&gt;1 -->\n<g id=\"edge1\" class=\"edge\">\n<title>0&#45;&gt;1</title>\n<path fill=\"none\" stroke=\"#000000\" d=\"M415.0199,-460.8796C407.4797,-449.6636 399.3113,-437.5131 391.7309,-426.2372\"/>\n<polygon fill=\"#000000\" stroke=\"#000000\" points=\"394.5527,-424.1612 386.0689,-417.8149 388.7434,-428.0667 394.5527,-424.1612\"/>\n<text text-anchor=\"middle\" x=\"381.2608\" y=\"-438.6482\" font-family=\"Helvetica,sans-Serif\" font-size=\"14.00\" fill=\"#000000\">True</text>\n</g>\n<!-- 2 -->\n<g id=\"node3\" class=\"node\">\n<title>2</title>\n<path fill=\"#ecfdf3\" stroke=\"#000000\" d=\"M591.5,-425C591.5,-425 454.5,-425 454.5,-425 448.5,-425 442.5,-419 442.5,-413 442.5,-413 442.5,-354 442.5,-354 442.5,-348 448.5,-342 454.5,-342 454.5,-342 591.5,-342 591.5,-342 597.5,-342 603.5,-348 603.5,-354 603.5,-354 603.5,-413 603.5,-413 603.5,-419 597.5,-425 591.5,-425\"/>\n<text text-anchor=\"start\" x=\"450.5\" y=\"-409.8\" font-family=\"Helvetica,sans-Serif\" font-size=\"14.00\" fill=\"#000000\">petal width (cm) ≤ 1.75</text>\n<text text-anchor=\"start\" x=\"472\" y=\"-394.8\" font-family=\"Helvetica,sans-Serif\" font-size=\"14.00\" fill=\"#000000\">entropy = 0.998</text>\n<text text-anchor=\"start\" x=\"479\" y=\"-379.8\" font-family=\"Helvetica,sans-Serif\" font-size=\"14.00\" fill=\"#000000\">samples = 80</text>\n<text text-anchor=\"start\" x=\"465.5\" y=\"-364.8\" font-family=\"Helvetica,sans-Serif\" font-size=\"14.00\" fill=\"#000000\">value = [0, 42, 38]</text>\n<text text-anchor=\"start\" x=\"467\" y=\"-349.8\" font-family=\"Helvetica,sans-Serif\" font-size=\"14.00\" fill=\"#000000\">class = versicolor</text>\n</g>\n<!-- 0&#45;&gt;2 -->\n<g id=\"edge2\" class=\"edge\">\n<title>0&#45;&gt;2</title>\n<path fill=\"none\" stroke=\"#000000\" d=\"M470.9801,-460.8796C476.8531,-452.1434 483.1073,-442.8404 489.1679,-433.8253\"/>\n<polygon fill=\"#000000\" stroke=\"#000000\" points=\"492.2259,-435.5498 494.9005,-425.2981 486.4166,-431.6444 492.2259,-435.5498\"/>\n<text text-anchor=\"middle\" x=\"499.7085\" y=\"-446.1314\" font-family=\"Helvetica,sans-Serif\" font-size=\"14.00\" fill=\"#000000\">False</text>\n</g>\n<!-- 3 -->\n<g id=\"node4\" class=\"node\">\n<title>3</title>\n<path fill=\"#4ce88d\" stroke=\"#000000\" d=\"M486.5,-306C486.5,-306 343.5,-306 343.5,-306 337.5,-306 331.5,-300 331.5,-294 331.5,-294 331.5,-235 331.5,-235 331.5,-229 337.5,-223 343.5,-223 343.5,-223 486.5,-223 486.5,-223 492.5,-223 498.5,-229 498.5,-235 498.5,-235 498.5,-294 498.5,-294 498.5,-300 492.5,-306 486.5,-306\"/>\n<text text-anchor=\"start\" x=\"339.5\" y=\"-290.8\" font-family=\"Helvetica,sans-Serif\" font-size=\"14.00\" fill=\"#000000\">petal length (cm) ≤ 4.95</text>\n<text text-anchor=\"start\" x=\"364\" y=\"-275.8\" font-family=\"Helvetica,sans-Serif\" font-size=\"14.00\" fill=\"#000000\">entropy = 0.433</text>\n<text text-anchor=\"start\" x=\"371\" y=\"-260.8\" font-family=\"Helvetica,sans-Serif\" font-size=\"14.00\" fill=\"#000000\">samples = 45</text>\n<text text-anchor=\"start\" x=\"361.5\" y=\"-245.8\" font-family=\"Helvetica,sans-Serif\" font-size=\"14.00\" fill=\"#000000\">value = [0, 41, 4]</text>\n<text text-anchor=\"start\" x=\"359\" y=\"-230.8\" font-family=\"Helvetica,sans-Serif\" font-size=\"14.00\" fill=\"#000000\">class = versicolor</text>\n</g>\n<!-- 2&#45;&gt;3 -->\n<g id=\"edge3\" class=\"edge\">\n<title>2&#45;&gt;3</title>\n<path fill=\"none\" stroke=\"#000000\" d=\"M485.2268,-341.8796C476.9713,-332.7832 468.158,-323.0722 459.6626,-313.7116\"/>\n<polygon fill=\"#000000\" stroke=\"#000000\" points=\"462.2467,-311.3509 452.9344,-306.2981 457.0632,-316.0553 462.2467,-311.3509\"/>\n</g>\n<!-- 10 -->\n<g id=\"node11\" class=\"node\">\n<title>10</title>\n<path fill=\"#853fe6\" stroke=\"#000000\" d=\"M702.5,-306C702.5,-306 559.5,-306 559.5,-306 553.5,-306 547.5,-300 547.5,-294 547.5,-294 547.5,-235 547.5,-235 547.5,-229 553.5,-223 559.5,-223 559.5,-223 702.5,-223 702.5,-223 708.5,-223 714.5,-229 714.5,-235 714.5,-235 714.5,-294 714.5,-294 714.5,-300 708.5,-306 702.5,-306\"/>\n<text text-anchor=\"start\" x=\"555.5\" y=\"-290.8\" font-family=\"Helvetica,sans-Serif\" font-size=\"14.00\" fill=\"#000000\">petal length (cm) ≤ 4.85</text>\n<text text-anchor=\"start\" x=\"580\" y=\"-275.8\" font-family=\"Helvetica,sans-Serif\" font-size=\"14.00\" fill=\"#000000\">entropy = 0.187</text>\n<text text-anchor=\"start\" x=\"587\" y=\"-260.8\" font-family=\"Helvetica,sans-Serif\" font-size=\"14.00\" fill=\"#000000\">samples = 35</text>\n<text text-anchor=\"start\" x=\"577.5\" y=\"-245.8\" font-family=\"Helvetica,sans-Serif\" font-size=\"14.00\" fill=\"#000000\">value = [0, 1, 34]</text>\n<text text-anchor=\"start\" x=\"579.5\" y=\"-230.8\" font-family=\"Helvetica,sans-Serif\" font-size=\"14.00\" fill=\"#000000\">class = virginica</text>\n</g>\n<!-- 2&#45;&gt;10 -->\n<g id=\"edge10\" class=\"edge\">\n<title>2&#45;&gt;10</title>\n<path fill=\"none\" stroke=\"#000000\" d=\"M560.7732,-341.8796C569.0287,-332.7832 577.842,-323.0722 586.3374,-313.7116\"/>\n<polygon fill=\"#000000\" stroke=\"#000000\" points=\"588.9368,-316.0553 593.0656,-306.2981 583.7533,-311.3509 588.9368,-316.0553\"/>\n</g>\n<!-- 4 -->\n<g id=\"node5\" class=\"node\">\n<title>4</title>\n<path fill=\"#3ee684\" stroke=\"#000000\" d=\"M274.5,-187C274.5,-187 137.5,-187 137.5,-187 131.5,-187 125.5,-181 125.5,-175 125.5,-175 125.5,-116 125.5,-116 125.5,-110 131.5,-104 137.5,-104 137.5,-104 274.5,-104 274.5,-104 280.5,-104 286.5,-110 286.5,-116 286.5,-116 286.5,-175 286.5,-175 286.5,-181 280.5,-187 274.5,-187\"/>\n<text text-anchor=\"start\" x=\"133.5\" y=\"-171.8\" font-family=\"Helvetica,sans-Serif\" font-size=\"14.00\" fill=\"#000000\">petal width (cm) ≤ 1.65</text>\n<text text-anchor=\"start\" x=\"155\" y=\"-156.8\" font-family=\"Helvetica,sans-Serif\" font-size=\"14.00\" fill=\"#000000\">entropy = 0.165</text>\n<text text-anchor=\"start\" x=\"162\" y=\"-141.8\" font-family=\"Helvetica,sans-Serif\" font-size=\"14.00\" fill=\"#000000\">samples = 41</text>\n<text text-anchor=\"start\" x=\"152.5\" y=\"-126.8\" font-family=\"Helvetica,sans-Serif\" font-size=\"14.00\" fill=\"#000000\">value = [0, 40, 1]</text>\n<text text-anchor=\"start\" x=\"150\" y=\"-111.8\" font-family=\"Helvetica,sans-Serif\" font-size=\"14.00\" fill=\"#000000\">class = versicolor</text>\n</g>\n<!-- 3&#45;&gt;4 -->\n<g id=\"edge4\" class=\"edge\">\n<title>3&#45;&gt;4</title>\n<path fill=\"none\" stroke=\"#000000\" d=\"M341.9019,-222.8796C324.5603,-213.0056 305.9467,-202.4075 288.2289,-192.3193\"/>\n<polygon fill=\"#000000\" stroke=\"#000000\" points=\"289.4787,-189.0034 279.0568,-187.0969 286.0151,-195.0865 289.4787,-189.0034\"/>\n</g>\n<!-- 7 -->\n<g id=\"node8\" class=\"node\">\n<title>7</title>\n<path fill=\"#ab7bee\" stroke=\"#000000\" d=\"M483.5,-187C483.5,-187 346.5,-187 346.5,-187 340.5,-187 334.5,-181 334.5,-175 334.5,-175 334.5,-116 334.5,-116 334.5,-110 340.5,-104 346.5,-104 346.5,-104 483.5,-104 483.5,-104 489.5,-104 495.5,-110 495.5,-116 495.5,-116 495.5,-175 495.5,-175 495.5,-181 489.5,-187 483.5,-187\"/>\n<text text-anchor=\"start\" x=\"342.5\" y=\"-171.8\" font-family=\"Helvetica,sans-Serif\" font-size=\"14.00\" fill=\"#000000\">petal width (cm) ≤ 1.65</text>\n<text text-anchor=\"start\" x=\"364\" y=\"-156.8\" font-family=\"Helvetica,sans-Serif\" font-size=\"14.00\" fill=\"#000000\">entropy = 0.811</text>\n<text text-anchor=\"start\" x=\"375.5\" y=\"-141.8\" font-family=\"Helvetica,sans-Serif\" font-size=\"14.00\" fill=\"#000000\">samples = 4</text>\n<text text-anchor=\"start\" x=\"365.5\" y=\"-126.8\" font-family=\"Helvetica,sans-Serif\" font-size=\"14.00\" fill=\"#000000\">value = [0, 1, 3]</text>\n<text text-anchor=\"start\" x=\"363.5\" y=\"-111.8\" font-family=\"Helvetica,sans-Serif\" font-size=\"14.00\" fill=\"#000000\">class = virginica</text>\n</g>\n<!-- 3&#45;&gt;7 -->\n<g id=\"edge7\" class=\"edge\">\n<title>3&#45;&gt;7</title>\n<path fill=\"none\" stroke=\"#000000\" d=\"M415,-222.8796C415,-214.6838 415,-205.9891 415,-197.5013\"/>\n<polygon fill=\"#000000\" stroke=\"#000000\" points=\"418.5001,-197.298 415,-187.2981 411.5001,-197.2981 418.5001,-197.298\"/>\n</g>\n<!-- 5 -->\n<g id=\"node6\" class=\"node\">\n<title>5</title>\n<path fill=\"#39e581\" stroke=\"#000000\" d=\"M116,-68C116,-68 12,-68 12,-68 6,-68 0,-62 0,-56 0,-56 0,-12 0,-12 0,-6 6,0 12,0 12,0 116,0 116,0 122,0 128,-6 128,-12 128,-12 128,-56 128,-56 128,-62 122,-68 116,-68\"/>\n<text text-anchor=\"start\" x=\"21.5\" y=\"-52.8\" font-family=\"Helvetica,sans-Serif\" font-size=\"14.00\" fill=\"#000000\">entropy = 0.0</text>\n<text text-anchor=\"start\" x=\"20\" y=\"-37.8\" font-family=\"Helvetica,sans-Serif\" font-size=\"14.00\" fill=\"#000000\">samples = 40</text>\n<text text-anchor=\"start\" x=\"10.5\" y=\"-22.8\" font-family=\"Helvetica,sans-Serif\" font-size=\"14.00\" fill=\"#000000\">value = [0, 40, 0]</text>\n<text text-anchor=\"start\" x=\"8\" y=\"-7.8\" font-family=\"Helvetica,sans-Serif\" font-size=\"14.00\" fill=\"#000000\">class = versicolor</text>\n</g>\n<!-- 4&#45;&gt;5 -->\n<g id=\"edge5\" class=\"edge\">\n<title>4&#45;&gt;5</title>\n<path fill=\"none\" stroke=\"#000000\" d=\"M153.1244,-103.9815C140.8345,-94.3313 127.7681,-84.0714 115.5368,-74.4673\"/>\n<polygon fill=\"#000000\" stroke=\"#000000\" points=\"117.6629,-71.6867 107.6362,-68.2637 113.3398,-77.1923 117.6629,-71.6867\"/>\n</g>\n<!-- 6 -->\n<g id=\"node7\" class=\"node\">\n<title>6</title>\n<path fill=\"#8139e5\" stroke=\"#000000\" d=\"M253.5,-68C253.5,-68 158.5,-68 158.5,-68 152.5,-68 146.5,-62 146.5,-56 146.5,-56 146.5,-12 146.5,-12 146.5,-6 152.5,0 158.5,0 158.5,0 253.5,0 253.5,0 259.5,0 265.5,-6 265.5,-12 265.5,-12 265.5,-56 265.5,-56 265.5,-62 259.5,-68 253.5,-68\"/>\n<text text-anchor=\"start\" x=\"163.5\" y=\"-52.8\" font-family=\"Helvetica,sans-Serif\" font-size=\"14.00\" fill=\"#000000\">entropy = 0.0</text>\n<text text-anchor=\"start\" x=\"166.5\" y=\"-37.8\" font-family=\"Helvetica,sans-Serif\" font-size=\"14.00\" fill=\"#000000\">samples = 1</text>\n<text text-anchor=\"start\" x=\"156.5\" y=\"-22.8\" font-family=\"Helvetica,sans-Serif\" font-size=\"14.00\" fill=\"#000000\">value = [0, 0, 1]</text>\n<text text-anchor=\"start\" x=\"154.5\" y=\"-7.8\" font-family=\"Helvetica,sans-Serif\" font-size=\"14.00\" fill=\"#000000\">class = virginica</text>\n</g>\n<!-- 4&#45;&gt;6 -->\n<g id=\"edge6\" class=\"edge\">\n<title>4&#45;&gt;6</title>\n<path fill=\"none\" stroke=\"#000000\" d=\"M206,-103.9815C206,-95.618 206,-86.7965 206,-78.3409\"/>\n<polygon fill=\"#000000\" stroke=\"#000000\" points=\"209.5001,-78.2636 206,-68.2637 202.5001,-78.2637 209.5001,-78.2636\"/>\n</g>\n<!-- 8 -->\n<g id=\"node9\" class=\"node\">\n<title>8</title>\n<path fill=\"#8139e5\" stroke=\"#000000\" d=\"M390.5,-68C390.5,-68 295.5,-68 295.5,-68 289.5,-68 283.5,-62 283.5,-56 283.5,-56 283.5,-12 283.5,-12 283.5,-6 289.5,0 295.5,0 295.5,0 390.5,0 390.5,0 396.5,0 402.5,-6 402.5,-12 402.5,-12 402.5,-56 402.5,-56 402.5,-62 396.5,-68 390.5,-68\"/>\n<text text-anchor=\"start\" x=\"300.5\" y=\"-52.8\" font-family=\"Helvetica,sans-Serif\" font-size=\"14.00\" fill=\"#000000\">entropy = 0.0</text>\n<text text-anchor=\"start\" x=\"303.5\" y=\"-37.8\" font-family=\"Helvetica,sans-Serif\" font-size=\"14.00\" fill=\"#000000\">samples = 3</text>\n<text text-anchor=\"start\" x=\"293.5\" y=\"-22.8\" font-family=\"Helvetica,sans-Serif\" font-size=\"14.00\" fill=\"#000000\">value = [0, 0, 3]</text>\n<text text-anchor=\"start\" x=\"291.5\" y=\"-7.8\" font-family=\"Helvetica,sans-Serif\" font-size=\"14.00\" fill=\"#000000\">class = virginica</text>\n</g>\n<!-- 7&#45;&gt;8 -->\n<g id=\"edge8\" class=\"edge\">\n<title>7&#45;&gt;8</title>\n<path fill=\"none\" stroke=\"#000000\" d=\"M388.1899,-103.9815C382.4331,-95.0666 376.3404,-85.6313 370.5559,-76.6734\"/>\n<polygon fill=\"#000000\" stroke=\"#000000\" points=\"373.4904,-74.7658 365.1254,-68.2637 367.6099,-78.5631 373.4904,-74.7658\"/>\n</g>\n<!-- 9 -->\n<g id=\"node10\" class=\"node\">\n<title>9</title>\n<path fill=\"#39e581\" stroke=\"#000000\" d=\"M537,-68C537,-68 433,-68 433,-68 427,-68 421,-62 421,-56 421,-56 421,-12 421,-12 421,-6 427,0 433,0 433,0 537,0 537,0 543,0 549,-6 549,-12 549,-12 549,-56 549,-56 549,-62 543,-68 537,-68\"/>\n<text text-anchor=\"start\" x=\"442.5\" y=\"-52.8\" font-family=\"Helvetica,sans-Serif\" font-size=\"14.00\" fill=\"#000000\">entropy = 0.0</text>\n<text text-anchor=\"start\" x=\"445.5\" y=\"-37.8\" font-family=\"Helvetica,sans-Serif\" font-size=\"14.00\" fill=\"#000000\">samples = 1</text>\n<text text-anchor=\"start\" x=\"435.5\" y=\"-22.8\" font-family=\"Helvetica,sans-Serif\" font-size=\"14.00\" fill=\"#000000\">value = [0, 1, 0]</text>\n<text text-anchor=\"start\" x=\"429\" y=\"-7.8\" font-family=\"Helvetica,sans-Serif\" font-size=\"14.00\" fill=\"#000000\">class = versicolor</text>\n</g>\n<!-- 7&#45;&gt;9 -->\n<g id=\"edge9\" class=\"edge\">\n<title>7&#45;&gt;9</title>\n<path fill=\"none\" stroke=\"#000000\" d=\"M441.0654,-103.9815C446.6045,-95.1585 452.4636,-85.8258 458.0355,-76.9506\"/>\n<polygon fill=\"#000000\" stroke=\"#000000\" points=\"461.1363,-78.594 463.4892,-68.2637 455.2078,-74.872 461.1363,-78.594\"/>\n</g>\n<!-- 11 -->\n<g id=\"node12\" class=\"node\">\n<title>11</title>\n<path fill=\"#c09cf2\" stroke=\"#000000\" d=\"M704.5,-187C704.5,-187 557.5,-187 557.5,-187 551.5,-187 545.5,-181 545.5,-175 545.5,-175 545.5,-116 545.5,-116 545.5,-110 551.5,-104 557.5,-104 557.5,-104 704.5,-104 704.5,-104 710.5,-104 716.5,-110 716.5,-116 716.5,-116 716.5,-175 716.5,-175 716.5,-181 710.5,-187 704.5,-187\"/>\n<text text-anchor=\"start\" x=\"553.5\" y=\"-171.8\" font-family=\"Helvetica,sans-Serif\" font-size=\"14.00\" fill=\"#000000\">sepal length (cm) ≤ 5.95</text>\n<text text-anchor=\"start\" x=\"580\" y=\"-156.8\" font-family=\"Helvetica,sans-Serif\" font-size=\"14.00\" fill=\"#000000\">entropy = 0.918</text>\n<text text-anchor=\"start\" x=\"591.5\" y=\"-141.8\" font-family=\"Helvetica,sans-Serif\" font-size=\"14.00\" fill=\"#000000\">samples = 3</text>\n<text text-anchor=\"start\" x=\"581.5\" y=\"-126.8\" font-family=\"Helvetica,sans-Serif\" font-size=\"14.00\" fill=\"#000000\">value = [0, 1, 2]</text>\n<text text-anchor=\"start\" x=\"579.5\" y=\"-111.8\" font-family=\"Helvetica,sans-Serif\" font-size=\"14.00\" fill=\"#000000\">class = virginica</text>\n</g>\n<!-- 10&#45;&gt;11 -->\n<g id=\"edge11\" class=\"edge\">\n<title>10&#45;&gt;11</title>\n<path fill=\"none\" stroke=\"#000000\" d=\"M631,-222.8796C631,-214.6838 631,-205.9891 631,-197.5013\"/>\n<polygon fill=\"#000000\" stroke=\"#000000\" points=\"634.5001,-197.298 631,-187.2981 627.5001,-197.2981 634.5001,-197.298\"/>\n</g>\n<!-- 14 -->\n<g id=\"node15\" class=\"node\">\n<title>14</title>\n<path fill=\"#8139e5\" stroke=\"#000000\" d=\"M845.5,-179.5C845.5,-179.5 746.5,-179.5 746.5,-179.5 740.5,-179.5 734.5,-173.5 734.5,-167.5 734.5,-167.5 734.5,-123.5 734.5,-123.5 734.5,-117.5 740.5,-111.5 746.5,-111.5 746.5,-111.5 845.5,-111.5 845.5,-111.5 851.5,-111.5 857.5,-117.5 857.5,-123.5 857.5,-123.5 857.5,-167.5 857.5,-167.5 857.5,-173.5 851.5,-179.5 845.5,-179.5\"/>\n<text text-anchor=\"start\" x=\"753.5\" y=\"-164.3\" font-family=\"Helvetica,sans-Serif\" font-size=\"14.00\" fill=\"#000000\">entropy = 0.0</text>\n<text text-anchor=\"start\" x=\"752\" y=\"-149.3\" font-family=\"Helvetica,sans-Serif\" font-size=\"14.00\" fill=\"#000000\">samples = 32</text>\n<text text-anchor=\"start\" x=\"742.5\" y=\"-134.3\" font-family=\"Helvetica,sans-Serif\" font-size=\"14.00\" fill=\"#000000\">value = [0, 0, 32]</text>\n<text text-anchor=\"start\" x=\"744.5\" y=\"-119.3\" font-family=\"Helvetica,sans-Serif\" font-size=\"14.00\" fill=\"#000000\">class = virginica</text>\n</g>\n<!-- 10&#45;&gt;14 -->\n<g id=\"edge14\" class=\"edge\">\n<title>10&#45;&gt;14</title>\n<path fill=\"none\" stroke=\"#000000\" d=\"M688.709,-222.8796C705.407,-210.8368 723.5987,-197.7167 740.1793,-185.7586\"/>\n<polygon fill=\"#000000\" stroke=\"#000000\" points=\"742.6232,-188.3113 748.6865,-179.623 738.5285,-182.6339 742.6232,-188.3113\"/>\n</g>\n<!-- 12 -->\n<g id=\"node13\" class=\"node\">\n<title>12</title>\n<path fill=\"#39e581\" stroke=\"#000000\" d=\"M683,-68C683,-68 579,-68 579,-68 573,-68 567,-62 567,-56 567,-56 567,-12 567,-12 567,-6 573,0 579,0 579,0 683,0 683,0 689,0 695,-6 695,-12 695,-12 695,-56 695,-56 695,-62 689,-68 683,-68\"/>\n<text text-anchor=\"start\" x=\"588.5\" y=\"-52.8\" font-family=\"Helvetica,sans-Serif\" font-size=\"14.00\" fill=\"#000000\">entropy = 0.0</text>\n<text text-anchor=\"start\" x=\"591.5\" y=\"-37.8\" font-family=\"Helvetica,sans-Serif\" font-size=\"14.00\" fill=\"#000000\">samples = 1</text>\n<text text-anchor=\"start\" x=\"581.5\" y=\"-22.8\" font-family=\"Helvetica,sans-Serif\" font-size=\"14.00\" fill=\"#000000\">value = [0, 1, 0]</text>\n<text text-anchor=\"start\" x=\"575\" y=\"-7.8\" font-family=\"Helvetica,sans-Serif\" font-size=\"14.00\" fill=\"#000000\">class = versicolor</text>\n</g>\n<!-- 11&#45;&gt;12 -->\n<g id=\"edge12\" class=\"edge\">\n<title>11&#45;&gt;12</title>\n<path fill=\"none\" stroke=\"#000000\" d=\"M631,-103.9815C631,-95.618 631,-86.7965 631,-78.3409\"/>\n<polygon fill=\"#000000\" stroke=\"#000000\" points=\"634.5001,-78.2636 631,-68.2637 627.5001,-78.2637 634.5001,-78.2636\"/>\n</g>\n<!-- 13 -->\n<g id=\"node14\" class=\"node\">\n<title>13</title>\n<path fill=\"#8139e5\" stroke=\"#000000\" d=\"M820.5,-68C820.5,-68 725.5,-68 725.5,-68 719.5,-68 713.5,-62 713.5,-56 713.5,-56 713.5,-12 713.5,-12 713.5,-6 719.5,0 725.5,0 725.5,0 820.5,0 820.5,0 826.5,0 832.5,-6 832.5,-12 832.5,-12 832.5,-56 832.5,-56 832.5,-62 826.5,-68 820.5,-68\"/>\n<text text-anchor=\"start\" x=\"730.5\" y=\"-52.8\" font-family=\"Helvetica,sans-Serif\" font-size=\"14.00\" fill=\"#000000\">entropy = 0.0</text>\n<text text-anchor=\"start\" x=\"733.5\" y=\"-37.8\" font-family=\"Helvetica,sans-Serif\" font-size=\"14.00\" fill=\"#000000\">samples = 2</text>\n<text text-anchor=\"start\" x=\"723.5\" y=\"-22.8\" font-family=\"Helvetica,sans-Serif\" font-size=\"14.00\" fill=\"#000000\">value = [0, 0, 2]</text>\n<text text-anchor=\"start\" x=\"721.5\" y=\"-7.8\" font-family=\"Helvetica,sans-Serif\" font-size=\"14.00\" fill=\"#000000\">class = virginica</text>\n</g>\n<!-- 11&#45;&gt;13 -->\n<g id=\"edge13\" class=\"edge\">\n<title>11&#45;&gt;13</title>\n<path fill=\"none\" stroke=\"#000000\" d=\"M683.8756,-103.9815C696.1655,-94.3313 709.2319,-84.0714 721.4632,-74.4673\"/>\n<polygon fill=\"#000000\" stroke=\"#000000\" points=\"723.6602,-77.1923 729.3638,-68.2637 719.3371,-71.6867 723.6602,-77.1923\"/>\n</g>\n</g>\n</svg>\n"
          },
          "metadata": {
            "tags": []
          },
          "execution_count": 44
        }
      ]
    }
  ]
}