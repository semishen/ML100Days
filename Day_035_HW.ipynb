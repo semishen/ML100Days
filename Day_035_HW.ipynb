{
  "nbformat": 4,
  "nbformat_minor": 0,
  "metadata": {
    "kernelspec": {
      "display_name": "Python 3",
      "language": "python",
      "name": "python3"
    },
    "language_info": {
      "codemirror_mode": {
        "name": "ipython",
        "version": 3
      },
      "file_extension": ".py",
      "mimetype": "text/x-python",
      "name": "python",
      "nbconvert_exporter": "python",
      "pygments_lexer": "ipython3",
      "version": "3.6.3"
    },
    "colab": {
      "name": "Day_035_HW.ipynb",
      "provenance": [],
      "include_colab_link": true
    }
  },
  "cells": [
    {
      "cell_type": "markdown",
      "metadata": {
        "id": "view-in-github",
        "colab_type": "text"
      },
      "source": [
        "<a href=\"https://colab.research.google.com/github/semishen/ML100Days/blob/master/Day_035_HW.ipynb\" target=\"_parent\"><img src=\"https://colab.research.google.com/assets/colab-badge.svg\" alt=\"Open In Colab\"/></a>"
      ]
    },
    {
      "cell_type": "markdown",
      "metadata": {
        "id": "HT_fOy5Qak-n",
        "colab_type": "text"
      },
      "source": [
        "## 練習時間\n",
        "相信大家對回歸問題及分類問題都有初步的了解。今天的作業希望大家搜尋有關 multi-label 的案例問題。下圖是電影 \"奇異博士\" 的分類。可以看到同時有 \"Action\", \"Adventure\", \"Fantasy\" 的類別存在，代表這是個多標籤的問題。 "
      ]
    },
    {
      "cell_type": "markdown",
      "metadata": {
        "id": "gGiuoGKKak-o",
        "colab_type": "text"
      },
      "source": [
        "![image](https://cdn-images-1.medium.com/max/1000/1*r0gYXMSQf5VhdMyl2bRDyg.png)"
      ]
    },
    {
      "cell_type": "markdown",
      "metadata": {
        "id": "VI91iiI2ak-o",
        "colab_type": "text"
      },
      "source": [
        "### Q: 請搜尋目標為多標籤問題 (Multi-label) 的機器學習案例，了解其資料來源、目標以及評估指標為何\n",
        "### A: COCO dataset is a typical multi-labeled dataset. It provides the opportunity to train and test models mainly for tasks like Object Detection. We usually use AP and IOU to evaluate models' performances. The definitions of AP and IOU are sort of complicated, please check the link (https://medium.com/@jonathan_hui/map-mean-average-precision-for-object-detection-45c121a31173) to get more inofrmation.  "
      ]
    }
  ]
}