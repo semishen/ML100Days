{
  "nbformat": 4,
  "nbformat_minor": 0,
  "metadata": {
    "kernelspec": {
      "display_name": "Python 3",
      "language": "python",
      "name": "python3"
    },
    "language_info": {
      "codemirror_mode": {
        "name": "ipython",
        "version": 3
      },
      "file_extension": ".py",
      "mimetype": "text/x-python",
      "name": "python",
      "nbconvert_exporter": "python",
      "pygments_lexer": "ipython3",
      "version": "3.7.0"
    },
    "colab": {
      "name": "Day_054_HW.ipynb",
      "provenance": [],
      "include_colab_link": true
    }
  },
  "cells": [
    {
      "cell_type": "markdown",
      "metadata": {
        "id": "view-in-github",
        "colab_type": "text"
      },
      "source": [
        "<a href=\"https://colab.research.google.com/github/semishen/ML100Days/blob/master/Day_054_HW.ipynb\" target=\"_parent\"><img src=\"https://colab.research.google.com/assets/colab-badge.svg\" alt=\"Open In Colab\"/></a>"
      ]
    },
    {
      "cell_type": "markdown",
      "metadata": {
        "id": "09M4-kdCPW03",
        "colab_type": "text"
      },
      "source": [
        "# 作業\n",
        "### Q: 試著想想看, 非監督學習是否有可能使用評價函數 (Metric) 來鑑別好壞呢? (Hint : 可以分為 \"有目標值\" 與 \"無目標值\" 兩個方向思考)\n",
        "\n",
        "<br/>\n",
        "\n",
        "### A: 可以的。假設在有目標值 (gound truth) 的狀況下，我們可以利用 e.g. confusion matrix 來評估 UL model 學到的東西跟我們假設的一不一樣。如果沒有(ground truth)，我們可以根據 UL model 的結果，進一步去猜測可能的背後概念是什麼，並提供多種可能的 evaluation metrics 的組合來推論 UL model 學到什麼。"
      ]
    },
    {
      "cell_type": "code",
      "metadata": {
        "id": "RLedx3IHPW04",
        "colab_type": "code",
        "colab": {}
      },
      "source": [
        ""
      ],
      "execution_count": null,
      "outputs": []
    }
  ]
}