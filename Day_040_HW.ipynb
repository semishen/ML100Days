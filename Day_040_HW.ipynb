{
  "nbformat": 4,
  "nbformat_minor": 0,
  "metadata": {
    "kernelspec": {
      "display_name": "Python 3",
      "language": "python",
      "name": "python3"
    },
    "language_info": {
      "codemirror_mode": {
        "name": "ipython",
        "version": 3
      },
      "file_extension": ".py",
      "mimetype": "text/x-python",
      "name": "python",
      "nbconvert_exporter": "python",
      "pygments_lexer": "ipython3",
      "version": "3.7.0"
    },
    "colab": {
      "name": "Day_040_HW.ipynb",
      "provenance": [],
      "include_colab_link": true
    }
  },
  "cells": [
    {
      "cell_type": "markdown",
      "metadata": {
        "id": "view-in-github",
        "colab_type": "text"
      },
      "source": [
        "<a href=\"https://colab.research.google.com/github/semishen/ML100Days/blob/master/Day_040_HW.ipynb\" target=\"_parent\"><img src=\"https://colab.research.google.com/assets/colab-badge.svg\" alt=\"Open In Colab\"/></a>"
      ]
    },
    {
      "cell_type": "markdown",
      "metadata": {
        "id": "FXNvWKdPvP3A",
        "colab_type": "text"
      },
      "source": [
        "## [作業重點]\n",
        "使用 Sklearn 中的 Lasso, Ridge 模型，來訓練各種資料集，務必了解送進去模型訓練的**資料型態**為何，也請了解模型中各項參數的意義。\n",
        "\n",
        "機器學習的模型非常多種，但要訓練的資料多半有固定的格式，確保你了解訓練資料的格式為何，這樣在應用新模型時，就能夠最快的上手開始訓練！"
      ]
    },
    {
      "cell_type": "markdown",
      "metadata": {
        "id": "rU2gAG-kvP3B",
        "colab_type": "text"
      },
      "source": [
        "## 練習時間\n",
        "試著使用 sklearn datasets 的其他資料集 (boston, ...)，來訓練自己的線性迴歸模型，並加上適當的正則化來觀察訓練情形。"
      ]
    },
    {
      "cell_type": "code",
      "metadata": {
        "id": "I4j3LIyVvP3B",
        "colab_type": "code",
        "colab": {}
      },
      "source": [
        "import numpy as np\n",
        "import matplotlib.pyplot as plt\n",
        "from sklearn import datasets, linear_model\n",
        "from sklearn.model_selection import train_test_split\n",
        "from sklearn.metrics import mean_squared_error, r2_score\n",
        "import pandas as pd"
      ],
      "execution_count": 1,
      "outputs": []
    },
    {
      "cell_type": "code",
      "metadata": {
        "id": "JGNY_24bvZ-D",
        "colab_type": "code",
        "colab": {
          "base_uri": "https://localhost:8080/",
          "height": 323
        },
        "outputId": "81830793-7b56-46ab-af28-dc559d51198f"
      },
      "source": [
        "boston_dset = datasets.load_boston()\n",
        "df = pd.DataFrame(boston_dset.data, columns=boston_dset.feature_names)\n",
        "df['Target'] = boston_dset.target\n",
        "#df.head()\n",
        "print(df.dtypes.value_counts())\n",
        "_list = df.isna()\n",
        "(_list == True).sum()"
      ],
      "execution_count": 14,
      "outputs": [
        {
          "output_type": "stream",
          "text": [
            "float64    14\n",
            "dtype: int64\n"
          ],
          "name": "stdout"
        },
        {
          "output_type": "execute_result",
          "data": {
            "text/plain": [
              "CRIM       0\n",
              "ZN         0\n",
              "INDUS      0\n",
              "CHAS       0\n",
              "NOX        0\n",
              "RM         0\n",
              "AGE        0\n",
              "DIS        0\n",
              "RAD        0\n",
              "TAX        0\n",
              "PTRATIO    0\n",
              "B          0\n",
              "LSTAT      0\n",
              "Target     0\n",
              "dtype: int64"
            ]
          },
          "metadata": {
            "tags": []
          },
          "execution_count": 14
        }
      ]
    },
    {
      "cell_type": "code",
      "metadata": {
        "id": "Qijfm5qXxd9c",
        "colab_type": "code",
        "colab": {}
      },
      "source": [
        "x_train, x_test, y_train, y_test = train_test_split(boston_dset.data, boston_dset.target, test_size=0.2, random_state=5)\n",
        "\n",
        "linear = linear_model.LinearRegression()\n",
        "lasso = linear_model.Lasso(alpha=0.1)\n",
        "ridge = linear_model.Ridge(alpha=0.1)\n"
      ],
      "execution_count": 17,
      "outputs": []
    },
    {
      "cell_type": "code",
      "metadata": {
        "id": "gonN_FD_yjoa",
        "colab_type": "code",
        "colab": {
          "base_uri": "https://localhost:8080/",
          "height": 89
        },
        "outputId": "45682b9a-7afc-481b-c4b7-4cef13a1b6dd"
      },
      "source": [
        "# baeline: linear regression\n",
        "linear.fit(x_train, y_train)\n",
        "y_pred = linear.predict(x_test)\n",
        "loss = mean_squared_error(y_test, y_pred)\n",
        "r2 = r2_score(y_test, y_pred)\n",
        "\n",
        "np.set_printoptions(precision=4)\n",
        "np.set_printoptions(suppress=True)\n",
        "print('params: ', linear.coef_)\n",
        "print('loss: ', loss)\n",
        "print('r2 score: ', r2)"
      ],
      "execution_count": 22,
      "outputs": [
        {
          "output_type": "stream",
          "text": [
            "params:  [ -0.1308   0.0494   0.0011   2.7054 -15.9571   3.414    0.0011  -1.4931\n",
            "   0.3644  -0.0132  -0.9524   0.0117  -0.5941]\n",
            "loss:  20.869292183770906\n",
            "r2 score:  0.7334492147453064\n"
          ],
          "name": "stdout"
        }
      ]
    },
    {
      "cell_type": "code",
      "metadata": {
        "id": "FWMTB05RziuY",
        "colab_type": "code",
        "colab": {
          "base_uri": "https://localhost:8080/",
          "height": 107
        },
        "outputId": "736f7956-ce5f-431d-8990-edd792f9b3cc"
      },
      "source": [
        "# Lasso alpha = 0.1\n",
        "lasso.fit(x_train, y_train)\n",
        "y_pred = lasso.predict(x_test)\n",
        "loss = mean_squared_error(y_test, y_pred)\n",
        "r2 = r2_score(y_test, y_pred)\n",
        "\n",
        "print('=== lasso, alpha= 0.1 ===')\n",
        "print('params: ', lasso.coef_) # knock out 1 feature\n",
        "print('loss: ', loss)\n",
        "print('r2 score: ', r2)"
      ],
      "execution_count": 24,
      "outputs": [
        {
          "output_type": "stream",
          "text": [
            "=== lasso, alpha= 0.1 ===\n",
            "params:  [-0.1229  0.0542 -0.0418  0.8275 -0.      3.1984 -0.0049 -1.196   0.3406\n",
            " -0.0156 -0.8148  0.0121 -0.6498]\n",
            "loss:  23.40636423156822\n",
            "r2 score:  0.7010447354446618\n"
          ],
          "name": "stdout"
        }
      ]
    },
    {
      "cell_type": "code",
      "metadata": {
        "id": "ZkdAgAFm044V",
        "colab_type": "code",
        "colab": {
          "base_uri": "https://localhost:8080/",
          "height": 107
        },
        "outputId": "ab7dfc8a-0a85-4a3a-b298-1e8713e1f83a"
      },
      "source": [
        "# Ridge alpha = 0.1\n",
        "ridge.fit(x_train, y_train)\n",
        "y_pred = ridge.predict(x_test)\n",
        "loss = mean_squared_error(y_test, y_pred)\n",
        "r2 = r2_score(y_test, y_pred)\n",
        "\n",
        "print('=== ridge, alpha= 0.1 ===')\n",
        "print('params: ', ridge.coef_)\n",
        "print('loss: ', loss)\n",
        "print('r2 score: ', r2)"
      ],
      "execution_count": 25,
      "outputs": [
        {
          "output_type": "stream",
          "text": [
            "=== ridge, alpha= 0.1 ===\n",
            "params:  [ -0.1303   0.0497  -0.0043   2.6748 -14.667    3.4182   0.0002  -1.4736\n",
            "   0.3617  -0.0133  -0.9396   0.0118  -0.5965]\n",
            "loss:  20.95972224078456\n",
            "r2 score:  0.7322942065880886\n"
          ],
          "name": "stdout"
        }
      ]
    },
    {
      "cell_type": "code",
      "metadata": {
        "id": "E8bw7RiZ1GXR",
        "colab_type": "code",
        "colab": {
          "base_uri": "https://localhost:8080/",
          "height": 647
        },
        "outputId": "18859bfd-8cf4-4259-8bee-7a7b8dd0d905"
      },
      "source": [
        "# Lasso, alphas\n",
        "alphas = [0.01, 0.03, 0.05, 0.07, 0.10]\n",
        "for alpha in alphas:\n",
        "  lasso = linear_model.Lasso(alpha=alpha)\n",
        "  lasso.fit(x_train, y_train)\n",
        "  y_pred = lasso.predict(x_test)\n",
        "  loss = mean_squared_error(y_test, y_pred)\n",
        "  r2 = r2_score(y_test, y_pred)\n",
        "\n",
        "  print('=== lasso, alpha= {:.2f} ==='.format(alpha))\n",
        "  print('params: ', lasso.coef_) # knock out 1 feature\n",
        "  print('loss: ', loss)\n",
        "  print('r2 score: ', r2)\n",
        "  print('======\\n')"
      ],
      "execution_count": 27,
      "outputs": [
        {
          "output_type": "stream",
          "text": [
            "=== lasso, alpha= 0.01 ===\n",
            "params:  [ -0.1293   0.0503  -0.0119   2.4865 -12.3087   3.404   -0.001   -1.4324\n",
            "   0.3575  -0.0136  -0.9178   0.0119  -0.603 ]\n",
            "loss:  21.167936856245262\n",
            "r2 score:  0.729634807852193\n",
            "======\n",
            "\n",
            "=== lasso, alpha= 0.03 ===\n",
            "params:  [-0.1262  0.0521 -0.0378  2.0487 -5.0126  3.3841 -0.0052 -1.3112  0.3435\n",
            " -0.0144 -0.8487  0.0121 -0.6209]\n",
            "loss:  22.128918967788717\n",
            "r2 score:  0.7173607674011797\n",
            "======\n",
            "\n",
            "=== lasso, alpha= 0.05 ===\n",
            "params:  [-0.1239  0.0534 -0.0541  1.6455 -0.      3.3513 -0.0078 -1.2243  0.3347\n",
            " -0.0151 -0.8027  0.0122 -0.6351]\n",
            "loss:  23.10019010181038\n",
            "r2 score:  0.7049553115194502\n",
            "======\n",
            "\n",
            "=== lasso, alpha= 0.07 ===\n",
            "params:  [-0.1235  0.0537 -0.0492  1.3183 -0.      3.2901 -0.0066 -1.213   0.337\n",
            " -0.0153 -0.8075  0.0122 -0.641 ]\n",
            "loss:  23.20865637974607\n",
            "r2 score:  0.7035699376743375\n",
            "======\n",
            "\n",
            "=== lasso, alpha= 0.10 ===\n",
            "params:  [-0.1229  0.0542 -0.0418  0.8275 -0.      3.1984 -0.0049 -1.196   0.3406\n",
            " -0.0156 -0.8148  0.0121 -0.6498]\n",
            "loss:  23.40636423156822\n",
            "r2 score:  0.7010447354446618\n",
            "======\n",
            "\n"
          ],
          "name": "stdout"
        }
      ]
    },
    {
      "cell_type": "code",
      "metadata": {
        "id": "5cBfZyRf2OWW",
        "colab_type": "code",
        "colab": {
          "base_uri": "https://localhost:8080/",
          "height": 647
        },
        "outputId": "d3658c67-718e-4235-d45e-d8a399389071"
      },
      "source": [
        "# Ridge, alphas\n",
        "# alphas = [0.2, 0.3, 0.5, 0.7]\n",
        "alphas = [0.01, 0.03, 0.05, 0.07, 0.10]\n",
        "for alpha in alphas:\n",
        "  ridge = linear_model.Ridge(alpha=alpha)\n",
        "  ridge.fit(x_train, y_train)\n",
        "  y_pred = ridge.predict(x_test)\n",
        "  loss = mean_squared_error(y_test, y_pred)\n",
        "  r2 = r2_score(y_test, y_pred)\n",
        "\n",
        "  print('=== ridge, alpha= {:.2f} ==='.format(alpha))\n",
        "  print('params: ', ridge.coef_) # knock out 1 feature\n",
        "  print('loss: ', loss)\n",
        "  print('r2 score: ', r2)\n",
        "  print('======\\n')\n"
      ],
      "execution_count": 30,
      "outputs": [
        {
          "output_type": "stream",
          "text": [
            "=== ridge, alpha= 0.01 ===\n",
            "params:  [ -0.1307   0.0494   0.0005   2.7021 -15.818    3.4145   0.001   -1.491\n",
            "   0.3641  -0.0132  -0.951    0.0118  -0.5943]\n",
            "loss:  20.878357369399158\n",
            "r2 score:  0.7333334306388588\n",
            "======\n",
            "\n",
            "=== ridge, alpha= 0.03 ===\n",
            "params:  [ -0.1307   0.0495  -0.0006   2.6958 -15.5469   3.4154   0.0008  -1.4869\n",
            "   0.3636  -0.0132  -0.9483   0.0118  -0.5948]\n",
            "loss:  20.8964976813263\n",
            "r2 score:  0.7331017354598195\n",
            "======\n",
            "\n",
            "=== ridge, alpha= 0.05 ===\n",
            "params:  [ -0.1306   0.0496  -0.0017   2.6896 -15.2849   3.4162   0.0006  -1.4829\n",
            "   0.363   -0.0132  -0.9457   0.0118  -0.5953]\n",
            "loss:  20.91462570067949\n",
            "r2 score:  0.732870197286356\n",
            "======\n",
            "\n",
            "=== ridge, alpha= 0.07 ===\n",
            "params:  [ -0.1305   0.0496  -0.0028   2.6836 -15.0317   3.4171   0.0005  -1.4791\n",
            "   0.3625  -0.0133  -0.9432   0.0118  -0.5958]\n",
            "loss:  20.93271425069434\n",
            "r2 score:  0.7326391632307627\n",
            "======\n",
            "\n",
            "=== ridge, alpha= 0.10 ===\n",
            "params:  [ -0.1303   0.0497  -0.0043   2.6748 -14.667    3.4182   0.0002  -1.4736\n",
            "   0.3617  -0.0133  -0.9396   0.0118  -0.5965]\n",
            "loss:  20.95972224078456\n",
            "r2 score:  0.7322942065880886\n",
            "======\n",
            "\n"
          ],
          "name": "stdout"
        }
      ]
    },
    {
      "cell_type": "code",
      "metadata": {
        "id": "k-kosN5u2t-n",
        "colab_type": "code",
        "colab": {}
      },
      "source": [
        ""
      ],
      "execution_count": null,
      "outputs": []
    }
  ]
}