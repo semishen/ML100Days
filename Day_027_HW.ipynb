{
  "nbformat": 4,
  "nbformat_minor": 0,
  "metadata": {
    "kernelspec": {
      "display_name": "Python 3",
      "language": "python",
      "name": "python3"
    },
    "language_info": {
      "codemirror_mode": {
        "name": "ipython",
        "version": 3
      },
      "file_extension": ".py",
      "mimetype": "text/x-python",
      "name": "python",
      "nbconvert_exporter": "python",
      "pygments_lexer": "ipython3",
      "version": "3.6.1"
    },
    "colab": {
      "name": "Day_027_HW.ipynb",
      "provenance": [],
      "include_colab_link": true
    }
  },
  "cells": [
    {
      "cell_type": "markdown",
      "metadata": {
        "id": "view-in-github",
        "colab_type": "text"
      },
      "source": [
        "<a href=\"https://colab.research.google.com/github/semishen/ML100Days/blob/master/Day_027_HW.ipynb\" target=\"_parent\"><img src=\"https://colab.research.google.com/assets/colab-badge.svg\" alt=\"Open In Colab\"/></a>"
      ]
    },
    {
      "cell_type": "markdown",
      "metadata": {
        "collapsed": true,
        "id": "eq0TVwnYcY0c",
        "colab_type": "text"
      },
      "source": [
        "# 範例 : 計程車費率預測\n",
        "https://www.kaggle.com/c/new-york-city-taxi-fare-prediction"
      ]
    },
    {
      "cell_type": "markdown",
      "metadata": {
        "id": "zDWjZI6WcY0d",
        "colab_type": "text"
      },
      "source": [
        "# [作業目標]\n",
        "- 試著模仿範例寫法, 使用程車費率預測競賽練習時間欄位處理"
      ]
    },
    {
      "cell_type": "markdown",
      "metadata": {
        "id": "uxXS-vC7cY0e",
        "colab_type": "text"
      },
      "source": [
        "# [作業重點]\n",
        "- 新增星期幾(day of week)與第幾周(week of year)這兩項特徵, 觀察有什麼影響 (In[4], Out[4], In[5], Out[5])\n",
        "- 新增加上年週期與周周期特徵 , 觀察有什麼影響 (In[8], Out[8], In[9], Out[9]) "
      ]
    },
    {
      "cell_type": "code",
      "metadata": {
        "id": "KfRhVaGpcY0e",
        "colab_type": "code",
        "colab": {
          "base_uri": "https://localhost:8080/",
          "height": 222
        },
        "outputId": "50f79417-f47d-4b53-88a1-acc95ca50625"
      },
      "source": [
        "# 做完特徵工程前的所有準備\n",
        "import pandas as pd\n",
        "import numpy as np\n",
        "import datetime\n",
        "from sklearn.preprocessing import MinMaxScaler\n",
        "from sklearn.model_selection import cross_val_score\n",
        "from sklearn.linear_model import LinearRegression\n",
        "from sklearn.ensemble import GradientBoostingRegressor\n",
        "\n",
        "df = pd.read_csv('taxi_data1.csv')\n",
        "\n",
        "train_Y = df['fare_amount']\n",
        "df = df.drop(['fare_amount'] , axis=1)\n",
        "print('df shape: ', df.shape)\n",
        "df.head()"
      ],
      "execution_count": 2,
      "outputs": [
        {
          "output_type": "stream",
          "text": [
            "df shape:  (5000, 6)\n"
          ],
          "name": "stdout"
        },
        {
          "output_type": "execute_result",
          "data": {
            "text/html": [
              "<div>\n",
              "<style scoped>\n",
              "    .dataframe tbody tr th:only-of-type {\n",
              "        vertical-align: middle;\n",
              "    }\n",
              "\n",
              "    .dataframe tbody tr th {\n",
              "        vertical-align: top;\n",
              "    }\n",
              "\n",
              "    .dataframe thead th {\n",
              "        text-align: right;\n",
              "    }\n",
              "</style>\n",
              "<table border=\"1\" class=\"dataframe\">\n",
              "  <thead>\n",
              "    <tr style=\"text-align: right;\">\n",
              "      <th></th>\n",
              "      <th>pickup_datetime</th>\n",
              "      <th>pickup_longitude</th>\n",
              "      <th>pickup_latitude</th>\n",
              "      <th>dropoff_longitude</th>\n",
              "      <th>dropoff_latitude</th>\n",
              "      <th>passenger_count</th>\n",
              "    </tr>\n",
              "  </thead>\n",
              "  <tbody>\n",
              "    <tr>\n",
              "      <th>0</th>\n",
              "      <td>2011-10-21 23:54:10 UTC</td>\n",
              "      <td>-73.990580</td>\n",
              "      <td>40.761071</td>\n",
              "      <td>-73.981128</td>\n",
              "      <td>40.758634</td>\n",
              "      <td>2</td>\n",
              "    </tr>\n",
              "    <tr>\n",
              "      <th>1</th>\n",
              "      <td>2015-02-03 10:42:03 UTC</td>\n",
              "      <td>-73.988403</td>\n",
              "      <td>40.723431</td>\n",
              "      <td>-73.989647</td>\n",
              "      <td>40.741695</td>\n",
              "      <td>1</td>\n",
              "    </tr>\n",
              "    <tr>\n",
              "      <th>2</th>\n",
              "      <td>2014-03-16 18:58:58 UTC</td>\n",
              "      <td>-74.015785</td>\n",
              "      <td>40.715110</td>\n",
              "      <td>-74.012029</td>\n",
              "      <td>40.707888</td>\n",
              "      <td>2</td>\n",
              "    </tr>\n",
              "    <tr>\n",
              "      <th>3</th>\n",
              "      <td>2009-06-13 16:10:54 UTC</td>\n",
              "      <td>-73.977322</td>\n",
              "      <td>40.787275</td>\n",
              "      <td>-73.958030</td>\n",
              "      <td>40.778838</td>\n",
              "      <td>3</td>\n",
              "    </tr>\n",
              "    <tr>\n",
              "      <th>4</th>\n",
              "      <td>2014-06-12 03:25:56 UTC</td>\n",
              "      <td>-73.989683</td>\n",
              "      <td>40.729717</td>\n",
              "      <td>-73.982490</td>\n",
              "      <td>40.761887</td>\n",
              "      <td>3</td>\n",
              "    </tr>\n",
              "  </tbody>\n",
              "</table>\n",
              "</div>"
            ],
            "text/plain": [
              "           pickup_datetime  pickup_longitude  ...  dropoff_latitude  passenger_count\n",
              "0  2011-10-21 23:54:10 UTC        -73.990580  ...         40.758634                2\n",
              "1  2015-02-03 10:42:03 UTC        -73.988403  ...         40.741695                1\n",
              "2  2014-03-16 18:58:58 UTC        -74.015785  ...         40.707888                2\n",
              "3  2009-06-13 16:10:54 UTC        -73.977322  ...         40.778838                3\n",
              "4  2014-06-12 03:25:56 UTC        -73.989683  ...         40.761887                3\n",
              "\n",
              "[5 rows x 6 columns]"
            ]
          },
          "metadata": {
            "tags": []
          },
          "execution_count": 2
        }
      ]
    },
    {
      "cell_type": "code",
      "metadata": {
        "id": "six0Z3HecY0i",
        "colab_type": "code",
        "colab": {
          "base_uri": "https://localhost:8080/",
          "height": 327
        },
        "outputId": "7f065e63-7195-43c5-9f2f-75c230d06cfa"
      },
      "source": [
        "# 時間特徵分解方式:使用datetime\n",
        "df['pickup_datetime'] = df['pickup_datetime'].apply(lambda x: datetime.datetime.strptime(x, '%Y-%m-%d %H:%M:%S UTC'))\n",
        "df['pickup_year'] = df['pickup_datetime'].apply(lambda x: datetime.datetime.strftime(x, '%Y')).astype('int64')\n",
        "df['pickup_month'] = df['pickup_datetime'].apply(lambda x: datetime.datetime.strftime(x, '%m')).astype('int64')\n",
        "df['pickup_day'] = df['pickup_datetime'].apply(lambda x: datetime.datetime.strftime(x, '%d')).astype('int64')\n",
        "df['pickup_hour'] = df['pickup_datetime'].apply(lambda x: datetime.datetime.strftime(x, '%H')).astype('int64')\n",
        "df['pickup_minute'] = df['pickup_datetime'].apply(lambda x: datetime.datetime.strftime(x, '%M')).astype('int64')\n",
        "df['pickup_second'] = df['pickup_datetime'].apply(lambda x: datetime.datetime.strftime(x, '%S')).astype('int64')\n",
        "print('df shape: ', df.shape)\n",
        "df.head()"
      ],
      "execution_count": 3,
      "outputs": [
        {
          "output_type": "stream",
          "text": [
            "df shape:  (5000, 12)\n"
          ],
          "name": "stdout"
        },
        {
          "output_type": "execute_result",
          "data": {
            "text/html": [
              "<div>\n",
              "<style scoped>\n",
              "    .dataframe tbody tr th:only-of-type {\n",
              "        vertical-align: middle;\n",
              "    }\n",
              "\n",
              "    .dataframe tbody tr th {\n",
              "        vertical-align: top;\n",
              "    }\n",
              "\n",
              "    .dataframe thead th {\n",
              "        text-align: right;\n",
              "    }\n",
              "</style>\n",
              "<table border=\"1\" class=\"dataframe\">\n",
              "  <thead>\n",
              "    <tr style=\"text-align: right;\">\n",
              "      <th></th>\n",
              "      <th>pickup_datetime</th>\n",
              "      <th>pickup_longitude</th>\n",
              "      <th>pickup_latitude</th>\n",
              "      <th>dropoff_longitude</th>\n",
              "      <th>dropoff_latitude</th>\n",
              "      <th>passenger_count</th>\n",
              "      <th>pickup_year</th>\n",
              "      <th>pickup_month</th>\n",
              "      <th>pickup_day</th>\n",
              "      <th>pickup_hour</th>\n",
              "      <th>pickup_minute</th>\n",
              "      <th>pickup_second</th>\n",
              "    </tr>\n",
              "  </thead>\n",
              "  <tbody>\n",
              "    <tr>\n",
              "      <th>0</th>\n",
              "      <td>2011-10-21 23:54:10</td>\n",
              "      <td>-73.990580</td>\n",
              "      <td>40.761071</td>\n",
              "      <td>-73.981128</td>\n",
              "      <td>40.758634</td>\n",
              "      <td>2</td>\n",
              "      <td>2011</td>\n",
              "      <td>10</td>\n",
              "      <td>21</td>\n",
              "      <td>23</td>\n",
              "      <td>54</td>\n",
              "      <td>10</td>\n",
              "    </tr>\n",
              "    <tr>\n",
              "      <th>1</th>\n",
              "      <td>2015-02-03 10:42:03</td>\n",
              "      <td>-73.988403</td>\n",
              "      <td>40.723431</td>\n",
              "      <td>-73.989647</td>\n",
              "      <td>40.741695</td>\n",
              "      <td>1</td>\n",
              "      <td>2015</td>\n",
              "      <td>2</td>\n",
              "      <td>3</td>\n",
              "      <td>10</td>\n",
              "      <td>42</td>\n",
              "      <td>3</td>\n",
              "    </tr>\n",
              "    <tr>\n",
              "      <th>2</th>\n",
              "      <td>2014-03-16 18:58:58</td>\n",
              "      <td>-74.015785</td>\n",
              "      <td>40.715110</td>\n",
              "      <td>-74.012029</td>\n",
              "      <td>40.707888</td>\n",
              "      <td>2</td>\n",
              "      <td>2014</td>\n",
              "      <td>3</td>\n",
              "      <td>16</td>\n",
              "      <td>18</td>\n",
              "      <td>58</td>\n",
              "      <td>58</td>\n",
              "    </tr>\n",
              "    <tr>\n",
              "      <th>3</th>\n",
              "      <td>2009-06-13 16:10:54</td>\n",
              "      <td>-73.977322</td>\n",
              "      <td>40.787275</td>\n",
              "      <td>-73.958030</td>\n",
              "      <td>40.778838</td>\n",
              "      <td>3</td>\n",
              "      <td>2009</td>\n",
              "      <td>6</td>\n",
              "      <td>13</td>\n",
              "      <td>16</td>\n",
              "      <td>10</td>\n",
              "      <td>54</td>\n",
              "    </tr>\n",
              "    <tr>\n",
              "      <th>4</th>\n",
              "      <td>2014-06-12 03:25:56</td>\n",
              "      <td>-73.989683</td>\n",
              "      <td>40.729717</td>\n",
              "      <td>-73.982490</td>\n",
              "      <td>40.761887</td>\n",
              "      <td>3</td>\n",
              "      <td>2014</td>\n",
              "      <td>6</td>\n",
              "      <td>12</td>\n",
              "      <td>3</td>\n",
              "      <td>25</td>\n",
              "      <td>56</td>\n",
              "    </tr>\n",
              "  </tbody>\n",
              "</table>\n",
              "</div>"
            ],
            "text/plain": [
              "      pickup_datetime  pickup_longitude  ...  pickup_minute  pickup_second\n",
              "0 2011-10-21 23:54:10        -73.990580  ...             54             10\n",
              "1 2015-02-03 10:42:03        -73.988403  ...             42              3\n",
              "2 2014-03-16 18:58:58        -74.015785  ...             58             58\n",
              "3 2009-06-13 16:10:54        -73.977322  ...             10             54\n",
              "4 2014-06-12 03:25:56        -73.989683  ...             25             56\n",
              "\n",
              "[5 rows x 12 columns]"
            ]
          },
          "metadata": {
            "tags": []
          },
          "execution_count": 3
        }
      ]
    },
    {
      "cell_type": "code",
      "metadata": {
        "id": "JjLqP7RicY0k",
        "colab_type": "code",
        "colab": {
          "base_uri": "https://localhost:8080/",
          "height": 53
        },
        "outputId": "24379040-092b-4add-f485-830346456154"
      },
      "source": [
        "# 將結果使用線性迴歸 / 梯度提升樹分別看結果\n",
        "df_temp = df.drop(['pickup_datetime'] , axis=1)\n",
        "scaler = MinMaxScaler()\n",
        "train_X = scaler.fit_transform(df_temp)\n",
        "Linear = LinearRegression()\n",
        "liner_regress_scrore = cross_val_score(Linear, train_X, train_Y, cv=5).mean()\n",
        "print('Linear Reg Score: ', liner_regress_scrore)\n",
        "GDBT = GradientBoostingRegressor()\n",
        "GDBT_score = cross_val_score(GDBT, train_X, train_Y, cv=5).mean()\n",
        "print('Gradient Boosting Reg Score: ', GDBT_score)"
      ],
      "execution_count": 4,
      "outputs": [
        {
          "output_type": "stream",
          "text": [
            "Linear Reg Score:  0.026876871475639042\n",
            "Gradient Boosting Reg Score:  0.7110013809681612\n"
          ],
          "name": "stdout"
        }
      ]
    },
    {
      "cell_type": "markdown",
      "metadata": {
        "collapsed": true,
        "id": "Rwj55EmZcY0m",
        "colab_type": "text"
      },
      "source": [
        "# 作業1\n",
        "### Q1:  對照範例，試著加入星期幾 (day of week) 與第幾周 (week of year) 這兩項特徵， 看看結果會比原本只有時間特徵分解的結果更好或更差?\n",
        "### A1: 加入星期幾 (day of week) 與第幾周 (week of year) 後 Linear Reg Score 變差， Gradient Boosting Reg Score 變好\n"
      ]
    },
    {
      "cell_type": "code",
      "metadata": {
        "id": "y9SM0pXRcY0n",
        "colab_type": "code",
        "colab": {
          "base_uri": "https://localhost:8080/",
          "height": 309
        },
        "outputId": "a2495421-2a4c-4c33-8911-b3b7ae79994c"
      },
      "source": [
        "# 加入星期幾與第幾周兩個特徵\n",
        "# day of week\n",
        "df['pick_up_day_of_week'] = df['pickup_datetime'].apply(lambda x: x.isocalendar()[2]).astype('int64')\n",
        "# week of year\n",
        "df['pick_up_week_of_year'] = df['pickup_datetime'].apply(lambda x: x.isocalendar()[1]).astype('int64')\n",
        "df.head()"
      ],
      "execution_count": 15,
      "outputs": [
        {
          "output_type": "execute_result",
          "data": {
            "text/html": [
              "<div>\n",
              "<style scoped>\n",
              "    .dataframe tbody tr th:only-of-type {\n",
              "        vertical-align: middle;\n",
              "    }\n",
              "\n",
              "    .dataframe tbody tr th {\n",
              "        vertical-align: top;\n",
              "    }\n",
              "\n",
              "    .dataframe thead th {\n",
              "        text-align: right;\n",
              "    }\n",
              "</style>\n",
              "<table border=\"1\" class=\"dataframe\">\n",
              "  <thead>\n",
              "    <tr style=\"text-align: right;\">\n",
              "      <th></th>\n",
              "      <th>pickup_datetime</th>\n",
              "      <th>pickup_longitude</th>\n",
              "      <th>pickup_latitude</th>\n",
              "      <th>dropoff_longitude</th>\n",
              "      <th>dropoff_latitude</th>\n",
              "      <th>passenger_count</th>\n",
              "      <th>pickup_year</th>\n",
              "      <th>pickup_month</th>\n",
              "      <th>pickup_day</th>\n",
              "      <th>pickup_hour</th>\n",
              "      <th>pickup_minute</th>\n",
              "      <th>pickup_second</th>\n",
              "      <th>pick_up_day_of_week</th>\n",
              "      <th>pick_up_week_of_year</th>\n",
              "    </tr>\n",
              "  </thead>\n",
              "  <tbody>\n",
              "    <tr>\n",
              "      <th>0</th>\n",
              "      <td>2011-10-21 23:54:10</td>\n",
              "      <td>-73.990580</td>\n",
              "      <td>40.761071</td>\n",
              "      <td>-73.981128</td>\n",
              "      <td>40.758634</td>\n",
              "      <td>2</td>\n",
              "      <td>2011</td>\n",
              "      <td>10</td>\n",
              "      <td>21</td>\n",
              "      <td>23</td>\n",
              "      <td>54</td>\n",
              "      <td>10</td>\n",
              "      <td>5</td>\n",
              "      <td>42</td>\n",
              "    </tr>\n",
              "    <tr>\n",
              "      <th>1</th>\n",
              "      <td>2015-02-03 10:42:03</td>\n",
              "      <td>-73.988403</td>\n",
              "      <td>40.723431</td>\n",
              "      <td>-73.989647</td>\n",
              "      <td>40.741695</td>\n",
              "      <td>1</td>\n",
              "      <td>2015</td>\n",
              "      <td>2</td>\n",
              "      <td>3</td>\n",
              "      <td>10</td>\n",
              "      <td>42</td>\n",
              "      <td>3</td>\n",
              "      <td>2</td>\n",
              "      <td>6</td>\n",
              "    </tr>\n",
              "    <tr>\n",
              "      <th>2</th>\n",
              "      <td>2014-03-16 18:58:58</td>\n",
              "      <td>-74.015785</td>\n",
              "      <td>40.715110</td>\n",
              "      <td>-74.012029</td>\n",
              "      <td>40.707888</td>\n",
              "      <td>2</td>\n",
              "      <td>2014</td>\n",
              "      <td>3</td>\n",
              "      <td>16</td>\n",
              "      <td>18</td>\n",
              "      <td>58</td>\n",
              "      <td>58</td>\n",
              "      <td>7</td>\n",
              "      <td>11</td>\n",
              "    </tr>\n",
              "    <tr>\n",
              "      <th>3</th>\n",
              "      <td>2009-06-13 16:10:54</td>\n",
              "      <td>-73.977322</td>\n",
              "      <td>40.787275</td>\n",
              "      <td>-73.958030</td>\n",
              "      <td>40.778838</td>\n",
              "      <td>3</td>\n",
              "      <td>2009</td>\n",
              "      <td>6</td>\n",
              "      <td>13</td>\n",
              "      <td>16</td>\n",
              "      <td>10</td>\n",
              "      <td>54</td>\n",
              "      <td>6</td>\n",
              "      <td>24</td>\n",
              "    </tr>\n",
              "    <tr>\n",
              "      <th>4</th>\n",
              "      <td>2014-06-12 03:25:56</td>\n",
              "      <td>-73.989683</td>\n",
              "      <td>40.729717</td>\n",
              "      <td>-73.982490</td>\n",
              "      <td>40.761887</td>\n",
              "      <td>3</td>\n",
              "      <td>2014</td>\n",
              "      <td>6</td>\n",
              "      <td>12</td>\n",
              "      <td>3</td>\n",
              "      <td>25</td>\n",
              "      <td>56</td>\n",
              "      <td>4</td>\n",
              "      <td>24</td>\n",
              "    </tr>\n",
              "  </tbody>\n",
              "</table>\n",
              "</div>"
            ],
            "text/plain": [
              "      pickup_datetime  ...  pick_up_week_of_year\n",
              "0 2011-10-21 23:54:10  ...                    42\n",
              "1 2015-02-03 10:42:03  ...                     6\n",
              "2 2014-03-16 18:58:58  ...                    11\n",
              "3 2009-06-13 16:10:54  ...                    24\n",
              "4 2014-06-12 03:25:56  ...                    24\n",
              "\n",
              "[5 rows x 14 columns]"
            ]
          },
          "metadata": {
            "tags": []
          },
          "execution_count": 15
        }
      ]
    },
    {
      "cell_type": "code",
      "metadata": {
        "id": "nrDA4TqhcY0p",
        "colab_type": "code",
        "colab": {
          "base_uri": "https://localhost:8080/",
          "height": 53
        },
        "outputId": "ca735345-1e8f-46e2-c188-a678b8a3de22"
      },
      "source": [
        "# 將結果使用線性迴歸 / 梯度提升樹分別看結果\n",
        "df_temp = df.drop(['pickup_datetime'] , axis=1)\n",
        "train_X = scaler.fit_transform(df_temp)\n",
        "\n",
        "liner_regress_scrore = cross_val_score(Linear, train_X, train_Y, cv=5).mean()\n",
        "print('Linear Reg Score: ', liner_regress_scrore)\n",
        "\n",
        "GDBT_score = cross_val_score(GDBT, train_X, train_Y, cv=5).mean()\n",
        "print('Gradient Boosting Reg Score: ', GDBT_score)"
      ],
      "execution_count": 16,
      "outputs": [
        {
          "output_type": "stream",
          "text": [
            "Linear Reg Score:  0.026481023863714405\n",
            "Gradient Boosting Reg Score:  0.7091466027074175\n"
          ],
          "name": "stdout"
        }
      ]
    },
    {
      "cell_type": "code",
      "metadata": {
        "id": "GuwqWAhHcY0r",
        "colab_type": "code",
        "colab": {
          "base_uri": "https://localhost:8080/",
          "height": 309
        },
        "outputId": "b9a3fb76-d5a2-4fb1-f6d8-709b40d0caee"
      },
      "source": [
        "# 加上\"日週期\"特徵 (參考講義\"週期循環特徵\")\n",
        "import math\n",
        "df['day_cycle'] = df['pickup_hour']/12 + df['pickup_minute']/720 + df['pickup_second']/43200\n",
        "df['day_cycle'] = df['day_cycle'].map(lambda x:math.sin(x*math.pi))\n",
        "df.head()"
      ],
      "execution_count": 17,
      "outputs": [
        {
          "output_type": "execute_result",
          "data": {
            "text/html": [
              "<div>\n",
              "<style scoped>\n",
              "    .dataframe tbody tr th:only-of-type {\n",
              "        vertical-align: middle;\n",
              "    }\n",
              "\n",
              "    .dataframe tbody tr th {\n",
              "        vertical-align: top;\n",
              "    }\n",
              "\n",
              "    .dataframe thead th {\n",
              "        text-align: right;\n",
              "    }\n",
              "</style>\n",
              "<table border=\"1\" class=\"dataframe\">\n",
              "  <thead>\n",
              "    <tr style=\"text-align: right;\">\n",
              "      <th></th>\n",
              "      <th>pickup_datetime</th>\n",
              "      <th>pickup_longitude</th>\n",
              "      <th>pickup_latitude</th>\n",
              "      <th>dropoff_longitude</th>\n",
              "      <th>dropoff_latitude</th>\n",
              "      <th>passenger_count</th>\n",
              "      <th>pickup_year</th>\n",
              "      <th>pickup_month</th>\n",
              "      <th>pickup_day</th>\n",
              "      <th>pickup_hour</th>\n",
              "      <th>pickup_minute</th>\n",
              "      <th>pickup_second</th>\n",
              "      <th>pick_up_day_of_week</th>\n",
              "      <th>pick_up_week_of_year</th>\n",
              "      <th>day_cycle</th>\n",
              "    </tr>\n",
              "  </thead>\n",
              "  <tbody>\n",
              "    <tr>\n",
              "      <th>0</th>\n",
              "      <td>2011-10-21 23:54:10</td>\n",
              "      <td>-73.990580</td>\n",
              "      <td>40.761071</td>\n",
              "      <td>-73.981128</td>\n",
              "      <td>40.758634</td>\n",
              "      <td>2</td>\n",
              "      <td>2011</td>\n",
              "      <td>10</td>\n",
              "      <td>21</td>\n",
              "      <td>23</td>\n",
              "      <td>54</td>\n",
              "      <td>10</td>\n",
              "      <td>5</td>\n",
              "      <td>42</td>\n",
              "      <td>-0.025450</td>\n",
              "    </tr>\n",
              "    <tr>\n",
              "      <th>1</th>\n",
              "      <td>2015-02-03 10:42:03</td>\n",
              "      <td>-73.988403</td>\n",
              "      <td>40.723431</td>\n",
              "      <td>-73.989647</td>\n",
              "      <td>40.741695</td>\n",
              "      <td>1</td>\n",
              "      <td>2015</td>\n",
              "      <td>2</td>\n",
              "      <td>3</td>\n",
              "      <td>10</td>\n",
              "      <td>42</td>\n",
              "      <td>3</td>\n",
              "      <td>2</td>\n",
              "      <td>6</td>\n",
              "      <td>0.333601</td>\n",
              "    </tr>\n",
              "    <tr>\n",
              "      <th>2</th>\n",
              "      <td>2014-03-16 18:58:58</td>\n",
              "      <td>-74.015785</td>\n",
              "      <td>40.715110</td>\n",
              "      <td>-74.012029</td>\n",
              "      <td>40.707888</td>\n",
              "      <td>2</td>\n",
              "      <td>2014</td>\n",
              "      <td>3</td>\n",
              "      <td>16</td>\n",
              "      <td>18</td>\n",
              "      <td>58</td>\n",
              "      <td>58</td>\n",
              "      <td>7</td>\n",
              "      <td>11</td>\n",
              "      <td>-0.967083</td>\n",
              "    </tr>\n",
              "    <tr>\n",
              "      <th>3</th>\n",
              "      <td>2009-06-13 16:10:54</td>\n",
              "      <td>-73.977322</td>\n",
              "      <td>40.787275</td>\n",
              "      <td>-73.958030</td>\n",
              "      <td>40.778838</td>\n",
              "      <td>3</td>\n",
              "      <td>2009</td>\n",
              "      <td>6</td>\n",
              "      <td>13</td>\n",
              "      <td>16</td>\n",
              "      <td>10</td>\n",
              "      <td>54</td>\n",
              "      <td>6</td>\n",
              "      <td>24</td>\n",
              "      <td>-0.888817</td>\n",
              "    </tr>\n",
              "    <tr>\n",
              "      <th>4</th>\n",
              "      <td>2014-06-12 03:25:56</td>\n",
              "      <td>-73.989683</td>\n",
              "      <td>40.729717</td>\n",
              "      <td>-73.982490</td>\n",
              "      <td>40.761887</td>\n",
              "      <td>3</td>\n",
              "      <td>2014</td>\n",
              "      <td>6</td>\n",
              "      <td>12</td>\n",
              "      <td>3</td>\n",
              "      <td>25</td>\n",
              "      <td>56</td>\n",
              "      <td>4</td>\n",
              "      <td>24</td>\n",
              "      <td>0.782427</td>\n",
              "    </tr>\n",
              "  </tbody>\n",
              "</table>\n",
              "</div>"
            ],
            "text/plain": [
              "      pickup_datetime  pickup_longitude  ...  pick_up_week_of_year  day_cycle\n",
              "0 2011-10-21 23:54:10        -73.990580  ...                    42  -0.025450\n",
              "1 2015-02-03 10:42:03        -73.988403  ...                     6   0.333601\n",
              "2 2014-03-16 18:58:58        -74.015785  ...                    11  -0.967083\n",
              "3 2009-06-13 16:10:54        -73.977322  ...                    24  -0.888817\n",
              "4 2014-06-12 03:25:56        -73.989683  ...                    24   0.782427\n",
              "\n",
              "[5 rows x 15 columns]"
            ]
          },
          "metadata": {
            "tags": []
          },
          "execution_count": 17
        }
      ]
    },
    {
      "cell_type": "code",
      "metadata": {
        "id": "E0rouMc_cY0u",
        "colab_type": "code",
        "colab": {
          "base_uri": "https://localhost:8080/",
          "height": 53
        },
        "outputId": "fed9d557-82cc-4b20-ae76-b11caba7508b"
      },
      "source": [
        "# 將結果使用線性迴歸 / 梯度提升樹分別看結果\n",
        "df_temp = df.drop(['pickup_datetime'] , axis=1)\n",
        "train_X = scaler.fit_transform(df_temp)\n",
        "\n",
        "liner_regress_scrore = cross_val_score(Linear, train_X, train_Y, cv=5).mean()\n",
        "print('Linear Reg Score: ', liner_regress_scrore)\n",
        "\n",
        "GDBT_score = cross_val_score(GDBT, train_X, train_Y, cv=5).mean()\n",
        "print('Gradient Boosting Reg Score: ', GDBT_score)"
      ],
      "execution_count": 18,
      "outputs": [
        {
          "output_type": "stream",
          "text": [
            "Linear Reg Score:  0.026080352293791666\n",
            "Gradient Boosting Reg Score:  0.715588280262393\n"
          ],
          "name": "stdout"
        }
      ]
    },
    {
      "cell_type": "markdown",
      "metadata": {
        "collapsed": true,
        "id": "_eTruNF8cY0x",
        "colab_type": "text"
      },
      "source": [
        "# 作業2\n",
        "### Q: 對照範例的日週期效果，試著參考投影片完成年週期與周週期的特徵 (也可以用你自己想到的方式)，看看結果會比範例中的結果更好或更差?\n",
        "\n",
        "### A:  加上\"年週期\"與\"周週期\"特徵後，不管是 Linear Reg Score 或是 Gradient Boosting Reg Score 都變差了一些"
      ]
    },
    {
      "cell_type": "code",
      "metadata": {
        "id": "pwlmzx2OcY0x",
        "colab_type": "code",
        "colab": {
          "base_uri": "https://localhost:8080/",
          "height": 309
        },
        "outputId": "68f3c186-c0f1-4576-fc46-cbb41c1283cd"
      },
      "source": [
        "# 加上\"年週期\"與\"周週期\"特徵\n",
        "# year cycle\n",
        "df['year_cycle'] = df['pickup_month']/6 + df['pickup_day']/180\n",
        "df['year_cycle'] = df['year_cycle'].map(lambda x:math.cos(x*math.pi))\n",
        "# week cycle\n",
        "df['week_cycle'] = df['pick_up_day_of_week']/3.5 + df['pickup_hour']/84\n",
        "df['week_cycle'] = df['week_cycle'].map(lambda x:math.sin(x*math.pi))\n",
        "df.head()"
      ],
      "execution_count": 19,
      "outputs": [
        {
          "output_type": "execute_result",
          "data": {
            "text/html": [
              "<div>\n",
              "<style scoped>\n",
              "    .dataframe tbody tr th:only-of-type {\n",
              "        vertical-align: middle;\n",
              "    }\n",
              "\n",
              "    .dataframe tbody tr th {\n",
              "        vertical-align: top;\n",
              "    }\n",
              "\n",
              "    .dataframe thead th {\n",
              "        text-align: right;\n",
              "    }\n",
              "</style>\n",
              "<table border=\"1\" class=\"dataframe\">\n",
              "  <thead>\n",
              "    <tr style=\"text-align: right;\">\n",
              "      <th></th>\n",
              "      <th>pickup_datetime</th>\n",
              "      <th>pickup_longitude</th>\n",
              "      <th>pickup_latitude</th>\n",
              "      <th>dropoff_longitude</th>\n",
              "      <th>dropoff_latitude</th>\n",
              "      <th>passenger_count</th>\n",
              "      <th>pickup_year</th>\n",
              "      <th>pickup_month</th>\n",
              "      <th>pickup_day</th>\n",
              "      <th>pickup_hour</th>\n",
              "      <th>pickup_minute</th>\n",
              "      <th>pickup_second</th>\n",
              "      <th>pick_up_day_of_week</th>\n",
              "      <th>pick_up_week_of_year</th>\n",
              "      <th>day_cycle</th>\n",
              "      <th>year_cycle</th>\n",
              "      <th>week_cycle</th>\n",
              "    </tr>\n",
              "  </thead>\n",
              "  <tbody>\n",
              "    <tr>\n",
              "      <th>0</th>\n",
              "      <td>2011-10-21 23:54:10</td>\n",
              "      <td>-73.990580</td>\n",
              "      <td>40.761071</td>\n",
              "      <td>-73.981128</td>\n",
              "      <td>40.758634</td>\n",
              "      <td>2</td>\n",
              "      <td>2011</td>\n",
              "      <td>10</td>\n",
              "      <td>21</td>\n",
              "      <td>23</td>\n",
              "      <td>54</td>\n",
              "      <td>10</td>\n",
              "      <td>5</td>\n",
              "      <td>42</td>\n",
              "      <td>-0.025450</td>\n",
              "      <td>0.777146</td>\n",
              "      <td>-0.804598</td>\n",
              "    </tr>\n",
              "    <tr>\n",
              "      <th>1</th>\n",
              "      <td>2015-02-03 10:42:03</td>\n",
              "      <td>-73.988403</td>\n",
              "      <td>40.723431</td>\n",
              "      <td>-73.989647</td>\n",
              "      <td>40.741695</td>\n",
              "      <td>1</td>\n",
              "      <td>2015</td>\n",
              "      <td>2</td>\n",
              "      <td>3</td>\n",
              "      <td>10</td>\n",
              "      <td>42</td>\n",
              "      <td>3</td>\n",
              "      <td>2</td>\n",
              "      <td>6</td>\n",
              "      <td>0.333601</td>\n",
              "      <td>0.453990</td>\n",
              "      <td>0.826239</td>\n",
              "    </tr>\n",
              "    <tr>\n",
              "      <th>2</th>\n",
              "      <td>2014-03-16 18:58:58</td>\n",
              "      <td>-74.015785</td>\n",
              "      <td>40.715110</td>\n",
              "      <td>-74.012029</td>\n",
              "      <td>40.707888</td>\n",
              "      <td>2</td>\n",
              "      <td>2014</td>\n",
              "      <td>3</td>\n",
              "      <td>16</td>\n",
              "      <td>18</td>\n",
              "      <td>58</td>\n",
              "      <td>58</td>\n",
              "      <td>7</td>\n",
              "      <td>11</td>\n",
              "      <td>-0.967083</td>\n",
              "      <td>-0.275637</td>\n",
              "      <td>0.623490</td>\n",
              "    </tr>\n",
              "    <tr>\n",
              "      <th>3</th>\n",
              "      <td>2009-06-13 16:10:54</td>\n",
              "      <td>-73.977322</td>\n",
              "      <td>40.787275</td>\n",
              "      <td>-73.958030</td>\n",
              "      <td>40.778838</td>\n",
              "      <td>3</td>\n",
              "      <td>2009</td>\n",
              "      <td>6</td>\n",
              "      <td>13</td>\n",
              "      <td>16</td>\n",
              "      <td>10</td>\n",
              "      <td>54</td>\n",
              "      <td>6</td>\n",
              "      <td>24</td>\n",
              "      <td>-0.888817</td>\n",
              "      <td>-0.974370</td>\n",
              "      <td>-0.294755</td>\n",
              "    </tr>\n",
              "    <tr>\n",
              "      <th>4</th>\n",
              "      <td>2014-06-12 03:25:56</td>\n",
              "      <td>-73.989683</td>\n",
              "      <td>40.729717</td>\n",
              "      <td>-73.982490</td>\n",
              "      <td>40.761887</td>\n",
              "      <td>3</td>\n",
              "      <td>2014</td>\n",
              "      <td>6</td>\n",
              "      <td>12</td>\n",
              "      <td>3</td>\n",
              "      <td>25</td>\n",
              "      <td>56</td>\n",
              "      <td>4</td>\n",
              "      <td>24</td>\n",
              "      <td>0.782427</td>\n",
              "      <td>-0.978148</td>\n",
              "      <td>-0.532032</td>\n",
              "    </tr>\n",
              "  </tbody>\n",
              "</table>\n",
              "</div>"
            ],
            "text/plain": [
              "      pickup_datetime  pickup_longitude  ...  year_cycle  week_cycle\n",
              "0 2011-10-21 23:54:10        -73.990580  ...    0.777146   -0.804598\n",
              "1 2015-02-03 10:42:03        -73.988403  ...    0.453990    0.826239\n",
              "2 2014-03-16 18:58:58        -74.015785  ...   -0.275637    0.623490\n",
              "3 2009-06-13 16:10:54        -73.977322  ...   -0.974370   -0.294755\n",
              "4 2014-06-12 03:25:56        -73.989683  ...   -0.978148   -0.532032\n",
              "\n",
              "[5 rows x 17 columns]"
            ]
          },
          "metadata": {
            "tags": []
          },
          "execution_count": 19
        }
      ]
    },
    {
      "cell_type": "code",
      "metadata": {
        "id": "kMZ3tS95cY0z",
        "colab_type": "code",
        "colab": {
          "base_uri": "https://localhost:8080/",
          "height": 53
        },
        "outputId": "5f9de155-2536-42d1-cf8d-665ac9c68d97"
      },
      "source": [
        "# 將結果使用線性迴歸 / 梯度提升樹分別看結果\n",
        "df_temp = df.drop(['pickup_datetime'] , axis=1)\n",
        "train_X = scaler.fit_transform(df_temp)\n",
        "\n",
        "liner_regress_scrore = cross_val_score(Linear, train_X, train_Y, cv=5).mean()\n",
        "print('Linear Reg Score: ', liner_regress_scrore)\n",
        "\n",
        "GDBT_score = cross_val_score(GDBT, train_X, train_Y, cv=5).mean()\n",
        "print('Gradient Boosting Reg Score: ', GDBT_score)"
      ],
      "execution_count": 20,
      "outputs": [
        {
          "output_type": "stream",
          "text": [
            "Linear Reg Score:  0.026001835563947306\n",
            "Gradient Boosting Reg Score:  0.7085550576206954\n"
          ],
          "name": "stdout"
        }
      ]
    },
    {
      "cell_type": "code",
      "metadata": {
        "id": "KusI-H8RcY01",
        "colab_type": "code",
        "colab": {}
      },
      "source": [
        ""
      ],
      "execution_count": 0,
      "outputs": []
    }
  ]
}