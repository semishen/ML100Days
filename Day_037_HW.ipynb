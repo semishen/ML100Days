{
  "nbformat": 4,
  "nbformat_minor": 0,
  "metadata": {
    "kernelspec": {
      "display_name": "Python 3",
      "language": "python",
      "name": "python3"
    },
    "language_info": {
      "codemirror_mode": {
        "name": "ipython",
        "version": 3
      },
      "file_extension": ".py",
      "mimetype": "text/x-python",
      "name": "python",
      "nbconvert_exporter": "python",
      "pygments_lexer": "ipython3",
      "version": "3.6.2"
    },
    "colab": {
      "name": "Day_037_HW.ipynb",
      "provenance": [],
      "include_colab_link": true
    }
  },
  "cells": [
    {
      "cell_type": "markdown",
      "metadata": {
        "id": "view-in-github",
        "colab_type": "text"
      },
      "source": [
        "<a href=\"https://colab.research.google.com/github/semishen/ML100Days/blob/master/Day_037_HW.ipynb\" target=\"_parent\"><img src=\"https://colab.research.google.com/assets/colab-badge.svg\" alt=\"Open In Colab\"/></a>"
      ]
    },
    {
      "cell_type": "markdown",
      "metadata": {
        "id": "dyrbKVerrW4e",
        "colab_type": "text"
      },
      "source": [
        "## [作業重點]\n",
        "了解線性回歸的模型發展歷程，並了解優勢與劣勢，以及其使用情境"
      ]
    },
    {
      "cell_type": "markdown",
      "metadata": {
        "id": "S75PllQ-rW4f",
        "colab_type": "text"
      },
      "source": [
        "## 作業"
      ]
    },
    {
      "cell_type": "markdown",
      "metadata": {
        "id": "zz_g4NoSrW4f",
        "colab_type": "text"
      },
      "source": [
        "請閱讀以下相關文獻，並回答以下問題\n",
        "\n",
        "[Linear Regression 詳細介紹](https://brohrer.mcknote.com/zh-Hant/how_machine_learning_works/how_linear_regression_works.html)\n",
        "\n",
        "[Logistics Regression 詳細介紹](https://medium.com/@yehjames/%E8%B3%87%E6%96%99%E5%88%86%E6%9E%90-%E6%A9%9F%E5%99%A8%E5%AD%B8%E7%BF%92-%E7%AC%AC3-3%E8%AC%9B-%E7%B7%9A%E6%80%A7%E5%88%86%E9%A1%9E-%E9%82%8F%E8%BC%AF%E6%96%AF%E5%9B%9E%E6%AD%B8-logistic-regression-%E4%BB%8B%E7%B4%B9-a1a5f47017e5)\n"
      ]
    },
    {
      "cell_type": "markdown",
      "metadata": {
        "id": "2Wy1Q1dGrW4g",
        "colab_type": "text"
      },
      "source": [
        "### Q1: 線性回歸模型能夠準確預測非線性關係的資料集嗎?\n",
        "### A1: 這牽扯到定義為題，如果線性迴歸指的是簡單線性迴歸 (simple linear regression)，當資料違反線性假設時，此模型是無法準確預測非線性關係的資料集。若線性迴歸指的是找一條線 (curve)來解釋資料集，那非線性關係的資料集（例如指數關係）也是可以被線性迴歸模型準確預測，只是模型會變得比較複雜。\n",
        "</br>\n",
        "\n",
        "### Q2: 回歸模型是否對資料分布有基本假設?\n",
        "### A2: 回歸模型要成立必須假設資料與誤差（殘差）為常態分佈，並基於此假設下設計損失函數。不過基於中央極限定理，只要樣本數夠大，可以利用隨機抽樣的方式 ( n > 30) 讓新產生的資料集符合常態分佈。"
      ]
    },
    {
      "cell_type": "code",
      "metadata": {
        "id": "vS4uxFKCrW4g",
        "colab_type": "code",
        "colab": {}
      },
      "source": [
        ""
      ],
      "execution_count": null,
      "outputs": []
    }
  ]
}