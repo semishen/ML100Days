{
  "nbformat": 4,
  "nbformat_minor": 0,
  "metadata": {
    "kernelspec": {
      "display_name": "Python 3",
      "language": "python",
      "name": "python3"
    },
    "language_info": {
      "codemirror_mode": {
        "name": "ipython",
        "version": 3
      },
      "file_extension": ".py",
      "mimetype": "text/x-python",
      "name": "python",
      "nbconvert_exporter": "python",
      "pygments_lexer": "ipython3",
      "version": "3.6.2"
    },
    "colab": {
      "name": "Day_047_HW.ipynb",
      "provenance": [],
      "collapsed_sections": [],
      "include_colab_link": true
    }
  },
  "cells": [
    {
      "cell_type": "markdown",
      "metadata": {
        "id": "view-in-github",
        "colab_type": "text"
      },
      "source": [
        "<a href=\"https://colab.research.google.com/github/semishen/ML100Days/blob/master/Day_047_HW.ipynb\" target=\"_parent\"><img src=\"https://colab.research.google.com/assets/colab-badge.svg\" alt=\"Open In Colab\"/></a>"
      ]
    },
    {
      "cell_type": "markdown",
      "metadata": {
        "id": "WlsE-gIE7fzG",
        "colab_type": "text"
      },
      "source": [
        "## [作業重點]\n",
        "了解如何使用 Sklearn 中的 hyper-parameter search 找出最佳的超參數"
      ]
    },
    {
      "cell_type": "markdown",
      "metadata": {
        "id": "oNrCZHuy7fzH",
        "colab_type": "text"
      },
      "source": [
        "### 作業\n",
        "請使用不同的資料集，並使用 hyper-parameter search 的方式，看能不能找出最佳的超參數組合"
      ]
    },
    {
      "cell_type": "code",
      "metadata": {
        "id": "Ir9qtzxd7fzI",
        "colab_type": "code",
        "colab": {}
      },
      "source": [
        "from sklearn import datasets, metrics\n",
        "from sklearn.model_selection import train_test_split, KFold, GridSearchCV, RandomizedSearchCV\n",
        "from sklearn.ensemble import GradientBoostingRegressor, GradientBoostingClassifier\n",
        "\n",
        "import numpy as np\n",
        "import matplotlib.pyplot as plt\n",
        "import seaborn as sns"
      ],
      "execution_count": 17,
      "outputs": []
    },
    {
      "cell_type": "code",
      "metadata": {
        "id": "x2q8ilAC8f4w",
        "colab_type": "code",
        "colab": {
          "base_uri": "https://localhost:8080/",
          "height": 107
        },
        "outputId": "a83b0207-026f-4f6a-ad23-03aec4449082"
      },
      "source": [
        "digits = datasets.load_digits()\n",
        "x = digits.data\n",
        "y = digits.target\n",
        "\n",
        "print('x shape: ', x.shape)\n",
        "print('y shape: ', y.shape)\n",
        "print('labels: ', digits.target_names)\n",
        "\n",
        "x_train, x_test, y_train, y_test = train_test_split(x, y, test_size=0.25, random_state=42)\n",
        "\n",
        "print('x_train shape: ', x_train.shape)\n",
        "print('y_train shape: ', y_train.shape)"
      ],
      "execution_count": 6,
      "outputs": [
        {
          "output_type": "stream",
          "text": [
            "x shape:  (1797, 64)\n",
            "y shape:  (1797,)\n",
            "labels:  [0 1 2 3 4 5 6 7 8 9]\n",
            "x_train shape:  (1347, 64)\n",
            "y_train shape:  (1347,)\n"
          ],
          "name": "stdout"
        }
      ]
    },
    {
      "cell_type": "code",
      "metadata": {
        "id": "TUYxmohS9nP5",
        "colab_type": "code",
        "colab": {
          "base_uri": "https://localhost:8080/",
          "height": 35
        },
        "outputId": "50030908-a07c-461a-b23a-76c2c5bee469"
      },
      "source": [
        "# GBM\n",
        "gbm = GradientBoostingClassifier(random_state=10)\n",
        "gbm.fit(x_train, y_train)\n",
        "y_pred = gbm.predict(x_test)\n",
        "\n",
        "print('acc: ', metrics.accuracy_score(y_test, y_pred))"
      ],
      "execution_count": 7,
      "outputs": [
        {
          "output_type": "stream",
          "text": [
            "acc:  0.9688888888888889\n"
          ],
          "name": "stdout"
        }
      ]
    },
    {
      "cell_type": "code",
      "metadata": {
        "id": "I6jq1Kmr_UP6",
        "colab_type": "code",
        "colab": {
          "base_uri": "https://localhost:8080/",
          "height": 71
        },
        "outputId": "21659d53-f053-4d0e-a3a0-345d3abc2440"
      },
      "source": [
        "n_estimators = [100, 110, 120]\n",
        "max_depth = [2, 3, 4]\n",
        "\n",
        "# grid combination\n",
        "param_grid = dict(n_estimators=n_estimators, max_depth=max_depth)\n",
        "\n",
        "# grid search\n",
        "grid_search = GridSearchCV(gbm, param_grid, scoring=\"accuracy\", n_jobs=-1, verbose=1)\n",
        "grid_result = grid_search.fit(x_train, y_train)"
      ],
      "execution_count": 14,
      "outputs": [
        {
          "output_type": "stream",
          "text": [
            "Fitting 5 folds for each of 9 candidates, totalling 45 fits\n"
          ],
          "name": "stdout"
        },
        {
          "output_type": "stream",
          "text": [
            "[Parallel(n_jobs=-1)]: Using backend LokyBackend with 2 concurrent workers.\n",
            "[Parallel(n_jobs=-1)]: Done  45 out of  45 | elapsed:  3.0min finished\n"
          ],
          "name": "stderr"
        }
      ]
    },
    {
      "cell_type": "code",
      "metadata": {
        "id": "QEfCfaDKB-2x",
        "colab_type": "code",
        "colab": {
          "base_uri": "https://localhost:8080/",
          "height": 35
        },
        "outputId": "b13e4be0-c03c-4178-a83a-50eb87cde513"
      },
      "source": [
        "print(f' best acc: {grid_result.best_score_}, best param: {grid_result.best_params_}')"
      ],
      "execution_count": 15,
      "outputs": [
        {
          "output_type": "stream",
          "text": [
            " best acc: 0.9532452154756988, best param: {'max_depth': 2, 'n_estimators': 110}\n"
          ],
          "name": "stdout"
        }
      ]
    },
    {
      "cell_type": "code",
      "metadata": {
        "id": "o2KAmKBDCTr9",
        "colab_type": "code",
        "colab": {
          "base_uri": "https://localhost:8080/",
          "height": 35
        },
        "outputId": "df064031-21e6-4620-fcc8-ec532a1a3854"
      },
      "source": [
        "gbm_tuned = GradientBoostingClassifier(random_state=10, max_depth=2, n_estimators=110)\n",
        "gbm_tuned.fit(x_train, y_train)\n",
        "y_pred = gbm_tuned.predict(x_test)\n",
        "\n",
        "print('acc: ', metrics.accuracy_score(y_test, y_pred))"
      ],
      "execution_count": 16,
      "outputs": [
        {
          "output_type": "stream",
          "text": [
            "acc:  0.9644444444444444\n"
          ],
          "name": "stdout"
        }
      ]
    },
    {
      "cell_type": "code",
      "metadata": {
        "id": "xLH9-rMoFIwq",
        "colab_type": "code",
        "colab": {
          "base_uri": "https://localhost:8080/",
          "height": 127
        },
        "outputId": "2bd6b884-4ea4-439e-fea5-74a4d6595454"
      },
      "source": [
        "# random search\n",
        "\n",
        "param_grid = {\n",
        "\t'n_estimators': [100, 110, 120],\n",
        "\t'max_depth': [2, 3, 4]\n",
        "}\n",
        "\n",
        "random_search = RandomizedSearchCV(gbm, param_grid, scoring=\"accuracy\", n_jobs=-1, verbose=1)\n",
        "random_result = random_search.fit(x_train, y_train)"
      ],
      "execution_count": 19,
      "outputs": [
        {
          "output_type": "stream",
          "text": [
            "/usr/local/lib/python3.6/dist-packages/sklearn/model_selection/_search.py:281: UserWarning: The total space of parameters 9 is smaller than n_iter=10. Running 9 iterations. For exhaustive searches, use GridSearchCV.\n",
            "  % (grid_size, self.n_iter, grid_size), UserWarning)\n",
            "[Parallel(n_jobs=-1)]: Using backend LokyBackend with 2 concurrent workers.\n"
          ],
          "name": "stderr"
        },
        {
          "output_type": "stream",
          "text": [
            "Fitting 5 folds for each of 9 candidates, totalling 45 fits\n"
          ],
          "name": "stdout"
        },
        {
          "output_type": "stream",
          "text": [
            "[Parallel(n_jobs=-1)]: Done  45 out of  45 | elapsed:  3.0min finished\n"
          ],
          "name": "stderr"
        }
      ]
    },
    {
      "cell_type": "code",
      "metadata": {
        "id": "-QHVR8h8GmxO",
        "colab_type": "code",
        "colab": {
          "base_uri": "https://localhost:8080/",
          "height": 35
        },
        "outputId": "77dd39ee-b101-4d5e-b0ee-6b53b6528522"
      },
      "source": [
        "print(f' best acc: {random_result.best_score_}, best param: {random_result.best_params_}')\n"
      ],
      "execution_count": 20,
      "outputs": [
        {
          "output_type": "stream",
          "text": [
            " best acc: 0.9532452154756988, best param: {'n_estimators': 110, 'max_depth': 2}\n"
          ],
          "name": "stdout"
        }
      ]
    }
  ]
}