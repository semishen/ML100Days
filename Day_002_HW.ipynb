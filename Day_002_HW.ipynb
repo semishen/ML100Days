{
  "nbformat": 4,
  "nbformat_minor": 0,
  "metadata": {
    "kernelspec": {
      "display_name": "Python 3",
      "language": "python",
      "name": "python3"
    },
    "language_info": {
      "codemirror_mode": {
        "name": "ipython",
        "version": 3
      },
      "file_extension": ".py",
      "mimetype": "text/x-python",
      "name": "python",
      "nbconvert_exporter": "python",
      "pygments_lexer": "ipython3",
      "version": "3.6.6"
    },
    "colab": {
      "name": "Day_002_HW.ipynb",
      "provenance": [],
      "collapsed_sections": [],
      "include_colab_link": true
    }
  },
  "cells": [
    {
      "cell_type": "markdown",
      "metadata": {
        "id": "view-in-github",
        "colab_type": "text"
      },
      "source": [
        "<a href=\"https://colab.research.google.com/github/semishen/ML100Days/blob/master/Day_002_HW.ipynb\" target=\"_parent\"><img src=\"https://colab.research.google.com/assets/colab-badge.svg\" alt=\"Open In Colab\"/></a>"
      ]
    },
    {
      "cell_type": "markdown",
      "metadata": {
        "id": "tRJGeib5uoGC",
        "colab_type": "text"
      },
      "source": [
        "## [作業目標]\n",
        "了解機器學習適合應用的領域與範疇。"
      ]
    },
    {
      "cell_type": "markdown",
      "metadata": {
        "id": "LdQzr4yluoGD",
        "colab_type": "text"
      },
      "source": [
        "## [作業重點]\n",
        "透過瞭解機器學習的運作方式，找出非常適用機器學習應用的領域及其原因"
      ]
    },
    {
      "cell_type": "markdown",
      "metadata": {
        "id": "wbZ6swneuoGE",
        "colab_type": "text"
      },
      "source": [
        "## 作業\n",
        "請找出一個你認為機器學習可以發光發熱的領域並闡述原因? "
      ]
    },
    {
      "cell_type": "markdown",
      "metadata": {
        "id": "jnmHScqnuuQU",
        "colab_type": "text"
      },
      "source": [
        "## Cross-Umwelt Communication (跨環境界溝通)\n",
        "### Umwelt (環境界)\n",
        "https://en.wikipedia.org/wiki/Umwelt\n",
        "\n",
        "Umwelt (環境界，又譯環世界)出自於德語，意指環境。在符號理論中，每一種物種都自身的符號傳遞模式(也可以當作溝通模式)，人類的溝通模式大多指向語言、文字，而其他物種的溝通模式卻不易被人們所理解。目前人類僅能由其他物種的外顯行為以及經驗來推斷該物種的狀態以及可能的互動模式（e.g.這盆栽葉子垂垂的，也許他口渴了，我來澆個水吧）。這樣的互動/溝通模式充其量只是一種情感投射。另一方面，是否有直接證據支持，物種有各自符號系統所構成的環境界呢？在科學研究中，鯨魚有複雜的溝通系統，甚至植物也可由電生理與化學訊號與其他植物溝通。\n",
        "\n",
        "### Interface (介面)\n",
        "\n",
        "整體而言環境界有密閉的特性，單一物種很難透過介面技術將內部符號運作**翻譯**成另一種環境界的符號系統。而這一點而許可以被**機械學習**此技術所突破。機械學習可以說是一種維度轉換工具，如果把某一物種的環境界利用機械學習進行維度轉換，將特徵資訊轉變成概念維度模型，或許這個模型便是兩個環境界訊息轉換的介面。\n",
        "\n",
        "### An A.I. model as a Middleware or Interface \n",
        "\n",
        "如果將跨環境界翻譯視為一種函數關係，那 ML model 就是這個函數式，也是主要的翻譯介面，藉由這個介面或許便可以實現跨物種溝通，這不單指人與其他物種，也包含著其他物種與其他物種的溝通，單然 A.I. 或許也可以被視為某種環境界定義下的物種。"
      ]
    }
  ]
}